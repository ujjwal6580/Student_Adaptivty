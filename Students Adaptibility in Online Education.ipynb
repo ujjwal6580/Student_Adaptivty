{
 "cells": [
  {
   "cell_type": "markdown",
   "id": "43a12e80",
   "metadata": {},
   "source": [
    "## Exploratory Data Analysis - Students Adaptivity in Online Education"
   ]
  },
  {
   "cell_type": "code",
   "execution_count": 1,
   "id": "1a19e981",
   "metadata": {},
   "outputs": [],
   "source": [
    "import warnings\n",
    "\n",
    "warnings.filterwarnings(\"ignore\")\n",
    "from statsmodels.tools.sm_exceptions import ConvergenceWarning\n",
    "\n",
    "warnings.simplefilter(\"ignore\", ConvergenceWarning)\n",
    "\n",
    "import pandas as pd\n",
    "import numpy as np\n",
    "import seaborn as sns\n",
    "import matplotlib\n",
    "from matplotlib import pyplot as plt\n",
    "from matplotlib import rcParams\n",
    "from scipy import stats\n",
    "\n",
    "# Removes the limit for the number of displayed columns\n",
    "pd.set_option(\"display.max_columns\", None)\n",
    "# Sets the limit for the number of displayed rows\n",
    "pd.set_option(\"display.max_rows\", 200)\n",
    "# setting the precision of floating numbers to 5 decimal points\n",
    "pd.set_option(\"display.float_format\", lambda x: \"%.5f\" % x)\n",
    "\n",
    "matplotlib.rcParams['font.size'] = 14\n",
    "matplotlib.rcParams['figure.figsize'] = (10, 6)\n",
    "\n",
    "from sklearn.preprocessing import LabelEncoder\n",
    "from sklearn.preprocessing import StandardScaler\n",
    "from sklearn.model_selection import train_test_split"
   ]
  },
  {
   "cell_type": "markdown",
   "id": "f72486bf",
   "metadata": {},
   "source": [
    "### Reading the Data Set"
   ]
  },
  {
   "cell_type": "code",
   "execution_count": 2,
   "id": "f64ac926",
   "metadata": {},
   "outputs": [],
   "source": [
    "df = pd.read_csv('SALOE.csv')"
   ]
  },
  {
   "cell_type": "code",
   "execution_count": 3,
   "id": "ca74a3fd",
   "metadata": {},
   "outputs": [
    {
     "data": {
      "text/html": [
       "<div>\n",
       "<style scoped>\n",
       "    .dataframe tbody tr th:only-of-type {\n",
       "        vertical-align: middle;\n",
       "    }\n",
       "\n",
       "    .dataframe tbody tr th {\n",
       "        vertical-align: top;\n",
       "    }\n",
       "\n",
       "    .dataframe thead th {\n",
       "        text-align: right;\n",
       "    }\n",
       "</style>\n",
       "<table border=\"1\" class=\"dataframe\">\n",
       "  <thead>\n",
       "    <tr style=\"text-align: right;\">\n",
       "      <th></th>\n",
       "      <th>Gender</th>\n",
       "      <th>Age</th>\n",
       "      <th>Education Level</th>\n",
       "      <th>Institution Type</th>\n",
       "      <th>IT Student</th>\n",
       "      <th>Location</th>\n",
       "      <th>Load-shedding</th>\n",
       "      <th>Financial Condition</th>\n",
       "      <th>Internet Type</th>\n",
       "      <th>Network Type</th>\n",
       "      <th>Class Duration</th>\n",
       "      <th>Self Lms</th>\n",
       "      <th>Device</th>\n",
       "      <th>Adaptivity Level</th>\n",
       "    </tr>\n",
       "  </thead>\n",
       "  <tbody>\n",
       "    <tr>\n",
       "      <th>0</th>\n",
       "      <td>Boy</td>\n",
       "      <td>21-25</td>\n",
       "      <td>University</td>\n",
       "      <td>Non Government</td>\n",
       "      <td>No</td>\n",
       "      <td>Yes</td>\n",
       "      <td>Low</td>\n",
       "      <td>Mid</td>\n",
       "      <td>Wifi</td>\n",
       "      <td>4G</td>\n",
       "      <td>3-6</td>\n",
       "      <td>No</td>\n",
       "      <td>Tab</td>\n",
       "      <td>Moderate</td>\n",
       "    </tr>\n",
       "    <tr>\n",
       "      <th>1</th>\n",
       "      <td>Girl</td>\n",
       "      <td>21-25</td>\n",
       "      <td>University</td>\n",
       "      <td>Non Government</td>\n",
       "      <td>No</td>\n",
       "      <td>Yes</td>\n",
       "      <td>High</td>\n",
       "      <td>Mid</td>\n",
       "      <td>Mobile Data</td>\n",
       "      <td>4G</td>\n",
       "      <td>1-3</td>\n",
       "      <td>Yes</td>\n",
       "      <td>Mobile</td>\n",
       "      <td>Moderate</td>\n",
       "    </tr>\n",
       "    <tr>\n",
       "      <th>2</th>\n",
       "      <td>Girl</td>\n",
       "      <td>16-20</td>\n",
       "      <td>College</td>\n",
       "      <td>Government</td>\n",
       "      <td>No</td>\n",
       "      <td>Yes</td>\n",
       "      <td>Low</td>\n",
       "      <td>Mid</td>\n",
       "      <td>Wifi</td>\n",
       "      <td>4G</td>\n",
       "      <td>1-3</td>\n",
       "      <td>No</td>\n",
       "      <td>Mobile</td>\n",
       "      <td>Moderate</td>\n",
       "    </tr>\n",
       "    <tr>\n",
       "      <th>3</th>\n",
       "      <td>Girl</td>\n",
       "      <td>11-15</td>\n",
       "      <td>School</td>\n",
       "      <td>Non Government</td>\n",
       "      <td>No</td>\n",
       "      <td>Yes</td>\n",
       "      <td>Low</td>\n",
       "      <td>Mid</td>\n",
       "      <td>Mobile Data</td>\n",
       "      <td>4G</td>\n",
       "      <td>1-3</td>\n",
       "      <td>No</td>\n",
       "      <td>Mobile</td>\n",
       "      <td>Moderate</td>\n",
       "    </tr>\n",
       "    <tr>\n",
       "      <th>4</th>\n",
       "      <td>Girl</td>\n",
       "      <td>16-20</td>\n",
       "      <td>School</td>\n",
       "      <td>Non Government</td>\n",
       "      <td>No</td>\n",
       "      <td>Yes</td>\n",
       "      <td>Low</td>\n",
       "      <td>Poor</td>\n",
       "      <td>Mobile Data</td>\n",
       "      <td>3G</td>\n",
       "      <td>0</td>\n",
       "      <td>No</td>\n",
       "      <td>Mobile</td>\n",
       "      <td>Low</td>\n",
       "    </tr>\n",
       "  </tbody>\n",
       "</table>\n",
       "</div>"
      ],
      "text/plain": [
       "  Gender    Age Education Level Institution Type IT Student Location  \\\n",
       "0    Boy  21-25      University   Non Government         No      Yes   \n",
       "1   Girl  21-25      University   Non Government         No      Yes   \n",
       "2   Girl  16-20         College       Government         No      Yes   \n",
       "3   Girl  11-15          School   Non Government         No      Yes   \n",
       "4   Girl  16-20          School   Non Government         No      Yes   \n",
       "\n",
       "  Load-shedding Financial Condition Internet Type Network Type Class Duration  \\\n",
       "0           Low                 Mid          Wifi           4G            3-6   \n",
       "1          High                 Mid   Mobile Data           4G            1-3   \n",
       "2           Low                 Mid          Wifi           4G            1-3   \n",
       "3           Low                 Mid   Mobile Data           4G            1-3   \n",
       "4           Low                Poor   Mobile Data           3G              0   \n",
       "\n",
       "  Self Lms  Device Adaptivity Level  \n",
       "0       No     Tab         Moderate  \n",
       "1      Yes  Mobile         Moderate  \n",
       "2       No  Mobile         Moderate  \n",
       "3       No  Mobile         Moderate  \n",
       "4       No  Mobile              Low  "
      ]
     },
     "execution_count": 3,
     "metadata": {},
     "output_type": "execute_result"
    }
   ],
   "source": [
    "df.head()"
   ]
  },
  {
   "cell_type": "code",
   "execution_count": 4,
   "id": "b6d2c579",
   "metadata": {},
   "outputs": [
    {
     "name": "stdout",
     "output_type": "stream",
     "text": [
      "Number of rows are : 1205\n",
      "Number of columns are : 14\n"
     ]
    }
   ],
   "source": [
    "Rows, Columns = df.shape[0], df.shape[1]\n",
    "print(f\"Number of rows are : {Rows}\\nNumber of columns are : {Columns}\")"
   ]
  },
  {
   "cell_type": "markdown",
   "id": "5ed84b0b",
   "metadata": {},
   "source": [
    "### Checking the Data Imbalance"
   ]
  },
  {
   "cell_type": "code",
   "execution_count": 5,
   "id": "52fc0090",
   "metadata": {},
   "outputs": [
    {
     "data": {
      "text/plain": [
       "Adaptivity Level\n",
       "High        100\n",
       "Low         480\n",
       "Moderate    625\n",
       "dtype: int64"
      ]
     },
     "execution_count": 5,
     "metadata": {},
     "output_type": "execute_result"
    }
   ],
   "source": [
    "df.groupby('Adaptivity Level').size()"
   ]
  },
  {
   "cell_type": "markdown",
   "id": "11c6fad0",
   "metadata": {},
   "source": [
    "**Observation for High Level Adaptivity are very less, whereas the other two classes are evenly spread in the data set.**\n",
    "\n",
    "We have 3 approach to deal with this imbalance\n",
    "1. Preferred - Oversampling Minotrity class through \"imblearn.over_sampling.SMOTE()\"\n",
    "2. Less Preferred - Converting the problem to binary classification by clubbing \"High and Moderate\"\n",
    "3. Least preferred - Down Sampling the Majority Class, as number of observations are already very low and doing this can further lead to data loss"
   ]
  },
  {
   "cell_type": "code",
   "execution_count": 6,
   "id": "f54de30f",
   "metadata": {},
   "outputs": [
    {
     "name": "stdout",
     "output_type": "stream",
     "text": [
      "<class 'pandas.core.frame.DataFrame'>\n",
      "RangeIndex: 1205 entries, 0 to 1204\n",
      "Data columns (total 14 columns):\n",
      " #   Column               Non-Null Count  Dtype \n",
      "---  ------               --------------  ----- \n",
      " 0   Gender               1205 non-null   object\n",
      " 1   Age                  1205 non-null   object\n",
      " 2   Education Level      1205 non-null   object\n",
      " 3   Institution Type     1205 non-null   object\n",
      " 4   IT Student           1205 non-null   object\n",
      " 5   Location             1205 non-null   object\n",
      " 6   Load-shedding        1205 non-null   object\n",
      " 7   Financial Condition  1205 non-null   object\n",
      " 8   Internet Type        1205 non-null   object\n",
      " 9   Network Type         1205 non-null   object\n",
      " 10  Class Duration       1205 non-null   object\n",
      " 11  Self Lms             1205 non-null   object\n",
      " 12  Device               1205 non-null   object\n",
      " 13  Adaptivity Level     1205 non-null   object\n",
      "dtypes: object(14)\n",
      "memory usage: 131.9+ KB\n"
     ]
    }
   ],
   "source": [
    "df.info()"
   ]
  },
  {
   "cell_type": "markdown",
   "id": "3f7d780a",
   "metadata": {},
   "source": [
    "The Data set consists of 1205 Rows and 14 Columns with all the colums of object data type"
   ]
  },
  {
   "cell_type": "markdown",
   "id": "6917aa1a",
   "metadata": {},
   "source": [
    "### Checking Standard and Non Standard Null Values"
   ]
  },
  {
   "cell_type": "code",
   "execution_count": 7,
   "id": "27192c24",
   "metadata": {},
   "outputs": [
    {
     "data": {
      "text/plain": [
       "Gender                 0\n",
       "Age                    0\n",
       "Education Level        0\n",
       "Institution Type       0\n",
       "IT Student             0\n",
       "Location               0\n",
       "Load-shedding          0\n",
       "Financial Condition    0\n",
       "Internet Type          0\n",
       "Network Type           0\n",
       "Class Duration         0\n",
       "Self Lms               0\n",
       "Device                 0\n",
       "Adaptivity Level       0\n",
       "dtype: int64"
      ]
     },
     "execution_count": 7,
     "metadata": {},
     "output_type": "execute_result"
    }
   ],
   "source": [
    "df.isnull().sum()\n",
    "# We can se that there are no Standard Missing values in our data set"
   ]
  },
  {
   "cell_type": "markdown",
   "id": "d3294a13",
   "metadata": {},
   "source": [
    "We cannot see any Standard Missing Values Present in our data set"
   ]
  },
  {
   "cell_type": "code",
   "execution_count": 8,
   "id": "02bc85b4",
   "metadata": {},
   "outputs": [
    {
     "name": "stdout",
     "output_type": "stream",
     "text": [
      "1. Column Name : Gender\n",
      "Boy     663\n",
      "Girl    542\n",
      "Name: Gender, dtype: int64 \n",
      "\n",
      "\n",
      "2. Column Name : Age\n",
      "21-25    374\n",
      "11-15    353\n",
      "16-20    278\n",
      "1-5       81\n",
      "26-30     68\n",
      "6-10      51\n",
      "Name: Age, dtype: int64 \n",
      "\n",
      "\n",
      "3. Column Name : Education Level\n",
      "School        530\n",
      "University    456\n",
      "College       219\n",
      "Name: Education Level, dtype: int64 \n",
      "\n",
      "\n",
      "4. Column Name : Institution Type\n",
      "Non Government    823\n",
      "Government        382\n",
      "Name: Institution Type, dtype: int64 \n",
      "\n",
      "\n",
      "5. Column Name : IT Student\n",
      "No     901\n",
      "Yes    304\n",
      "Name: IT Student, dtype: int64 \n",
      "\n",
      "\n",
      "6. Column Name : Location\n",
      "Yes    935\n",
      "No     270\n",
      "Name: Location, dtype: int64 \n",
      "\n",
      "\n",
      "7. Column Name : Load-shedding\n",
      "Low     1004\n",
      "High     201\n",
      "Name: Load-shedding, dtype: int64 \n",
      "\n",
      "\n",
      "8. Column Name : Financial Condition\n",
      "Mid     878\n",
      "Poor    242\n",
      "Rich     85\n",
      "Name: Financial Condition, dtype: int64 \n",
      "\n",
      "\n",
      "9. Column Name : Internet Type\n",
      "Mobile Data    695\n",
      "Wifi           510\n",
      "Name: Internet Type, dtype: int64 \n",
      "\n",
      "\n",
      "10. Column Name : Network Type\n",
      "4G    775\n",
      "3G    411\n",
      "2G     19\n",
      "Name: Network Type, dtype: int64 \n",
      "\n",
      "\n",
      "11. Column Name : Class Duration\n",
      "1-3    840\n",
      "3-6    211\n",
      "0      154\n",
      "Name: Class Duration, dtype: int64 \n",
      "\n",
      "\n",
      "12. Column Name : Self Lms\n",
      "No     995\n",
      "Yes    210\n",
      "Name: Self Lms, dtype: int64 \n",
      "\n",
      "\n",
      "13. Column Name : Device\n",
      "Mobile      1013\n",
      "Computer     162\n",
      "Tab           30\n",
      "Name: Device, dtype: int64 \n",
      "\n",
      "\n",
      "14. Column Name : Adaptivity Level\n",
      "Moderate    625\n",
      "Low         480\n",
      "High        100\n",
      "Name: Adaptivity Level, dtype: int64 \n",
      "\n",
      "\n"
     ]
    }
   ],
   "source": [
    "# Checking for Non Standard Missing values\n",
    "count = 1\n",
    "for i in df:\n",
    "    print(f\"{count}. Column Name : {i}\\n{df[i].value_counts()} \",end='\\n\\n\\n')\n",
    "    count+=1"
   ]
  },
  {
   "cell_type": "markdown",
   "id": "e2f59a7b",
   "metadata": {},
   "source": [
    "After checking all the unique values, we can say that there are no Non Standard Missing Value in the data set either."
   ]
  },
  {
   "cell_type": "markdown",
   "id": "39dcb3dd",
   "metadata": {},
   "source": [
    "Checking for Duplicates in the Data Set"
   ]
  },
  {
   "cell_type": "code",
   "execution_count": 9,
   "id": "af18b097",
   "metadata": {},
   "outputs": [],
   "source": [
    "dr = df.copy()"
   ]
  },
  {
   "cell_type": "code",
   "execution_count": 10,
   "id": "825c85af",
   "metadata": {},
   "outputs": [
    {
     "data": {
      "text/plain": [
       "949"
      ]
     },
     "execution_count": 10,
     "metadata": {},
     "output_type": "execute_result"
    }
   ],
   "source": [
    "dr.duplicated().sum()"
   ]
  },
  {
   "cell_type": "code",
   "execution_count": 11,
   "id": "5972b71b",
   "metadata": {},
   "outputs": [],
   "source": [
    "dr.drop_duplicates(inplace = True)"
   ]
  },
  {
   "cell_type": "code",
   "execution_count": 12,
   "id": "026ceeae",
   "metadata": {},
   "outputs": [
    {
     "data": {
      "text/plain": [
       "0"
      ]
     },
     "execution_count": 12,
     "metadata": {},
     "output_type": "execute_result"
    }
   ],
   "source": [
    "dr.duplicated().sum()"
   ]
  },
  {
   "cell_type": "code",
   "execution_count": 13,
   "id": "d22bd099",
   "metadata": {},
   "outputs": [
    {
     "data": {
      "text/plain": [
       "949"
      ]
     },
     "execution_count": 13,
     "metadata": {},
     "output_type": "execute_result"
    }
   ],
   "source": [
    "df.duplicated().sum()"
   ]
  },
  {
   "cell_type": "markdown",
   "id": "12cdc75f",
   "metadata": {},
   "source": [
    "1. New Copy was made to compare model performance for models with and without Duplicate values. \n",
    "2. Duplicates were removed from the **dr** data set."
   ]
  },
  {
   "cell_type": "markdown",
   "id": "5fcc5f9c",
   "metadata": {},
   "source": [
    "Duplicates removed from the **dr** and **df** has been left with duplicates"
   ]
  },
  {
   "cell_type": "code",
   "execution_count": 14,
   "id": "e3ab06ba",
   "metadata": {},
   "outputs": [
    {
     "data": {
      "text/html": [
       "<div>\n",
       "<style scoped>\n",
       "    .dataframe tbody tr th:only-of-type {\n",
       "        vertical-align: middle;\n",
       "    }\n",
       "\n",
       "    .dataframe tbody tr th {\n",
       "        vertical-align: top;\n",
       "    }\n",
       "\n",
       "    .dataframe thead th {\n",
       "        text-align: right;\n",
       "    }\n",
       "</style>\n",
       "<table border=\"1\" class=\"dataframe\">\n",
       "  <thead>\n",
       "    <tr style=\"text-align: right;\">\n",
       "      <th></th>\n",
       "      <th>Gender</th>\n",
       "      <th>Age</th>\n",
       "      <th>Education Level</th>\n",
       "      <th>Institution Type</th>\n",
       "      <th>IT Student</th>\n",
       "      <th>Location</th>\n",
       "      <th>Load-shedding</th>\n",
       "      <th>Financial Condition</th>\n",
       "      <th>Internet Type</th>\n",
       "      <th>Network Type</th>\n",
       "      <th>Class Duration</th>\n",
       "      <th>Self Lms</th>\n",
       "      <th>Device</th>\n",
       "      <th>Adaptivity Level</th>\n",
       "    </tr>\n",
       "  </thead>\n",
       "  <tbody>\n",
       "    <tr>\n",
       "      <th>0</th>\n",
       "      <td>Boy</td>\n",
       "      <td>21-25</td>\n",
       "      <td>University</td>\n",
       "      <td>Non Government</td>\n",
       "      <td>No</td>\n",
       "      <td>Yes</td>\n",
       "      <td>Low</td>\n",
       "      <td>Mid</td>\n",
       "      <td>Wifi</td>\n",
       "      <td>4G</td>\n",
       "      <td>3-6</td>\n",
       "      <td>No</td>\n",
       "      <td>Tab</td>\n",
       "      <td>Moderate</td>\n",
       "    </tr>\n",
       "    <tr>\n",
       "      <th>1</th>\n",
       "      <td>Girl</td>\n",
       "      <td>21-25</td>\n",
       "      <td>University</td>\n",
       "      <td>Non Government</td>\n",
       "      <td>No</td>\n",
       "      <td>Yes</td>\n",
       "      <td>High</td>\n",
       "      <td>Mid</td>\n",
       "      <td>Mobile Data</td>\n",
       "      <td>4G</td>\n",
       "      <td>1-3</td>\n",
       "      <td>Yes</td>\n",
       "      <td>Mobile</td>\n",
       "      <td>Moderate</td>\n",
       "    </tr>\n",
       "    <tr>\n",
       "      <th>2</th>\n",
       "      <td>Girl</td>\n",
       "      <td>16-20</td>\n",
       "      <td>College</td>\n",
       "      <td>Government</td>\n",
       "      <td>No</td>\n",
       "      <td>Yes</td>\n",
       "      <td>Low</td>\n",
       "      <td>Mid</td>\n",
       "      <td>Wifi</td>\n",
       "      <td>4G</td>\n",
       "      <td>1-3</td>\n",
       "      <td>No</td>\n",
       "      <td>Mobile</td>\n",
       "      <td>Moderate</td>\n",
       "    </tr>\n",
       "    <tr>\n",
       "      <th>3</th>\n",
       "      <td>Girl</td>\n",
       "      <td>11-15</td>\n",
       "      <td>School</td>\n",
       "      <td>Non Government</td>\n",
       "      <td>No</td>\n",
       "      <td>Yes</td>\n",
       "      <td>Low</td>\n",
       "      <td>Mid</td>\n",
       "      <td>Mobile Data</td>\n",
       "      <td>4G</td>\n",
       "      <td>1-3</td>\n",
       "      <td>No</td>\n",
       "      <td>Mobile</td>\n",
       "      <td>Moderate</td>\n",
       "    </tr>\n",
       "    <tr>\n",
       "      <th>4</th>\n",
       "      <td>Girl</td>\n",
       "      <td>16-20</td>\n",
       "      <td>School</td>\n",
       "      <td>Non Government</td>\n",
       "      <td>No</td>\n",
       "      <td>Yes</td>\n",
       "      <td>Low</td>\n",
       "      <td>Poor</td>\n",
       "      <td>Mobile Data</td>\n",
       "      <td>3G</td>\n",
       "      <td>0</td>\n",
       "      <td>No</td>\n",
       "      <td>Mobile</td>\n",
       "      <td>Low</td>\n",
       "    </tr>\n",
       "    <tr>\n",
       "      <th>...</th>\n",
       "      <td>...</td>\n",
       "      <td>...</td>\n",
       "      <td>...</td>\n",
       "      <td>...</td>\n",
       "      <td>...</td>\n",
       "      <td>...</td>\n",
       "      <td>...</td>\n",
       "      <td>...</td>\n",
       "      <td>...</td>\n",
       "      <td>...</td>\n",
       "      <td>...</td>\n",
       "      <td>...</td>\n",
       "      <td>...</td>\n",
       "      <td>...</td>\n",
       "    </tr>\n",
       "    <tr>\n",
       "      <th>1124</th>\n",
       "      <td>Boy</td>\n",
       "      <td>21-25</td>\n",
       "      <td>University</td>\n",
       "      <td>Non Government</td>\n",
       "      <td>Yes</td>\n",
       "      <td>No</td>\n",
       "      <td>High</td>\n",
       "      <td>Mid</td>\n",
       "      <td>Mobile Data</td>\n",
       "      <td>3G</td>\n",
       "      <td>3-6</td>\n",
       "      <td>No</td>\n",
       "      <td>Computer</td>\n",
       "      <td>Low</td>\n",
       "    </tr>\n",
       "    <tr>\n",
       "      <th>1132</th>\n",
       "      <td>Boy</td>\n",
       "      <td>16-20</td>\n",
       "      <td>College</td>\n",
       "      <td>Government</td>\n",
       "      <td>No</td>\n",
       "      <td>Yes</td>\n",
       "      <td>Low</td>\n",
       "      <td>Mid</td>\n",
       "      <td>Mobile Data</td>\n",
       "      <td>3G</td>\n",
       "      <td>1-3</td>\n",
       "      <td>No</td>\n",
       "      <td>Mobile</td>\n",
       "      <td>Moderate</td>\n",
       "    </tr>\n",
       "    <tr>\n",
       "      <th>1149</th>\n",
       "      <td>Girl</td>\n",
       "      <td>16-20</td>\n",
       "      <td>College</td>\n",
       "      <td>Non Government</td>\n",
       "      <td>No</td>\n",
       "      <td>No</td>\n",
       "      <td>Low</td>\n",
       "      <td>Mid</td>\n",
       "      <td>Mobile Data</td>\n",
       "      <td>3G</td>\n",
       "      <td>1-3</td>\n",
       "      <td>Yes</td>\n",
       "      <td>Mobile</td>\n",
       "      <td>Low</td>\n",
       "    </tr>\n",
       "    <tr>\n",
       "      <th>1160</th>\n",
       "      <td>Boy</td>\n",
       "      <td>21-25</td>\n",
       "      <td>University</td>\n",
       "      <td>Non Government</td>\n",
       "      <td>Yes</td>\n",
       "      <td>No</td>\n",
       "      <td>High</td>\n",
       "      <td>Mid</td>\n",
       "      <td>Mobile Data</td>\n",
       "      <td>3G</td>\n",
       "      <td>1-3</td>\n",
       "      <td>Yes</td>\n",
       "      <td>Mobile</td>\n",
       "      <td>Moderate</td>\n",
       "    </tr>\n",
       "    <tr>\n",
       "      <th>1197</th>\n",
       "      <td>Boy</td>\n",
       "      <td>21-25</td>\n",
       "      <td>University</td>\n",
       "      <td>Non Government</td>\n",
       "      <td>Yes</td>\n",
       "      <td>Yes</td>\n",
       "      <td>Low</td>\n",
       "      <td>Mid</td>\n",
       "      <td>Mobile Data</td>\n",
       "      <td>4G</td>\n",
       "      <td>3-6</td>\n",
       "      <td>No</td>\n",
       "      <td>Computer</td>\n",
       "      <td>Moderate</td>\n",
       "    </tr>\n",
       "  </tbody>\n",
       "</table>\n",
       "<p>256 rows × 14 columns</p>\n",
       "</div>"
      ],
      "text/plain": [
       "     Gender    Age Education Level Institution Type IT Student Location  \\\n",
       "0       Boy  21-25      University   Non Government         No      Yes   \n",
       "1      Girl  21-25      University   Non Government         No      Yes   \n",
       "2      Girl  16-20         College       Government         No      Yes   \n",
       "3      Girl  11-15          School   Non Government         No      Yes   \n",
       "4      Girl  16-20          School   Non Government         No      Yes   \n",
       "...     ...    ...             ...              ...        ...      ...   \n",
       "1124    Boy  21-25      University   Non Government        Yes       No   \n",
       "1132    Boy  16-20         College       Government         No      Yes   \n",
       "1149   Girl  16-20         College   Non Government         No       No   \n",
       "1160    Boy  21-25      University   Non Government        Yes       No   \n",
       "1197    Boy  21-25      University   Non Government        Yes      Yes   \n",
       "\n",
       "     Load-shedding Financial Condition Internet Type Network Type  \\\n",
       "0              Low                 Mid          Wifi           4G   \n",
       "1             High                 Mid   Mobile Data           4G   \n",
       "2              Low                 Mid          Wifi           4G   \n",
       "3              Low                 Mid   Mobile Data           4G   \n",
       "4              Low                Poor   Mobile Data           3G   \n",
       "...            ...                 ...           ...          ...   \n",
       "1124          High                 Mid   Mobile Data           3G   \n",
       "1132           Low                 Mid   Mobile Data           3G   \n",
       "1149           Low                 Mid   Mobile Data           3G   \n",
       "1160          High                 Mid   Mobile Data           3G   \n",
       "1197           Low                 Mid   Mobile Data           4G   \n",
       "\n",
       "     Class Duration Self Lms    Device Adaptivity Level  \n",
       "0               3-6       No       Tab         Moderate  \n",
       "1               1-3      Yes    Mobile         Moderate  \n",
       "2               1-3       No    Mobile         Moderate  \n",
       "3               1-3       No    Mobile         Moderate  \n",
       "4                 0       No    Mobile              Low  \n",
       "...             ...      ...       ...              ...  \n",
       "1124            3-6       No  Computer              Low  \n",
       "1132            1-3       No    Mobile         Moderate  \n",
       "1149            1-3      Yes    Mobile              Low  \n",
       "1160            1-3      Yes    Mobile         Moderate  \n",
       "1197            3-6       No  Computer         Moderate  \n",
       "\n",
       "[256 rows x 14 columns]"
      ]
     },
     "execution_count": 14,
     "metadata": {},
     "output_type": "execute_result"
    }
   ],
   "source": [
    "dr"
   ]
  },
  {
   "cell_type": "markdown",
   "id": "370b5a1a",
   "metadata": {},
   "source": [
    "#### The index should be reset as removal of the duplicates had left the index disoriented"
   ]
  },
  {
   "cell_type": "code",
   "execution_count": 15,
   "id": "b0a8b4ad",
   "metadata": {},
   "outputs": [],
   "source": [
    "dr.reset_index(inplace = True)"
   ]
  },
  {
   "cell_type": "code",
   "execution_count": 16,
   "id": "b1e64533",
   "metadata": {},
   "outputs": [],
   "source": [
    "dr.drop('index', axis = 1, inplace=True)\n",
    "# dr.drop(['index', 'b'], axis = 1, inplace=True)\n",
    "# Dropping multiple Index instances."
   ]
  },
  {
   "cell_type": "code",
   "execution_count": 17,
   "id": "1ac7cfe8",
   "metadata": {},
   "outputs": [
    {
     "name": "stdout",
     "output_type": "stream",
     "text": [
      "<class 'pandas.core.frame.DataFrame'>\n",
      "RangeIndex: 256 entries, 0 to 255\n",
      "Data columns (total 14 columns):\n",
      " #   Column               Non-Null Count  Dtype \n",
      "---  ------               --------------  ----- \n",
      " 0   Gender               256 non-null    object\n",
      " 1   Age                  256 non-null    object\n",
      " 2   Education Level      256 non-null    object\n",
      " 3   Institution Type     256 non-null    object\n",
      " 4   IT Student           256 non-null    object\n",
      " 5   Location             256 non-null    object\n",
      " 6   Load-shedding        256 non-null    object\n",
      " 7   Financial Condition  256 non-null    object\n",
      " 8   Internet Type        256 non-null    object\n",
      " 9   Network Type         256 non-null    object\n",
      " 10  Class Duration       256 non-null    object\n",
      " 11  Self Lms             256 non-null    object\n",
      " 12  Device               256 non-null    object\n",
      " 13  Adaptivity Level     256 non-null    object\n",
      "dtypes: object(14)\n",
      "memory usage: 28.1+ KB\n"
     ]
    }
   ],
   "source": [
    "dr.info()"
   ]
  },
  {
   "cell_type": "code",
   "execution_count": 18,
   "id": "d9b9b2e1",
   "metadata": {},
   "outputs": [
    {
     "data": {
      "text/html": [
       "<div>\n",
       "<style scoped>\n",
       "    .dataframe tbody tr th:only-of-type {\n",
       "        vertical-align: middle;\n",
       "    }\n",
       "\n",
       "    .dataframe tbody tr th {\n",
       "        vertical-align: top;\n",
       "    }\n",
       "\n",
       "    .dataframe thead th {\n",
       "        text-align: right;\n",
       "    }\n",
       "</style>\n",
       "<table border=\"1\" class=\"dataframe\">\n",
       "  <thead>\n",
       "    <tr style=\"text-align: right;\">\n",
       "      <th></th>\n",
       "      <th>Gender</th>\n",
       "      <th>Age</th>\n",
       "      <th>Education Level</th>\n",
       "      <th>Institution Type</th>\n",
       "      <th>IT Student</th>\n",
       "      <th>Location</th>\n",
       "      <th>Load-shedding</th>\n",
       "      <th>Financial Condition</th>\n",
       "      <th>Internet Type</th>\n",
       "      <th>Network Type</th>\n",
       "      <th>Class Duration</th>\n",
       "      <th>Self Lms</th>\n",
       "      <th>Device</th>\n",
       "      <th>Adaptivity Level</th>\n",
       "    </tr>\n",
       "  </thead>\n",
       "  <tbody>\n",
       "    <tr>\n",
       "      <th>count</th>\n",
       "      <td>256</td>\n",
       "      <td>256</td>\n",
       "      <td>256</td>\n",
       "      <td>256</td>\n",
       "      <td>256</td>\n",
       "      <td>256</td>\n",
       "      <td>256</td>\n",
       "      <td>256</td>\n",
       "      <td>256</td>\n",
       "      <td>256</td>\n",
       "      <td>256</td>\n",
       "      <td>256</td>\n",
       "      <td>256</td>\n",
       "      <td>256</td>\n",
       "    </tr>\n",
       "    <tr>\n",
       "      <th>unique</th>\n",
       "      <td>2</td>\n",
       "      <td>6</td>\n",
       "      <td>3</td>\n",
       "      <td>2</td>\n",
       "      <td>2</td>\n",
       "      <td>2</td>\n",
       "      <td>2</td>\n",
       "      <td>3</td>\n",
       "      <td>2</td>\n",
       "      <td>3</td>\n",
       "      <td>3</td>\n",
       "      <td>2</td>\n",
       "      <td>3</td>\n",
       "      <td>3</td>\n",
       "    </tr>\n",
       "    <tr>\n",
       "      <th>top</th>\n",
       "      <td>Boy</td>\n",
       "      <td>21-25</td>\n",
       "      <td>University</td>\n",
       "      <td>Non Government</td>\n",
       "      <td>No</td>\n",
       "      <td>Yes</td>\n",
       "      <td>Low</td>\n",
       "      <td>Mid</td>\n",
       "      <td>Mobile Data</td>\n",
       "      <td>4G</td>\n",
       "      <td>1-3</td>\n",
       "      <td>No</td>\n",
       "      <td>Mobile</td>\n",
       "      <td>Moderate</td>\n",
       "    </tr>\n",
       "    <tr>\n",
       "      <th>freq</th>\n",
       "      <td>148</td>\n",
       "      <td>101</td>\n",
       "      <td>121</td>\n",
       "      <td>152</td>\n",
       "      <td>178</td>\n",
       "      <td>182</td>\n",
       "      <td>202</td>\n",
       "      <td>183</td>\n",
       "      <td>138</td>\n",
       "      <td>161</td>\n",
       "      <td>163</td>\n",
       "      <td>198</td>\n",
       "      <td>207</td>\n",
       "      <td>118</td>\n",
       "    </tr>\n",
       "  </tbody>\n",
       "</table>\n",
       "</div>"
      ],
      "text/plain": [
       "       Gender    Age Education Level Institution Type IT Student Location  \\\n",
       "count     256    256             256              256        256      256   \n",
       "unique      2      6               3                2          2        2   \n",
       "top       Boy  21-25      University   Non Government         No      Yes   \n",
       "freq      148    101             121              152        178      182   \n",
       "\n",
       "       Load-shedding Financial Condition Internet Type Network Type  \\\n",
       "count            256                 256           256          256   \n",
       "unique             2                   3             2            3   \n",
       "top              Low                 Mid   Mobile Data           4G   \n",
       "freq             202                 183           138          161   \n",
       "\n",
       "       Class Duration Self Lms  Device Adaptivity Level  \n",
       "count             256      256     256              256  \n",
       "unique              3        2       3                3  \n",
       "top               1-3       No  Mobile         Moderate  \n",
       "freq              163      198     207              118  "
      ]
     },
     "execution_count": 18,
     "metadata": {},
     "output_type": "execute_result"
    }
   ],
   "source": [
    "dr.describe()\n",
    "# Summary for both numerical as well as object class"
   ]
  },
  {
   "cell_type": "markdown",
   "id": "8cd8ba66",
   "metadata": {},
   "source": [
    "Inferences:\n",
    "    \n",
    "1. Duplicate Entries: Total Observations Left after removing duplicates are just 256 against the initial observations count of 1205.\n",
    "2. Gender: The data set has more number of observation for Boys: 148 against the Girls: 108.\n",
    "3. Age: Most of the observation revolve around adults with age between 21 and 25.\n",
    "4. Education Level: Most students are currently in University and there age may me attributed to be close to modal class of Age columns.\n",
    "5. Institution Type: Most of the students are studying in Non Government Institution.\n",
    "6. Location: Very Large percentage of students live in the same location as their institution.\n",
    "7. Load Shedding: Load shedding is very common in our data set with around 80% students experiencing it.\n",
    "8. Financial Condition: Financial condition for most of the students are Mid, where the other categories are High and Low.\n",
    "9. Internet Type: Most of the student work on Mobile Data.\n",
    "10. Network Type: 4G is the most prevalent Network type as seen in the data.\n",
    "11. Class Duration: Most of the classes have time dureation in range of 1 to 3 hours.\n",
    "12. Self LMS: Most of the students dont do self LMS.\n",
    "13. The most common device used in taking the classes are mobile phones.\n",
    "14. Adaptivity Level: This is our target variable with Mostly students being moderately adaptive."
   ]
  },
  {
   "cell_type": "markdown",
   "id": "cc446ae5",
   "metadata": {},
   "source": [
    "### Univariate Analysis"
   ]
  },
  {
   "cell_type": "code",
   "execution_count": 19,
   "id": "52e072ab",
   "metadata": {},
   "outputs": [
    {
     "data": {
      "text/plain": [
       "<AxesSubplot:xlabel='Gender', ylabel='count'>"
      ]
     },
     "execution_count": 19,
     "metadata": {},
     "output_type": "execute_result"
    },
    {
     "data": {
      "image/png": "[encoded data removed]",
      "text/plain": [
       "<Figure size 720x432 with 1 Axes>"
      ]
     },
     "metadata": {
      "needs_background": "light"
     },
     "output_type": "display_data"
    }
   ],
   "source": [
    "# Gender\n",
    "sns.countplot(x = dr['Gender'])"
   ]
  },
  {
   "cell_type": "markdown",
   "id": "580592fa",
   "metadata": {},
   "source": [
    "The observations contain a little more number of boys than girls. This may indicate the below points:-\n",
    "    \n",
    "1. Imbalance among the Gender of Students in the school or college.\n",
    "2. Biased Sampling."
   ]
  },
  {
   "cell_type": "code",
   "execution_count": 20,
   "id": "92f3cbd2",
   "metadata": {},
   "outputs": [
    {
     "data": {
      "text/plain": [
       "<AxesSubplot:xlabel='Age', ylabel='count'>"
      ]
     },
     "execution_count": 20,
     "metadata": {},
     "output_type": "execute_result"
    },
    {
     "data": {
      "image/png": "[encoded data removed]",
      "text/plain": [
       "<Figure size 720x432 with 1 Axes>"
      ]
     },
     "metadata": {
      "needs_background": "light"
     },
     "output_type": "display_data"
    }
   ],
   "source": [
    "# Age\n",
    "sns.countplot(x = dr.Age)"
   ]
  },
  {
   "cell_type": "markdown",
   "id": "bd298a63",
   "metadata": {},
   "source": [
    "1. Most of the students are of the age group \"11-25\".\n",
    "2. There are very less observation for the age group '1-10' and '26-20'"
   ]
  },
  {
   "cell_type": "code",
   "execution_count": 21,
   "id": "923bf48b",
   "metadata": {},
   "outputs": [
    {
     "data": {
      "text/plain": [
       "<AxesSubplot:xlabel='Education Level', ylabel='count'>"
      ]
     },
     "execution_count": 21,
     "metadata": {},
     "output_type": "execute_result"
    },
    {
     "data": {
      "image/png": "[encoded data removed]",
      "text/plain": [
       "<Figure size 720x432 with 1 Axes>"
      ]
     },
     "metadata": {
      "needs_background": "light"
     },
     "output_type": "display_data"
    }
   ],
   "source": [
    "sns.countplot(x ='Education Level', data = dr)"
   ]
  },
  {
   "cell_type": "markdown",
   "id": "2895b7f8",
   "metadata": {},
   "source": [
    "1. The maximum observation has the student stuying in University followed by school with college having the minimum number of of observation"
   ]
  },
  {
   "cell_type": "code",
   "execution_count": 22,
   "id": "5a6c3f3b",
   "metadata": {},
   "outputs": [
    {
     "data": {
      "text/plain": [
       "<AxesSubplot:xlabel='Institution Type', ylabel='count'>"
      ]
     },
     "execution_count": 22,
     "metadata": {},
     "output_type": "execute_result"
    },
    {
     "data": {
      "image/png": "[encoded data removed]",
      "text/plain": [
       "<Figure size 720x432 with 1 Axes>"
      ]
     },
     "metadata": {
      "needs_background": "light"
     },
     "output_type": "display_data"
    }
   ],
   "source": [
    "sns.countplot(x ='Institution Type', data = dr)"
   ]
  },
  {
   "cell_type": "markdown",
   "id": "e55e6403",
   "metadata": {},
   "source": [
    "1. Non Government Educational Institue have more student as compared to government institutions"
   ]
  },
  {
   "cell_type": "code",
   "execution_count": 23,
   "id": "ba8ce262",
   "metadata": {},
   "outputs": [
    {
     "data": {
      "text/plain": [
       "<AxesSubplot:xlabel='IT Student', ylabel='count'>"
      ]
     },
     "execution_count": 23,
     "metadata": {},
     "output_type": "execute_result"
    },
    {
     "data": {
      "image/png": "[encoded data removed]",
      "text/plain": [
       "<Figure size 720x432 with 1 Axes>"
      ]
     },
     "metadata": {
      "needs_background": "light"
     },
     "output_type": "display_data"
    }
   ],
   "source": [
    "sns.countplot(x ='IT Student', data = dr)"
   ]
  },
  {
   "cell_type": "markdown",
   "id": "3317c72a",
   "metadata": {},
   "source": [
    "1.  Major portion of the Observation has students with non IT Background"
   ]
  },
  {
   "cell_type": "code",
   "execution_count": 24,
   "id": "ab4daf2f",
   "metadata": {},
   "outputs": [
    {
     "data": {
      "text/plain": [
       "<AxesSubplot:xlabel='Location', ylabel='count'>"
      ]
     },
     "execution_count": 24,
     "metadata": {},
     "output_type": "execute_result"
    },
    {
     "data": {
      "image/png": "[encoded data removed]",
      "text/plain": [
       "<Figure size 720x432 with 1 Axes>"
      ]
     },
     "metadata": {
      "needs_background": "light"
     },
     "output_type": "display_data"
    }
   ],
   "source": [
    "sns.countplot(x ='Location', data = dr)"
   ]
  },
  {
   "cell_type": "markdown",
   "id": "31ce6e4b",
   "metadata": {},
   "source": [
    "1. ~65% of the Students are living at the same location as of the Educational Institute"
   ]
  },
  {
   "cell_type": "code",
   "execution_count": 25,
   "id": "a54d3b7d",
   "metadata": {},
   "outputs": [
    {
     "data": {
      "text/plain": [
       "<AxesSubplot:xlabel='Load-shedding', ylabel='count'>"
      ]
     },
     "execution_count": 25,
     "metadata": {},
     "output_type": "execute_result"
    },
    {
     "data": {
      "image/png": "[encoded data removed]",
      "text/plain": [
       "<Figure size 720x432 with 1 Axes>"
      ]
     },
     "metadata": {
      "needs_background": "light"
     },
     "output_type": "display_data"
    }
   ],
   "source": [
    "sns.countplot(x ='Load-shedding', data = dr)"
   ]
  },
  {
   "cell_type": "markdown",
   "id": "001aacfa",
   "metadata": {},
   "source": [
    "1. Max Students only experience low electricity outage due to load shedding\n",
    "2. Around 25% of the Students experience high load shedding electricity outage"
   ]
  },
  {
   "cell_type": "code",
   "execution_count": 26,
   "id": "7fe08842",
   "metadata": {},
   "outputs": [
    {
     "data": {
      "text/plain": [
       "<AxesSubplot:xlabel='Financial Condition', ylabel='count'>"
      ]
     },
     "execution_count": 26,
     "metadata": {},
     "output_type": "execute_result"
    },
    {
     "data": {
      "image/png": "[encoded data removed]",
      "text/plain": [
       "<Figure size 720x432 with 1 Axes>"
      ]
     },
     "metadata": {
      "needs_background": "light"
     },
     "output_type": "display_data"
    }
   ],
   "source": [
    "sns.countplot(x ='Financial Condition', data = dr)"
   ]
  },
  {
   "cell_type": "markdown",
   "id": "3beb0f9a",
   "metadata": {},
   "source": [
    "1. Most of the students belong to families with Mid Level Financial Condition. \n",
    "2. There are very less number of students from poor or rich Family\n",
    "\n",
    "\n",
    "** Note : Do a Bivariate analysis on 'Financial Condition' and 'Education Level' **"
   ]
  },
  {
   "cell_type": "code",
   "execution_count": 27,
   "id": "8c60ca0f",
   "metadata": {},
   "outputs": [
    {
     "data": {
      "text/plain": [
       "<AxesSubplot:xlabel='Internet Type', ylabel='count'>"
      ]
     },
     "execution_count": 27,
     "metadata": {},
     "output_type": "execute_result"
    },
    {
     "data": {
      "image/png": "[encoded data removed]",
      "text/plain": [
       "<Figure size 720x432 with 1 Axes>"
      ]
     },
     "metadata": {
      "needs_background": "light"
     },
     "output_type": "display_data"
    }
   ],
   "source": [
    "sns.countplot(x ='Internet Type', data = dr)"
   ]
  },
  {
   "cell_type": "markdown",
   "id": "90980640",
   "metadata": {},
   "source": [
    "Both Mobile and Wifi are evenly used by the students for internet connection"
   ]
  },
  {
   "cell_type": "code",
   "execution_count": 28,
   "id": "c90c487b",
   "metadata": {},
   "outputs": [
    {
     "data": {
      "text/plain": [
       "<AxesSubplot:xlabel='Network Type', ylabel='count'>"
      ]
     },
     "execution_count": 28,
     "metadata": {},
     "output_type": "execute_result"
    },
    {
     "data": {
      "image/png": "[encoded data removed]",
      "text/plain": [
       "<Figure size 720x432 with 1 Axes>"
      ]
     },
     "metadata": {
      "needs_background": "light"
     },
     "output_type": "display_data"
    }
   ],
   "source": [
    "sns.countplot(x ='Network Type', data = dr)"
   ]
  },
  {
   "cell_type": "markdown",
   "id": "5153108c",
   "metadata": {},
   "source": [
    "1. Most of the students are well equipped with latest Network type where as 1/3rd of the students are using 3G network Type too.\n",
    "2. There are very less number of students who are still using 2G network type"
   ]
  },
  {
   "cell_type": "code",
   "execution_count": 29,
   "id": "3e802c53",
   "metadata": {},
   "outputs": [
    {
     "data": {
      "text/plain": [
       "<AxesSubplot:xlabel='Class Duration', ylabel='count'>"
      ]
     },
     "execution_count": 29,
     "metadata": {},
     "output_type": "execute_result"
    },
    {
     "data": {
      "image/png": "[encoded data removed]",
      "text/plain": [
       "<Figure size 720x432 with 1 Axes>"
      ]
     },
     "metadata": {
      "needs_background": "light"
     },
     "output_type": "display_data"
    }
   ],
   "source": [
    "sns.countplot(x ='Class Duration', data = dr)"
   ]
  },
  {
   "cell_type": "markdown",
   "id": "4bb1a205",
   "metadata": {},
   "source": [
    "1. Most of the classes are of the duration of 1-3 hours \n",
    "2. Some observation have 0 as the class duration, this might indicate observations where the class may have been cancled or not attended \n",
    "3. Some classes are of extended duration, where the duration ranges from 3-6"
   ]
  },
  {
   "cell_type": "code",
   "execution_count": 30,
   "id": "23259026",
   "metadata": {},
   "outputs": [
    {
     "data": {
      "text/plain": [
       "<AxesSubplot:xlabel='Self Lms', ylabel='count'>"
      ]
     },
     "execution_count": 30,
     "metadata": {},
     "output_type": "execute_result"
    },
    {
     "data": {
      "image/png": "[encoded data removed]",
      "text/plain": [
       "<Figure size 720x432 with 1 Axes>"
      ]
     },
     "metadata": {
      "needs_background": "light"
     },
     "output_type": "display_data"
    }
   ],
   "source": [
    "sns.countplot(x ='Self Lms', data = dr)"
   ]
  },
  {
   "cell_type": "markdown",
   "id": "38ce034d",
   "metadata": {},
   "source": [
    "1. ~ 1/4th of the students are doing self LMS."
   ]
  },
  {
   "cell_type": "code",
   "execution_count": 31,
   "id": "c216abf6",
   "metadata": {},
   "outputs": [
    {
     "data": {
      "text/plain": [
       "<AxesSubplot:xlabel='Adaptivity Level', ylabel='count'>"
      ]
     },
     "execution_count": 31,
     "metadata": {},
     "output_type": "execute_result"
    },
    {
     "data": {
      "image/png": "[encoded data removed]",
      "text/plain": [
       "<Figure size 720x432 with 1 Axes>"
      ]
     },
     "metadata": {
      "needs_background": "light"
     },
     "output_type": "display_data"
    }
   ],
   "source": [
    "sns.countplot(x ='Adaptivity Level', data = dr)"
   ]
  },
  {
   "cell_type": "markdown",
   "id": "73ff46d2",
   "metadata": {},
   "source": [
    "1. Moderate and Low Adaptivity level are spread evenly among the students in observation, where as there are very less number students with high adaptibility."
   ]
  },
  {
   "cell_type": "code",
   "execution_count": 32,
   "id": "2b784907",
   "metadata": {
    "scrolled": true
   },
   "outputs": [
    {
     "data": {
      "text/plain": [
       "<AxesSubplot:xlabel='Device', ylabel='count'>"
      ]
     },
     "execution_count": 32,
     "metadata": {},
     "output_type": "execute_result"
    },
    {
     "data": {
      "image/png": "[encoded data removed]",
      "text/plain": [
       "<Figure size 720x432 with 1 Axes>"
      ]
     },
     "metadata": {
      "needs_background": "light"
     },
     "output_type": "display_data"
    }
   ],
   "source": [
    "sns.countplot(x ='Device', data = dr)"
   ]
  },
  {
   "cell_type": "markdown",
   "id": "3f8f03ca",
   "metadata": {},
   "source": [
    "1. Most of the Students are using Mobile Device for taking the online classes.\n",
    "2. Computer and tab are used by very less number of Students."
   ]
  },
  {
   "cell_type": "markdown",
   "id": "ca5609df",
   "metadata": {},
   "source": [
    "## Bivariate Analysis"
   ]
  },
  {
   "cell_type": "code",
   "execution_count": 33,
   "id": "1bdcf81e",
   "metadata": {},
   "outputs": [
    {
     "data": {
      "text/plain": [
       "<AxesSubplot:xlabel='Gender', ylabel='count'>"
      ]
     },
     "execution_count": 33,
     "metadata": {},
     "output_type": "execute_result"
    },
    {
     "data": {
      "image/png": "[encoded data removed]",
      "text/plain": [
       "<Figure size 720x432 with 1 Axes>"
      ]
     },
     "metadata": {
      "needs_background": "light"
     },
     "output_type": "display_data"
    }
   ],
   "source": [
    "# Gender vs Adaptibility\n",
    "sns.countplot(data = dr, x = 'Gender', hue='Adaptivity Level')"
   ]
  },
  {
   "cell_type": "markdown",
   "id": "c0a01b8a",
   "metadata": {},
   "source": [
    "A. Boys: Maximum number of boys have Moderate Adaptivity Level followed by Low Adaptivity Level\n",
    "\n",
    "B. Girls: Maximum number of Girls have Low Adaptivity Level followed by Moderate Adaptivity Level\n",
    "\n",
    "\n",
    "1. The Average Adaptivity Level for girls are lower than that of boys\n",
    "2. Very less number of Students are having High Adaptivity level"
   ]
  },
  {
   "cell_type": "code",
   "execution_count": 34,
   "id": "170e3340",
   "metadata": {},
   "outputs": [
    {
     "data": {
      "text/plain": [
       "<AxesSubplot:xlabel='Age', ylabel='count'>"
      ]
     },
     "execution_count": 34,
     "metadata": {},
     "output_type": "execute_result"
    },
    {
     "data": {
      "image/png": "[encoded data removed]",
      "text/plain": [
       "<Figure size 720x432 with 1 Axes>"
      ]
     },
     "metadata": {
      "needs_background": "light"
     },
     "output_type": "display_data"
    }
   ],
   "source": [
    "# Age\n",
    "sns.countplot(x = 'Age', data = dr, hue= 'Adaptivity Level')"
   ]
  },
  {
   "cell_type": "markdown",
   "id": "3c37714b",
   "metadata": {},
   "source": [
    "1. The Average Adaptivity level is seen to be decreasing with the decrease in age for students with age rane of 11 - 25\n",
    "2. The Adaptivity Level for the age grop 1 to 10 and 26-30 are very low and almost same for when compared. \n",
    "\n",
    "**Note: We can consider clubbing the three categories with the least Adaptibility level.**"
   ]
  },
  {
   "cell_type": "code",
   "execution_count": 35,
   "id": "6f022233",
   "metadata": {},
   "outputs": [
    {
     "data": {
      "text/plain": [
       "<AxesSubplot:xlabel='Education Level', ylabel='count'>"
      ]
     },
     "execution_count": 35,
     "metadata": {},
     "output_type": "execute_result"
    },
    {
     "data": {
      "image/png": "[encoded data removed]",
      "text/plain": [
       "<Figure size 720x432 with 1 Axes>"
      ]
     },
     "metadata": {
      "needs_background": "light"
     },
     "output_type": "display_data"
    }
   ],
   "source": [
    "sns.countplot(x ='Education Level', data = dr, hue= 'Adaptivity Level')\n"
   ]
  },
  {
   "cell_type": "markdown",
   "id": "25bf92b9",
   "metadata": {},
   "source": [
    "1. Average Adaptivity Level for the students in university is the highest\n",
    "2. The Adaptibility level for College and School are very close to each other and both are lower than University Students' Adativity Level.\n",
    "3. The Number of students with high adaptivty are lowest in case of College level education, whereas highest in University students.\n",
    "4. High Adaptivity level is highest in schools when compared with other classes as a percentage"
   ]
  },
  {
   "cell_type": "code",
   "execution_count": 36,
   "id": "883c575f",
   "metadata": {},
   "outputs": [
    {
     "data": {
      "text/plain": [
       "<AxesSubplot:xlabel='Institution Type', ylabel='count'>"
      ]
     },
     "execution_count": 36,
     "metadata": {},
     "output_type": "execute_result"
    },
    {
     "data": {
      "image/png": "[encoded data removed]",
      "text/plain": [
       "<Figure size 720x432 with 1 Axes>"
      ]
     },
     "metadata": {
      "needs_background": "light"
     },
     "output_type": "display_data"
    }
   ],
   "source": [
    "sns.countplot(x ='Institution Type', data = dr , hue = 'Adaptivity Level')"
   ]
  },
  {
   "cell_type": "markdown",
   "id": "c824f145",
   "metadata": {},
   "source": [
    "1. Students in Government Intitution are more prone to low Adaptibility level whereas the most prevalent Adaptibility level for Non Government Institutions are Moderate.\n",
    "\n",
    "2. There is high disparity seen in High Adaptitvity Level among students in Governement and Non Government Education Institution  \n",
    "This trend indicated either lack of Facilities for online education in Government Institution or Poor Financial Situation of the students studying there.\n",
    "\n",
    "**Note: Relationship between Institution type and Financial condition to be checked in Bivariate analysis** "
   ]
  },
  {
   "cell_type": "code",
   "execution_count": 37,
   "id": "b8446af9",
   "metadata": {},
   "outputs": [
    {
     "data": {
      "text/plain": [
       "<AxesSubplot:xlabel='Financial Condition', ylabel='count'>"
      ]
     },
     "execution_count": 37,
     "metadata": {},
     "output_type": "execute_result"
    },
    {
     "data": {
      "image/png": "[encoded data removed]",
      "text/plain": [
       "<Figure size 720x432 with 1 Axes>"
      ]
     },
     "metadata": {
      "needs_background": "light"
     },
     "output_type": "display_data"
    }
   ],
   "source": [
    "sns.countplot(x ='Financial Condition', data = dr , hue = 'Adaptivity Level')"
   ]
  },
  {
   "cell_type": "markdown",
   "id": "d23a1d75",
   "metadata": {},
   "source": [
    "1. Rich Students are having better Adaptibility\n",
    "2. Poor Students are having the least Average Adaptivity\n",
    "3. Mid Students are having Most instances of moderate Adaptibility with Low Adaptibility following."
   ]
  },
  {
   "cell_type": "code",
   "execution_count": 38,
   "id": "21fd969b",
   "metadata": {},
   "outputs": [
    {
     "data": {
      "text/plain": [
       "<AxesSubplot:xlabel='IT Student', ylabel='count'>"
      ]
     },
     "execution_count": 38,
     "metadata": {},
     "output_type": "execute_result"
    },
    {
     "data": {
      "image/png": "[encoded data removed]",
      "text/plain": [
       "<Figure size 720x432 with 1 Axes>"
      ]
     },
     "metadata": {
      "needs_background": "light"
     },
     "output_type": "display_data"
    }
   ],
   "source": [
    "sns.countplot(x ='IT Student', data = dr , hue = 'Adaptivity Level')"
   ]
  },
  {
   "cell_type": "markdown",
   "id": "ffd9434c",
   "metadata": {},
   "source": [
    "1. The Data Set has more observation for Non IT Students in compared to IT Students\n",
    "2. IT Students have more students having moderate Adaptivity Level, where as more Non IT Students are seen to be having Low Adaptivity. "
   ]
  },
  {
   "cell_type": "code",
   "execution_count": 39,
   "id": "235644e2",
   "metadata": {},
   "outputs": [
    {
     "data": {
      "text/plain": [
       "<AxesSubplot:xlabel='Location', ylabel='count'>"
      ]
     },
     "execution_count": 39,
     "metadata": {},
     "output_type": "execute_result"
    },
    {
     "data": {
      "image/png": "[encoded data removed]",
      "text/plain": [
       "<Figure size 720x432 with 1 Axes>"
      ]
     },
     "metadata": {
      "needs_background": "light"
     },
     "output_type": "display_data"
    }
   ],
   "source": [
    "sns.countplot(x ='Location', data = dr , hue = 'Adaptivity Level')"
   ]
  },
  {
   "cell_type": "markdown",
   "id": "3f22f178",
   "metadata": {},
   "source": [
    "1. The Data Set has more observation of Students at the same location as that of Educational Institute.\n",
    "2. Students at the same location are more adaptive than students who are not at the same location as of Institution. This trend could be due to the fact that there are some in person support required by the students in mean of counciling, motivation and etc. "
   ]
  },
  {
   "cell_type": "code",
   "execution_count": 40,
   "id": "0af6e2e8",
   "metadata": {},
   "outputs": [
    {
     "data": {
      "text/plain": [
       "<AxesSubplot:xlabel='Load-shedding', ylabel='count'>"
      ]
     },
     "execution_count": 40,
     "metadata": {},
     "output_type": "execute_result"
    },
    {
     "data": {
      "image/png": "[encoded data removed]",
      "text/plain": [
       "<Figure size 720x432 with 1 Axes>"
      ]
     },
     "metadata": {
      "needs_background": "light"
     },
     "output_type": "display_data"
    }
   ],
   "source": [
    "sns.countplot(x ='Load-shedding', data = dr , hue = 'Adaptivity Level')"
   ]
  },
  {
   "cell_type": "markdown",
   "id": "890c1595",
   "metadata": {},
   "source": [
    "High and Moderate productivity are little biased towards the students who witness less load shedding"
   ]
  },
  {
   "cell_type": "code",
   "execution_count": 41,
   "id": "b2ab40d3",
   "metadata": {},
   "outputs": [
    {
     "data": {
      "text/plain": [
       "<AxesSubplot:xlabel='Internet Type', ylabel='count'>"
      ]
     },
     "execution_count": 41,
     "metadata": {},
     "output_type": "execute_result"
    },
    {
     "data": {
      "image/png": "[encoded data removed]",
      "text/plain": [
       "<Figure size 720x432 with 1 Axes>"
      ]
     },
     "metadata": {
      "needs_background": "light"
     },
     "output_type": "display_data"
    }
   ],
   "source": [
    "sns.countplot(x ='Internet Type', data = dr , hue = 'Adaptivity Level')"
   ]
  },
  {
   "cell_type": "markdown",
   "id": "bb53bbc0",
   "metadata": {},
   "source": [
    "1. Higher Adaptivity corresponds to the students having wifi connection, whereas lesser students with mobile data are seen to have high productivity.\n",
    "2. Number of students with Low productivity are reduced when the internet type is wifi and vice versa is true for students with mobile data. "
   ]
  },
  {
   "cell_type": "code",
   "execution_count": 42,
   "id": "495dfc5a",
   "metadata": {},
   "outputs": [
    {
     "data": {
      "text/plain": [
       "<AxesSubplot:xlabel='Network Type', ylabel='count'>"
      ]
     },
     "execution_count": 42,
     "metadata": {},
     "output_type": "execute_result"
    },
    {
     "data": {
      "image/png": "[encoded data removed]",
      "text/plain": [
       "<Figure size 720x432 with 1 Axes>"
      ]
     },
     "metadata": {
      "needs_background": "light"
     },
     "output_type": "display_data"
    }
   ],
   "source": [
    "sns.countplot(x ='Network Type', data = dr , hue = 'Adaptivity Level')"
   ]
  },
  {
   "cell_type": "markdown",
   "id": "4494dc86",
   "metadata": {},
   "source": [
    "1. Number of students with high Adaptibility decrease along with decrease in Network technology.\n",
    "2. Average Adaptibility is highest in case of 4G network type followed by 3G then 2G."
   ]
  },
  {
   "cell_type": "code",
   "execution_count": 43,
   "id": "2f46af58",
   "metadata": {
    "scrolled": true
   },
   "outputs": [
    {
     "data": {
      "text/plain": [
       "<AxesSubplot:xlabel='Class Duration', ylabel='count'>"
      ]
     },
     "execution_count": 43,
     "metadata": {},
     "output_type": "execute_result"
    },
    {
     "data": {
      "image/png": "[encoded data removed]",
      "text/plain": [
       "<Figure size 720x288 with 1 Axes>"
      ]
     },
     "metadata": {
      "needs_background": "light"
     },
     "output_type": "display_data"
    }
   ],
   "source": [
    "plt.figure(figsize = [10,4])\n",
    "sns.countplot(x ='Class Duration', data = dr, hue = 'Adaptivity Level')"
   ]
  },
  {
   "cell_type": "markdown",
   "id": "ab9eb204",
   "metadata": {},
   "source": [
    "1. Maximum percentage of Students having class duration 3-6 hours are having moderate adapticvity.\n",
    "2. Students have low Adaptibility in case of Missed or canceled class (duration = 0)"
   ]
  },
  {
   "cell_type": "code",
   "execution_count": 44,
   "id": "2bc3af70",
   "metadata": {},
   "outputs": [
    {
     "data": {
      "text/plain": [
       "<AxesSubplot:xlabel='Self Lms', ylabel='count'>"
      ]
     },
     "execution_count": 44,
     "metadata": {},
     "output_type": "execute_result"
    },
    {
     "data": {
      "image/png": "[encoded data removed]",
      "text/plain": [
       "<Figure size 720x432 with 1 Axes>"
      ]
     },
     "metadata": {
      "needs_background": "light"
     },
     "output_type": "display_data"
    }
   ],
   "source": [
    "sns.countplot(x ='Self Lms', data = dr , hue = 'Adaptivity Level')"
   ]
  },
  {
   "cell_type": "markdown",
   "id": "8fb2c14d",
   "metadata": {},
   "source": [
    "Self LMS is resulting into increased productivity"
   ]
  },
  {
   "cell_type": "code",
   "execution_count": 45,
   "id": "8d9dccb6",
   "metadata": {
    "scrolled": true
   },
   "outputs": [
    {
     "data": {
      "text/plain": [
       "<AxesSubplot:xlabel='Device', ylabel='count'>"
      ]
     },
     "execution_count": 45,
     "metadata": {},
     "output_type": "execute_result"
    },
    {
     "data": {
      "image/png": "[encoded data removed]",
      "text/plain": [
       "<Figure size 720x288 with 1 Axes>"
      ]
     },
     "metadata": {
      "needs_background": "light"
     },
     "output_type": "display_data"
    }
   ],
   "source": [
    "plt.figure(figsize=[10,4])\n",
    "sns.countplot(x ='Device', data = dr , hue = 'Adaptivity Level')"
   ]
  },
  {
   "cell_type": "markdown",
   "id": "c029826b",
   "metadata": {},
   "source": [
    "1. Students using Mobile are found to have lower adativity whereas the Adaptibility seems to be better in case of Tab and computer\n",
    "2. Most of the students are using Mobile devices, which might indicate non availability of Computers and tab or lack of interest"
   ]
  },
  {
   "cell_type": "markdown",
   "id": "50bfbfb5",
   "metadata": {},
   "source": [
    "## Feature Engineering"
   ]
  },
  {
   "cell_type": "code",
   "execution_count": 46,
   "id": "e64db3b6",
   "metadata": {},
   "outputs": [],
   "source": [
    "dr_temp = dr.copy()"
   ]
  },
  {
   "cell_type": "markdown",
   "id": "dfe46e9d",
   "metadata": {},
   "source": [
    "\n",
    "#### Converting 'Age' to 'Mean_Age'"
   ]
  },
  {
   "cell_type": "code",
   "execution_count": 47,
   "id": "8e9f5f97",
   "metadata": {},
   "outputs": [
    {
     "data": {
      "text/html": [
       "<div>\n",
       "<style scoped>\n",
       "    .dataframe tbody tr th:only-of-type {\n",
       "        vertical-align: middle;\n",
       "    }\n",
       "\n",
       "    .dataframe tbody tr th {\n",
       "        vertical-align: top;\n",
       "    }\n",
       "\n",
       "    .dataframe thead th {\n",
       "        text-align: right;\n",
       "    }\n",
       "</style>\n",
       "<table border=\"1\" class=\"dataframe\">\n",
       "  <thead>\n",
       "    <tr style=\"text-align: right;\">\n",
       "      <th></th>\n",
       "      <th>Gender</th>\n",
       "      <th>Age</th>\n",
       "      <th>Education Level</th>\n",
       "      <th>Institution Type</th>\n",
       "      <th>IT Student</th>\n",
       "      <th>Location</th>\n",
       "      <th>Load-shedding</th>\n",
       "      <th>Financial Condition</th>\n",
       "      <th>Internet Type</th>\n",
       "      <th>Network Type</th>\n",
       "      <th>Class Duration</th>\n",
       "      <th>Self Lms</th>\n",
       "      <th>Device</th>\n",
       "      <th>Adaptivity Level</th>\n",
       "    </tr>\n",
       "  </thead>\n",
       "  <tbody>\n",
       "    <tr>\n",
       "      <th>0</th>\n",
       "      <td>Boy</td>\n",
       "      <td>23</td>\n",
       "      <td>University</td>\n",
       "      <td>Non Government</td>\n",
       "      <td>No</td>\n",
       "      <td>Yes</td>\n",
       "      <td>Low</td>\n",
       "      <td>Mid</td>\n",
       "      <td>Wifi</td>\n",
       "      <td>4G</td>\n",
       "      <td>3-6</td>\n",
       "      <td>No</td>\n",
       "      <td>Tab</td>\n",
       "      <td>Moderate</td>\n",
       "    </tr>\n",
       "    <tr>\n",
       "      <th>1</th>\n",
       "      <td>Girl</td>\n",
       "      <td>23</td>\n",
       "      <td>University</td>\n",
       "      <td>Non Government</td>\n",
       "      <td>No</td>\n",
       "      <td>Yes</td>\n",
       "      <td>High</td>\n",
       "      <td>Mid</td>\n",
       "      <td>Mobile Data</td>\n",
       "      <td>4G</td>\n",
       "      <td>1-3</td>\n",
       "      <td>Yes</td>\n",
       "      <td>Mobile</td>\n",
       "      <td>Moderate</td>\n",
       "    </tr>\n",
       "    <tr>\n",
       "      <th>2</th>\n",
       "      <td>Girl</td>\n",
       "      <td>18</td>\n",
       "      <td>College</td>\n",
       "      <td>Government</td>\n",
       "      <td>No</td>\n",
       "      <td>Yes</td>\n",
       "      <td>Low</td>\n",
       "      <td>Mid</td>\n",
       "      <td>Wifi</td>\n",
       "      <td>4G</td>\n",
       "      <td>1-3</td>\n",
       "      <td>No</td>\n",
       "      <td>Mobile</td>\n",
       "      <td>Moderate</td>\n",
       "    </tr>\n",
       "    <tr>\n",
       "      <th>3</th>\n",
       "      <td>Girl</td>\n",
       "      <td>13</td>\n",
       "      <td>School</td>\n",
       "      <td>Non Government</td>\n",
       "      <td>No</td>\n",
       "      <td>Yes</td>\n",
       "      <td>Low</td>\n",
       "      <td>Mid</td>\n",
       "      <td>Mobile Data</td>\n",
       "      <td>4G</td>\n",
       "      <td>1-3</td>\n",
       "      <td>No</td>\n",
       "      <td>Mobile</td>\n",
       "      <td>Moderate</td>\n",
       "    </tr>\n",
       "    <tr>\n",
       "      <th>4</th>\n",
       "      <td>Girl</td>\n",
       "      <td>18</td>\n",
       "      <td>School</td>\n",
       "      <td>Non Government</td>\n",
       "      <td>No</td>\n",
       "      <td>Yes</td>\n",
       "      <td>Low</td>\n",
       "      <td>Poor</td>\n",
       "      <td>Mobile Data</td>\n",
       "      <td>3G</td>\n",
       "      <td>0</td>\n",
       "      <td>No</td>\n",
       "      <td>Mobile</td>\n",
       "      <td>Low</td>\n",
       "    </tr>\n",
       "    <tr>\n",
       "      <th>...</th>\n",
       "      <td>...</td>\n",
       "      <td>...</td>\n",
       "      <td>...</td>\n",
       "      <td>...</td>\n",
       "      <td>...</td>\n",
       "      <td>...</td>\n",
       "      <td>...</td>\n",
       "      <td>...</td>\n",
       "      <td>...</td>\n",
       "      <td>...</td>\n",
       "      <td>...</td>\n",
       "      <td>...</td>\n",
       "      <td>...</td>\n",
       "      <td>...</td>\n",
       "    </tr>\n",
       "    <tr>\n",
       "      <th>251</th>\n",
       "      <td>Boy</td>\n",
       "      <td>23</td>\n",
       "      <td>University</td>\n",
       "      <td>Non Government</td>\n",
       "      <td>Yes</td>\n",
       "      <td>No</td>\n",
       "      <td>High</td>\n",
       "      <td>Mid</td>\n",
       "      <td>Mobile Data</td>\n",
       "      <td>3G</td>\n",
       "      <td>3-6</td>\n",
       "      <td>No</td>\n",
       "      <td>Computer</td>\n",
       "      <td>Low</td>\n",
       "    </tr>\n",
       "    <tr>\n",
       "      <th>252</th>\n",
       "      <td>Boy</td>\n",
       "      <td>18</td>\n",
       "      <td>College</td>\n",
       "      <td>Government</td>\n",
       "      <td>No</td>\n",
       "      <td>Yes</td>\n",
       "      <td>Low</td>\n",
       "      <td>Mid</td>\n",
       "      <td>Mobile Data</td>\n",
       "      <td>3G</td>\n",
       "      <td>1-3</td>\n",
       "      <td>No</td>\n",
       "      <td>Mobile</td>\n",
       "      <td>Moderate</td>\n",
       "    </tr>\n",
       "    <tr>\n",
       "      <th>253</th>\n",
       "      <td>Girl</td>\n",
       "      <td>18</td>\n",
       "      <td>College</td>\n",
       "      <td>Non Government</td>\n",
       "      <td>No</td>\n",
       "      <td>No</td>\n",
       "      <td>Low</td>\n",
       "      <td>Mid</td>\n",
       "      <td>Mobile Data</td>\n",
       "      <td>3G</td>\n",
       "      <td>1-3</td>\n",
       "      <td>Yes</td>\n",
       "      <td>Mobile</td>\n",
       "      <td>Low</td>\n",
       "    </tr>\n",
       "    <tr>\n",
       "      <th>254</th>\n",
       "      <td>Boy</td>\n",
       "      <td>23</td>\n",
       "      <td>University</td>\n",
       "      <td>Non Government</td>\n",
       "      <td>Yes</td>\n",
       "      <td>No</td>\n",
       "      <td>High</td>\n",
       "      <td>Mid</td>\n",
       "      <td>Mobile Data</td>\n",
       "      <td>3G</td>\n",
       "      <td>1-3</td>\n",
       "      <td>Yes</td>\n",
       "      <td>Mobile</td>\n",
       "      <td>Moderate</td>\n",
       "    </tr>\n",
       "    <tr>\n",
       "      <th>255</th>\n",
       "      <td>Boy</td>\n",
       "      <td>23</td>\n",
       "      <td>University</td>\n",
       "      <td>Non Government</td>\n",
       "      <td>Yes</td>\n",
       "      <td>Yes</td>\n",
       "      <td>Low</td>\n",
       "      <td>Mid</td>\n",
       "      <td>Mobile Data</td>\n",
       "      <td>4G</td>\n",
       "      <td>3-6</td>\n",
       "      <td>No</td>\n",
       "      <td>Computer</td>\n",
       "      <td>Moderate</td>\n",
       "    </tr>\n",
       "  </tbody>\n",
       "</table>\n",
       "<p>256 rows × 14 columns</p>\n",
       "</div>"
      ],
      "text/plain": [
       "    Gender  Age Education Level Institution Type IT Student Location  \\\n",
       "0      Boy   23      University   Non Government         No      Yes   \n",
       "1     Girl   23      University   Non Government         No      Yes   \n",
       "2     Girl   18         College       Government         No      Yes   \n",
       "3     Girl   13          School   Non Government         No      Yes   \n",
       "4     Girl   18          School   Non Government         No      Yes   \n",
       "..     ...  ...             ...              ...        ...      ...   \n",
       "251    Boy   23      University   Non Government        Yes       No   \n",
       "252    Boy   18         College       Government         No      Yes   \n",
       "253   Girl   18         College   Non Government         No       No   \n",
       "254    Boy   23      University   Non Government        Yes       No   \n",
       "255    Boy   23      University   Non Government        Yes      Yes   \n",
       "\n",
       "    Load-shedding Financial Condition Internet Type Network Type  \\\n",
       "0             Low                 Mid          Wifi           4G   \n",
       "1            High                 Mid   Mobile Data           4G   \n",
       "2             Low                 Mid          Wifi           4G   \n",
       "3             Low                 Mid   Mobile Data           4G   \n",
       "4             Low                Poor   Mobile Data           3G   \n",
       "..            ...                 ...           ...          ...   \n",
       "251          High                 Mid   Mobile Data           3G   \n",
       "252           Low                 Mid   Mobile Data           3G   \n",
       "253           Low                 Mid   Mobile Data           3G   \n",
       "254          High                 Mid   Mobile Data           3G   \n",
       "255           Low                 Mid   Mobile Data           4G   \n",
       "\n",
       "    Class Duration Self Lms    Device Adaptivity Level  \n",
       "0              3-6       No       Tab         Moderate  \n",
       "1              1-3      Yes    Mobile         Moderate  \n",
       "2              1-3       No    Mobile         Moderate  \n",
       "3              1-3       No    Mobile         Moderate  \n",
       "4                0       No    Mobile              Low  \n",
       "..             ...      ...       ...              ...  \n",
       "251            3-6       No  Computer              Low  \n",
       "252            1-3       No    Mobile         Moderate  \n",
       "253            1-3      Yes    Mobile              Low  \n",
       "254            1-3      Yes    Mobile         Moderate  \n",
       "255            3-6       No  Computer         Moderate  \n",
       "\n",
       "[256 rows x 14 columns]"
      ]
     },
     "execution_count": 47,
     "metadata": {},
     "output_type": "execute_result"
    }
   ],
   "source": [
    "dr['Age'].replace({'21-25' : 23, '16-20' : 18, '1-5' : 3, '6-10' : 8, '26-30' : 28, '11-15' : 13}, inplace = True)\n",
    "dr"
   ]
  },
  {
   "cell_type": "code",
   "execution_count": 48,
   "id": "7a53763a",
   "metadata": {},
   "outputs": [
    {
     "data": {
      "text/html": [
       "<div>\n",
       "<style scoped>\n",
       "    .dataframe tbody tr th:only-of-type {\n",
       "        vertical-align: middle;\n",
       "    }\n",
       "\n",
       "    .dataframe tbody tr th {\n",
       "        vertical-align: top;\n",
       "    }\n",
       "\n",
       "    .dataframe thead th {\n",
       "        text-align: right;\n",
       "    }\n",
       "</style>\n",
       "<table border=\"1\" class=\"dataframe\">\n",
       "  <thead>\n",
       "    <tr style=\"text-align: right;\">\n",
       "      <th></th>\n",
       "      <th>Gender</th>\n",
       "      <th>Median_age</th>\n",
       "      <th>Education Level</th>\n",
       "      <th>Institution Type</th>\n",
       "      <th>IT Student</th>\n",
       "      <th>Location</th>\n",
       "      <th>Load-shedding</th>\n",
       "      <th>Financial Condition</th>\n",
       "      <th>Internet Type</th>\n",
       "      <th>Network Type</th>\n",
       "      <th>Class Duration</th>\n",
       "      <th>Self Lms</th>\n",
       "      <th>Device</th>\n",
       "      <th>Adaptivity Level</th>\n",
       "    </tr>\n",
       "  </thead>\n",
       "  <tbody>\n",
       "    <tr>\n",
       "      <th>0</th>\n",
       "      <td>Boy</td>\n",
       "      <td>23</td>\n",
       "      <td>University</td>\n",
       "      <td>Non Government</td>\n",
       "      <td>No</td>\n",
       "      <td>Yes</td>\n",
       "      <td>Low</td>\n",
       "      <td>Mid</td>\n",
       "      <td>Wifi</td>\n",
       "      <td>4G</td>\n",
       "      <td>3-6</td>\n",
       "      <td>No</td>\n",
       "      <td>Tab</td>\n",
       "      <td>Moderate</td>\n",
       "    </tr>\n",
       "    <tr>\n",
       "      <th>1</th>\n",
       "      <td>Girl</td>\n",
       "      <td>23</td>\n",
       "      <td>University</td>\n",
       "      <td>Non Government</td>\n",
       "      <td>No</td>\n",
       "      <td>Yes</td>\n",
       "      <td>High</td>\n",
       "      <td>Mid</td>\n",
       "      <td>Mobile Data</td>\n",
       "      <td>4G</td>\n",
       "      <td>1-3</td>\n",
       "      <td>Yes</td>\n",
       "      <td>Mobile</td>\n",
       "      <td>Moderate</td>\n",
       "    </tr>\n",
       "    <tr>\n",
       "      <th>2</th>\n",
       "      <td>Girl</td>\n",
       "      <td>18</td>\n",
       "      <td>College</td>\n",
       "      <td>Government</td>\n",
       "      <td>No</td>\n",
       "      <td>Yes</td>\n",
       "      <td>Low</td>\n",
       "      <td>Mid</td>\n",
       "      <td>Wifi</td>\n",
       "      <td>4G</td>\n",
       "      <td>1-3</td>\n",
       "      <td>No</td>\n",
       "      <td>Mobile</td>\n",
       "      <td>Moderate</td>\n",
       "    </tr>\n",
       "    <tr>\n",
       "      <th>3</th>\n",
       "      <td>Girl</td>\n",
       "      <td>13</td>\n",
       "      <td>School</td>\n",
       "      <td>Non Government</td>\n",
       "      <td>No</td>\n",
       "      <td>Yes</td>\n",
       "      <td>Low</td>\n",
       "      <td>Mid</td>\n",
       "      <td>Mobile Data</td>\n",
       "      <td>4G</td>\n",
       "      <td>1-3</td>\n",
       "      <td>No</td>\n",
       "      <td>Mobile</td>\n",
       "      <td>Moderate</td>\n",
       "    </tr>\n",
       "    <tr>\n",
       "      <th>4</th>\n",
       "      <td>Girl</td>\n",
       "      <td>18</td>\n",
       "      <td>School</td>\n",
       "      <td>Non Government</td>\n",
       "      <td>No</td>\n",
       "      <td>Yes</td>\n",
       "      <td>Low</td>\n",
       "      <td>Poor</td>\n",
       "      <td>Mobile Data</td>\n",
       "      <td>3G</td>\n",
       "      <td>0</td>\n",
       "      <td>No</td>\n",
       "      <td>Mobile</td>\n",
       "      <td>Low</td>\n",
       "    </tr>\n",
       "    <tr>\n",
       "      <th>...</th>\n",
       "      <td>...</td>\n",
       "      <td>...</td>\n",
       "      <td>...</td>\n",
       "      <td>...</td>\n",
       "      <td>...</td>\n",
       "      <td>...</td>\n",
       "      <td>...</td>\n",
       "      <td>...</td>\n",
       "      <td>...</td>\n",
       "      <td>...</td>\n",
       "      <td>...</td>\n",
       "      <td>...</td>\n",
       "      <td>...</td>\n",
       "      <td>...</td>\n",
       "    </tr>\n",
       "    <tr>\n",
       "      <th>251</th>\n",
       "      <td>Boy</td>\n",
       "      <td>23</td>\n",
       "      <td>University</td>\n",
       "      <td>Non Government</td>\n",
       "      <td>Yes</td>\n",
       "      <td>No</td>\n",
       "      <td>High</td>\n",
       "      <td>Mid</td>\n",
       "      <td>Mobile Data</td>\n",
       "      <td>3G</td>\n",
       "      <td>3-6</td>\n",
       "      <td>No</td>\n",
       "      <td>Computer</td>\n",
       "      <td>Low</td>\n",
       "    </tr>\n",
       "    <tr>\n",
       "      <th>252</th>\n",
       "      <td>Boy</td>\n",
       "      <td>18</td>\n",
       "      <td>College</td>\n",
       "      <td>Government</td>\n",
       "      <td>No</td>\n",
       "      <td>Yes</td>\n",
       "      <td>Low</td>\n",
       "      <td>Mid</td>\n",
       "      <td>Mobile Data</td>\n",
       "      <td>3G</td>\n",
       "      <td>1-3</td>\n",
       "      <td>No</td>\n",
       "      <td>Mobile</td>\n",
       "      <td>Moderate</td>\n",
       "    </tr>\n",
       "    <tr>\n",
       "      <th>253</th>\n",
       "      <td>Girl</td>\n",
       "      <td>18</td>\n",
       "      <td>College</td>\n",
       "      <td>Non Government</td>\n",
       "      <td>No</td>\n",
       "      <td>No</td>\n",
       "      <td>Low</td>\n",
       "      <td>Mid</td>\n",
       "      <td>Mobile Data</td>\n",
       "      <td>3G</td>\n",
       "      <td>1-3</td>\n",
       "      <td>Yes</td>\n",
       "      <td>Mobile</td>\n",
       "      <td>Low</td>\n",
       "    </tr>\n",
       "    <tr>\n",
       "      <th>254</th>\n",
       "      <td>Boy</td>\n",
       "      <td>23</td>\n",
       "      <td>University</td>\n",
       "      <td>Non Government</td>\n",
       "      <td>Yes</td>\n",
       "      <td>No</td>\n",
       "      <td>High</td>\n",
       "      <td>Mid</td>\n",
       "      <td>Mobile Data</td>\n",
       "      <td>3G</td>\n",
       "      <td>1-3</td>\n",
       "      <td>Yes</td>\n",
       "      <td>Mobile</td>\n",
       "      <td>Moderate</td>\n",
       "    </tr>\n",
       "    <tr>\n",
       "      <th>255</th>\n",
       "      <td>Boy</td>\n",
       "      <td>23</td>\n",
       "      <td>University</td>\n",
       "      <td>Non Government</td>\n",
       "      <td>Yes</td>\n",
       "      <td>Yes</td>\n",
       "      <td>Low</td>\n",
       "      <td>Mid</td>\n",
       "      <td>Mobile Data</td>\n",
       "      <td>4G</td>\n",
       "      <td>3-6</td>\n",
       "      <td>No</td>\n",
       "      <td>Computer</td>\n",
       "      <td>Moderate</td>\n",
       "    </tr>\n",
       "  </tbody>\n",
       "</table>\n",
       "<p>256 rows × 14 columns</p>\n",
       "</div>"
      ],
      "text/plain": [
       "    Gender  Median_age Education Level Institution Type IT Student Location  \\\n",
       "0      Boy          23      University   Non Government         No      Yes   \n",
       "1     Girl          23      University   Non Government         No      Yes   \n",
       "2     Girl          18         College       Government         No      Yes   \n",
       "3     Girl          13          School   Non Government         No      Yes   \n",
       "4     Girl          18          School   Non Government         No      Yes   \n",
       "..     ...         ...             ...              ...        ...      ...   \n",
       "251    Boy          23      University   Non Government        Yes       No   \n",
       "252    Boy          18         College       Government         No      Yes   \n",
       "253   Girl          18         College   Non Government         No       No   \n",
       "254    Boy          23      University   Non Government        Yes       No   \n",
       "255    Boy          23      University   Non Government        Yes      Yes   \n",
       "\n",
       "    Load-shedding Financial Condition Internet Type Network Type  \\\n",
       "0             Low                 Mid          Wifi           4G   \n",
       "1            High                 Mid   Mobile Data           4G   \n",
       "2             Low                 Mid          Wifi           4G   \n",
       "3             Low                 Mid   Mobile Data           4G   \n",
       "4             Low                Poor   Mobile Data           3G   \n",
       "..            ...                 ...           ...          ...   \n",
       "251          High                 Mid   Mobile Data           3G   \n",
       "252           Low                 Mid   Mobile Data           3G   \n",
       "253           Low                 Mid   Mobile Data           3G   \n",
       "254          High                 Mid   Mobile Data           3G   \n",
       "255           Low                 Mid   Mobile Data           4G   \n",
       "\n",
       "    Class Duration Self Lms    Device Adaptivity Level  \n",
       "0              3-6       No       Tab         Moderate  \n",
       "1              1-3      Yes    Mobile         Moderate  \n",
       "2              1-3       No    Mobile         Moderate  \n",
       "3              1-3       No    Mobile         Moderate  \n",
       "4                0       No    Mobile              Low  \n",
       "..             ...      ...       ...              ...  \n",
       "251            3-6       No  Computer              Low  \n",
       "252            1-3       No    Mobile         Moderate  \n",
       "253            1-3      Yes    Mobile              Low  \n",
       "254            1-3      Yes    Mobile         Moderate  \n",
       "255            3-6       No  Computer         Moderate  \n",
       "\n",
       "[256 rows x 14 columns]"
      ]
     },
     "execution_count": 48,
     "metadata": {},
     "output_type": "execute_result"
    }
   ],
   "source": [
    "dr.rename(columns = {'Age': 'Median_age'}, inplace = True)\n",
    "dr"
   ]
  },
  {
   "cell_type": "markdown",
   "id": "61531026",
   "metadata": {},
   "source": [
    "#### Changing values in Class Duration and renaming the column to maximum duration"
   ]
  },
  {
   "cell_type": "code",
   "execution_count": 49,
   "id": "b2319849",
   "metadata": {},
   "outputs": [],
   "source": [
    "for i in dr['Class Duration']:\n",
    "    dr['Class Duration'].replace(i,i[-1], inplace = True)\n",
    "dr.rename(columns = {'Class Duration': 'Max_duration'}, inplace = True)"
   ]
  },
  {
   "cell_type": "code",
   "execution_count": 50,
   "id": "beece229",
   "metadata": {},
   "outputs": [
    {
     "name": "stdout",
     "output_type": "stream",
     "text": [
      "<class 'pandas.core.frame.DataFrame'>\n",
      "RangeIndex: 256 entries, 0 to 255\n",
      "Data columns (total 14 columns):\n",
      " #   Column               Non-Null Count  Dtype \n",
      "---  ------               --------------  ----- \n",
      " 0   Gender               256 non-null    object\n",
      " 1   Median_age           256 non-null    int64 \n",
      " 2   Education Level      256 non-null    object\n",
      " 3   Institution Type     256 non-null    object\n",
      " 4   IT Student           256 non-null    object\n",
      " 5   Location             256 non-null    object\n",
      " 6   Load-shedding        256 non-null    object\n",
      " 7   Financial Condition  256 non-null    object\n",
      " 8   Internet Type        256 non-null    object\n",
      " 9   Network Type         256 non-null    object\n",
      " 10  Max_duration         256 non-null    object\n",
      " 11  Self Lms             256 non-null    object\n",
      " 12  Device               256 non-null    object\n",
      " 13  Adaptivity Level     256 non-null    object\n",
      "dtypes: int64(1), object(13)\n",
      "memory usage: 28.1+ KB\n"
     ]
    }
   ],
   "source": [
    "dr.info()"
   ]
  },
  {
   "cell_type": "markdown",
   "id": "931851be",
   "metadata": {},
   "source": [
    "#### Converting Data type of Age from 'int' to 'object'"
   ]
  },
  {
   "cell_type": "code",
   "execution_count": 51,
   "id": "5284ea89",
   "metadata": {},
   "outputs": [],
   "source": [
    "dr['Median_age'] = dr['Median_age'].astype(object) "
   ]
  },
  {
   "cell_type": "code",
   "execution_count": 52,
   "id": "a0b021cc",
   "metadata": {},
   "outputs": [
    {
     "name": "stdout",
     "output_type": "stream",
     "text": [
      "<class 'pandas.core.frame.DataFrame'>\n",
      "RangeIndex: 256 entries, 0 to 255\n",
      "Data columns (total 14 columns):\n",
      " #   Column               Non-Null Count  Dtype \n",
      "---  ------               --------------  ----- \n",
      " 0   Gender               256 non-null    object\n",
      " 1   Median_age           256 non-null    object\n",
      " 2   Education Level      256 non-null    object\n",
      " 3   Institution Type     256 non-null    object\n",
      " 4   IT Student           256 non-null    object\n",
      " 5   Location             256 non-null    object\n",
      " 6   Load-shedding        256 non-null    object\n",
      " 7   Financial Condition  256 non-null    object\n",
      " 8   Internet Type        256 non-null    object\n",
      " 9   Network Type         256 non-null    object\n",
      " 10  Max_duration         256 non-null    object\n",
      " 11  Self Lms             256 non-null    object\n",
      " 12  Device               256 non-null    object\n",
      " 13  Adaptivity Level     256 non-null    object\n",
      "dtypes: object(14)\n",
      "memory usage: 28.1+ KB\n"
     ]
    }
   ],
   "source": [
    "dr.info()\n",
    "# The data Type has been successfully changed"
   ]
  },
  {
   "cell_type": "markdown",
   "id": "5fcc5729",
   "metadata": {},
   "source": [
    "## Separating the dependent and the independent variables"
   ]
  },
  {
   "cell_type": "code",
   "execution_count": 53,
   "id": "792758d7",
   "metadata": {},
   "outputs": [
    {
     "data": {
      "text/html": [
       "<div>\n",
       "<style scoped>\n",
       "    .dataframe tbody tr th:only-of-type {\n",
       "        vertical-align: middle;\n",
       "    }\n",
       "\n",
       "    .dataframe tbody tr th {\n",
       "        vertical-align: top;\n",
       "    }\n",
       "\n",
       "    .dataframe thead th {\n",
       "        text-align: right;\n",
       "    }\n",
       "</style>\n",
       "<table border=\"1\" class=\"dataframe\">\n",
       "  <thead>\n",
       "    <tr style=\"text-align: right;\">\n",
       "      <th></th>\n",
       "      <th>Gender</th>\n",
       "      <th>Median_age</th>\n",
       "      <th>Education Level</th>\n",
       "      <th>Institution Type</th>\n",
       "      <th>IT Student</th>\n",
       "      <th>Location</th>\n",
       "      <th>Load-shedding</th>\n",
       "      <th>Financial Condition</th>\n",
       "      <th>Internet Type</th>\n",
       "      <th>Network Type</th>\n",
       "      <th>Max_duration</th>\n",
       "      <th>Self Lms</th>\n",
       "      <th>Device</th>\n",
       "    </tr>\n",
       "  </thead>\n",
       "  <tbody>\n",
       "    <tr>\n",
       "      <th>0</th>\n",
       "      <td>Boy</td>\n",
       "      <td>23</td>\n",
       "      <td>University</td>\n",
       "      <td>Non Government</td>\n",
       "      <td>No</td>\n",
       "      <td>Yes</td>\n",
       "      <td>Low</td>\n",
       "      <td>Mid</td>\n",
       "      <td>Wifi</td>\n",
       "      <td>4G</td>\n",
       "      <td>6</td>\n",
       "      <td>No</td>\n",
       "      <td>Tab</td>\n",
       "    </tr>\n",
       "    <tr>\n",
       "      <th>1</th>\n",
       "      <td>Girl</td>\n",
       "      <td>23</td>\n",
       "      <td>University</td>\n",
       "      <td>Non Government</td>\n",
       "      <td>No</td>\n",
       "      <td>Yes</td>\n",
       "      <td>High</td>\n",
       "      <td>Mid</td>\n",
       "      <td>Mobile Data</td>\n",
       "      <td>4G</td>\n",
       "      <td>3</td>\n",
       "      <td>Yes</td>\n",
       "      <td>Mobile</td>\n",
       "    </tr>\n",
       "    <tr>\n",
       "      <th>2</th>\n",
       "      <td>Girl</td>\n",
       "      <td>18</td>\n",
       "      <td>College</td>\n",
       "      <td>Government</td>\n",
       "      <td>No</td>\n",
       "      <td>Yes</td>\n",
       "      <td>Low</td>\n",
       "      <td>Mid</td>\n",
       "      <td>Wifi</td>\n",
       "      <td>4G</td>\n",
       "      <td>3</td>\n",
       "      <td>No</td>\n",
       "      <td>Mobile</td>\n",
       "    </tr>\n",
       "    <tr>\n",
       "      <th>3</th>\n",
       "      <td>Girl</td>\n",
       "      <td>13</td>\n",
       "      <td>School</td>\n",
       "      <td>Non Government</td>\n",
       "      <td>No</td>\n",
       "      <td>Yes</td>\n",
       "      <td>Low</td>\n",
       "      <td>Mid</td>\n",
       "      <td>Mobile Data</td>\n",
       "      <td>4G</td>\n",
       "      <td>3</td>\n",
       "      <td>No</td>\n",
       "      <td>Mobile</td>\n",
       "    </tr>\n",
       "    <tr>\n",
       "      <th>4</th>\n",
       "      <td>Girl</td>\n",
       "      <td>18</td>\n",
       "      <td>School</td>\n",
       "      <td>Non Government</td>\n",
       "      <td>No</td>\n",
       "      <td>Yes</td>\n",
       "      <td>Low</td>\n",
       "      <td>Poor</td>\n",
       "      <td>Mobile Data</td>\n",
       "      <td>3G</td>\n",
       "      <td>0</td>\n",
       "      <td>No</td>\n",
       "      <td>Mobile</td>\n",
       "    </tr>\n",
       "    <tr>\n",
       "      <th>...</th>\n",
       "      <td>...</td>\n",
       "      <td>...</td>\n",
       "      <td>...</td>\n",
       "      <td>...</td>\n",
       "      <td>...</td>\n",
       "      <td>...</td>\n",
       "      <td>...</td>\n",
       "      <td>...</td>\n",
       "      <td>...</td>\n",
       "      <td>...</td>\n",
       "      <td>...</td>\n",
       "      <td>...</td>\n",
       "      <td>...</td>\n",
       "    </tr>\n",
       "    <tr>\n",
       "      <th>251</th>\n",
       "      <td>Boy</td>\n",
       "      <td>23</td>\n",
       "      <td>University</td>\n",
       "      <td>Non Government</td>\n",
       "      <td>Yes</td>\n",
       "      <td>No</td>\n",
       "      <td>High</td>\n",
       "      <td>Mid</td>\n",
       "      <td>Mobile Data</td>\n",
       "      <td>3G</td>\n",
       "      <td>6</td>\n",
       "      <td>No</td>\n",
       "      <td>Computer</td>\n",
       "    </tr>\n",
       "    <tr>\n",
       "      <th>252</th>\n",
       "      <td>Boy</td>\n",
       "      <td>18</td>\n",
       "      <td>College</td>\n",
       "      <td>Government</td>\n",
       "      <td>No</td>\n",
       "      <td>Yes</td>\n",
       "      <td>Low</td>\n",
       "      <td>Mid</td>\n",
       "      <td>Mobile Data</td>\n",
       "      <td>3G</td>\n",
       "      <td>3</td>\n",
       "      <td>No</td>\n",
       "      <td>Mobile</td>\n",
       "    </tr>\n",
       "    <tr>\n",
       "      <th>253</th>\n",
       "      <td>Girl</td>\n",
       "      <td>18</td>\n",
       "      <td>College</td>\n",
       "      <td>Non Government</td>\n",
       "      <td>No</td>\n",
       "      <td>No</td>\n",
       "      <td>Low</td>\n",
       "      <td>Mid</td>\n",
       "      <td>Mobile Data</td>\n",
       "      <td>3G</td>\n",
       "      <td>3</td>\n",
       "      <td>Yes</td>\n",
       "      <td>Mobile</td>\n",
       "    </tr>\n",
       "    <tr>\n",
       "      <th>254</th>\n",
       "      <td>Boy</td>\n",
       "      <td>23</td>\n",
       "      <td>University</td>\n",
       "      <td>Non Government</td>\n",
       "      <td>Yes</td>\n",
       "      <td>No</td>\n",
       "      <td>High</td>\n",
       "      <td>Mid</td>\n",
       "      <td>Mobile Data</td>\n",
       "      <td>3G</td>\n",
       "      <td>3</td>\n",
       "      <td>Yes</td>\n",
       "      <td>Mobile</td>\n",
       "    </tr>\n",
       "    <tr>\n",
       "      <th>255</th>\n",
       "      <td>Boy</td>\n",
       "      <td>23</td>\n",
       "      <td>University</td>\n",
       "      <td>Non Government</td>\n",
       "      <td>Yes</td>\n",
       "      <td>Yes</td>\n",
       "      <td>Low</td>\n",
       "      <td>Mid</td>\n",
       "      <td>Mobile Data</td>\n",
       "      <td>4G</td>\n",
       "      <td>6</td>\n",
       "      <td>No</td>\n",
       "      <td>Computer</td>\n",
       "    </tr>\n",
       "  </tbody>\n",
       "</table>\n",
       "<p>256 rows × 13 columns</p>\n",
       "</div>"
      ],
      "text/plain": [
       "    Gender Median_age Education Level Institution Type IT Student Location  \\\n",
       "0      Boy         23      University   Non Government         No      Yes   \n",
       "1     Girl         23      University   Non Government         No      Yes   \n",
       "2     Girl         18         College       Government         No      Yes   \n",
       "3     Girl         13          School   Non Government         No      Yes   \n",
       "4     Girl         18          School   Non Government         No      Yes   \n",
       "..     ...        ...             ...              ...        ...      ...   \n",
       "251    Boy         23      University   Non Government        Yes       No   \n",
       "252    Boy         18         College       Government         No      Yes   \n",
       "253   Girl         18         College   Non Government         No       No   \n",
       "254    Boy         23      University   Non Government        Yes       No   \n",
       "255    Boy         23      University   Non Government        Yes      Yes   \n",
       "\n",
       "    Load-shedding Financial Condition Internet Type Network Type Max_duration  \\\n",
       "0             Low                 Mid          Wifi           4G            6   \n",
       "1            High                 Mid   Mobile Data           4G            3   \n",
       "2             Low                 Mid          Wifi           4G            3   \n",
       "3             Low                 Mid   Mobile Data           4G            3   \n",
       "4             Low                Poor   Mobile Data           3G            0   \n",
       "..            ...                 ...           ...          ...          ...   \n",
       "251          High                 Mid   Mobile Data           3G            6   \n",
       "252           Low                 Mid   Mobile Data           3G            3   \n",
       "253           Low                 Mid   Mobile Data           3G            3   \n",
       "254          High                 Mid   Mobile Data           3G            3   \n",
       "255           Low                 Mid   Mobile Data           4G            6   \n",
       "\n",
       "    Self Lms    Device  \n",
       "0         No       Tab  \n",
       "1        Yes    Mobile  \n",
       "2         No    Mobile  \n",
       "3         No    Mobile  \n",
       "4         No    Mobile  \n",
       "..       ...       ...  \n",
       "251       No  Computer  \n",
       "252       No    Mobile  \n",
       "253      Yes    Mobile  \n",
       "254      Yes    Mobile  \n",
       "255       No  Computer  \n",
       "\n",
       "[256 rows x 13 columns]"
      ]
     },
     "execution_count": 53,
     "metadata": {},
     "output_type": "execute_result"
    }
   ],
   "source": [
    "cativs = dr.drop('Adaptivity Level', axis = 1)\n",
    "cativs"
   ]
  },
  {
   "cell_type": "code",
   "execution_count": 54,
   "id": "d5d323a9",
   "metadata": {},
   "outputs": [
    {
     "data": {
      "text/plain": [
       "0      Moderate\n",
       "1      Moderate\n",
       "2      Moderate\n",
       "3      Moderate\n",
       "4           Low\n",
       "         ...   \n",
       "251         Low\n",
       "252    Moderate\n",
       "253         Low\n",
       "254    Moderate\n",
       "255    Moderate\n",
       "Name: Adaptivity Level, Length: 256, dtype: object"
      ]
     },
     "execution_count": 54,
     "metadata": {},
     "output_type": "execute_result"
    }
   ],
   "source": [
    "y = dr['Adaptivity Level']\n",
    "y"
   ]
  },
  {
   "cell_type": "code",
   "execution_count": 55,
   "id": "567aedb6",
   "metadata": {},
   "outputs": [
    {
     "data": {
      "text/plain": [
       "0      Moderate\n",
       "1      Moderate\n",
       "2      Moderate\n",
       "3      Moderate\n",
       "4           Low\n",
       "         ...   \n",
       "251         Low\n",
       "252    Moderate\n",
       "253         Low\n",
       "254    Moderate\n",
       "255    Moderate\n",
       "Name: Adaptivity Level, Length: 256, dtype: object"
      ]
     },
     "execution_count": 55,
     "metadata": {},
     "output_type": "execute_result"
    }
   ],
   "source": [
    "y"
   ]
  },
  {
   "cell_type": "markdown",
   "id": "bba90604",
   "metadata": {},
   "source": [
    "### Feature significance\n",
    "Checking Feature Importance through Chi- Square test"
   ]
  },
  {
   "cell_type": "code",
   "execution_count": 56,
   "id": "a3bd736d",
   "metadata": {},
   "outputs": [
    {
     "data": {
      "text/html": [
       "<div>\n",
       "<style scoped>\n",
       "    .dataframe tbody tr th:only-of-type {\n",
       "        vertical-align: middle;\n",
       "    }\n",
       "\n",
       "    .dataframe tbody tr th {\n",
       "        vertical-align: top;\n",
       "    }\n",
       "\n",
       "    .dataframe thead th {\n",
       "        text-align: right;\n",
       "    }\n",
       "</style>\n",
       "<table border=\"1\" class=\"dataframe\">\n",
       "  <thead>\n",
       "    <tr style=\"text-align: right;\">\n",
       "      <th></th>\n",
       "      <th>Gender</th>\n",
       "      <th>Median_age</th>\n",
       "      <th>Education Level</th>\n",
       "      <th>Institution Type</th>\n",
       "      <th>IT Student</th>\n",
       "      <th>Location</th>\n",
       "      <th>Load-shedding</th>\n",
       "      <th>Financial Condition</th>\n",
       "      <th>Internet Type</th>\n",
       "      <th>Network Type</th>\n",
       "      <th>Max_duration</th>\n",
       "      <th>Self Lms</th>\n",
       "      <th>Device</th>\n",
       "    </tr>\n",
       "  </thead>\n",
       "  <tbody>\n",
       "    <tr>\n",
       "      <th>0</th>\n",
       "      <td>Boy</td>\n",
       "      <td>23</td>\n",
       "      <td>University</td>\n",
       "      <td>Non Government</td>\n",
       "      <td>No</td>\n",
       "      <td>Yes</td>\n",
       "      <td>Low</td>\n",
       "      <td>Mid</td>\n",
       "      <td>Wifi</td>\n",
       "      <td>4G</td>\n",
       "      <td>6</td>\n",
       "      <td>No</td>\n",
       "      <td>Tab</td>\n",
       "    </tr>\n",
       "    <tr>\n",
       "      <th>1</th>\n",
       "      <td>Girl</td>\n",
       "      <td>23</td>\n",
       "      <td>University</td>\n",
       "      <td>Non Government</td>\n",
       "      <td>No</td>\n",
       "      <td>Yes</td>\n",
       "      <td>High</td>\n",
       "      <td>Mid</td>\n",
       "      <td>Mobile Data</td>\n",
       "      <td>4G</td>\n",
       "      <td>3</td>\n",
       "      <td>Yes</td>\n",
       "      <td>Mobile</td>\n",
       "    </tr>\n",
       "    <tr>\n",
       "      <th>2</th>\n",
       "      <td>Girl</td>\n",
       "      <td>18</td>\n",
       "      <td>College</td>\n",
       "      <td>Government</td>\n",
       "      <td>No</td>\n",
       "      <td>Yes</td>\n",
       "      <td>Low</td>\n",
       "      <td>Mid</td>\n",
       "      <td>Wifi</td>\n",
       "      <td>4G</td>\n",
       "      <td>3</td>\n",
       "      <td>No</td>\n",
       "      <td>Mobile</td>\n",
       "    </tr>\n",
       "    <tr>\n",
       "      <th>3</th>\n",
       "      <td>Girl</td>\n",
       "      <td>13</td>\n",
       "      <td>School</td>\n",
       "      <td>Non Government</td>\n",
       "      <td>No</td>\n",
       "      <td>Yes</td>\n",
       "      <td>Low</td>\n",
       "      <td>Mid</td>\n",
       "      <td>Mobile Data</td>\n",
       "      <td>4G</td>\n",
       "      <td>3</td>\n",
       "      <td>No</td>\n",
       "      <td>Mobile</td>\n",
       "    </tr>\n",
       "    <tr>\n",
       "      <th>4</th>\n",
       "      <td>Girl</td>\n",
       "      <td>18</td>\n",
       "      <td>School</td>\n",
       "      <td>Non Government</td>\n",
       "      <td>No</td>\n",
       "      <td>Yes</td>\n",
       "      <td>Low</td>\n",
       "      <td>Poor</td>\n",
       "      <td>Mobile Data</td>\n",
       "      <td>3G</td>\n",
       "      <td>0</td>\n",
       "      <td>No</td>\n",
       "      <td>Mobile</td>\n",
       "    </tr>\n",
       "    <tr>\n",
       "      <th>...</th>\n",
       "      <td>...</td>\n",
       "      <td>...</td>\n",
       "      <td>...</td>\n",
       "      <td>...</td>\n",
       "      <td>...</td>\n",
       "      <td>...</td>\n",
       "      <td>...</td>\n",
       "      <td>...</td>\n",
       "      <td>...</td>\n",
       "      <td>...</td>\n",
       "      <td>...</td>\n",
       "      <td>...</td>\n",
       "      <td>...</td>\n",
       "    </tr>\n",
       "    <tr>\n",
       "      <th>251</th>\n",
       "      <td>Boy</td>\n",
       "      <td>23</td>\n",
       "      <td>University</td>\n",
       "      <td>Non Government</td>\n",
       "      <td>Yes</td>\n",
       "      <td>No</td>\n",
       "      <td>High</td>\n",
       "      <td>Mid</td>\n",
       "      <td>Mobile Data</td>\n",
       "      <td>3G</td>\n",
       "      <td>6</td>\n",
       "      <td>No</td>\n",
       "      <td>Computer</td>\n",
       "    </tr>\n",
       "    <tr>\n",
       "      <th>252</th>\n",
       "      <td>Boy</td>\n",
       "      <td>18</td>\n",
       "      <td>College</td>\n",
       "      <td>Government</td>\n",
       "      <td>No</td>\n",
       "      <td>Yes</td>\n",
       "      <td>Low</td>\n",
       "      <td>Mid</td>\n",
       "      <td>Mobile Data</td>\n",
       "      <td>3G</td>\n",
       "      <td>3</td>\n",
       "      <td>No</td>\n",
       "      <td>Mobile</td>\n",
       "    </tr>\n",
       "    <tr>\n",
       "      <th>253</th>\n",
       "      <td>Girl</td>\n",
       "      <td>18</td>\n",
       "      <td>College</td>\n",
       "      <td>Non Government</td>\n",
       "      <td>No</td>\n",
       "      <td>No</td>\n",
       "      <td>Low</td>\n",
       "      <td>Mid</td>\n",
       "      <td>Mobile Data</td>\n",
       "      <td>3G</td>\n",
       "      <td>3</td>\n",
       "      <td>Yes</td>\n",
       "      <td>Mobile</td>\n",
       "    </tr>\n",
       "    <tr>\n",
       "      <th>254</th>\n",
       "      <td>Boy</td>\n",
       "      <td>23</td>\n",
       "      <td>University</td>\n",
       "      <td>Non Government</td>\n",
       "      <td>Yes</td>\n",
       "      <td>No</td>\n",
       "      <td>High</td>\n",
       "      <td>Mid</td>\n",
       "      <td>Mobile Data</td>\n",
       "      <td>3G</td>\n",
       "      <td>3</td>\n",
       "      <td>Yes</td>\n",
       "      <td>Mobile</td>\n",
       "    </tr>\n",
       "    <tr>\n",
       "      <th>255</th>\n",
       "      <td>Boy</td>\n",
       "      <td>23</td>\n",
       "      <td>University</td>\n",
       "      <td>Non Government</td>\n",
       "      <td>Yes</td>\n",
       "      <td>Yes</td>\n",
       "      <td>Low</td>\n",
       "      <td>Mid</td>\n",
       "      <td>Mobile Data</td>\n",
       "      <td>4G</td>\n",
       "      <td>6</td>\n",
       "      <td>No</td>\n",
       "      <td>Computer</td>\n",
       "    </tr>\n",
       "  </tbody>\n",
       "</table>\n",
       "<p>256 rows × 13 columns</p>\n",
       "</div>"
      ],
      "text/plain": [
       "    Gender Median_age Education Level Institution Type IT Student Location  \\\n",
       "0      Boy         23      University   Non Government         No      Yes   \n",
       "1     Girl         23      University   Non Government         No      Yes   \n",
       "2     Girl         18         College       Government         No      Yes   \n",
       "3     Girl         13          School   Non Government         No      Yes   \n",
       "4     Girl         18          School   Non Government         No      Yes   \n",
       "..     ...        ...             ...              ...        ...      ...   \n",
       "251    Boy         23      University   Non Government        Yes       No   \n",
       "252    Boy         18         College       Government         No      Yes   \n",
       "253   Girl         18         College   Non Government         No       No   \n",
       "254    Boy         23      University   Non Government        Yes       No   \n",
       "255    Boy         23      University   Non Government        Yes      Yes   \n",
       "\n",
       "    Load-shedding Financial Condition Internet Type Network Type Max_duration  \\\n",
       "0             Low                 Mid          Wifi           4G            6   \n",
       "1            High                 Mid   Mobile Data           4G            3   \n",
       "2             Low                 Mid          Wifi           4G            3   \n",
       "3             Low                 Mid   Mobile Data           4G            3   \n",
       "4             Low                Poor   Mobile Data           3G            0   \n",
       "..            ...                 ...           ...          ...          ...   \n",
       "251          High                 Mid   Mobile Data           3G            6   \n",
       "252           Low                 Mid   Mobile Data           3G            3   \n",
       "253           Low                 Mid   Mobile Data           3G            3   \n",
       "254          High                 Mid   Mobile Data           3G            3   \n",
       "255           Low                 Mid   Mobile Data           4G            6   \n",
       "\n",
       "    Self Lms    Device  \n",
       "0         No       Tab  \n",
       "1        Yes    Mobile  \n",
       "2         No    Mobile  \n",
       "3         No    Mobile  \n",
       "4         No    Mobile  \n",
       "..       ...       ...  \n",
       "251       No  Computer  \n",
       "252       No    Mobile  \n",
       "253      Yes    Mobile  \n",
       "254      Yes    Mobile  \n",
       "255       No  Computer  \n",
       "\n",
       "[256 rows x 13 columns]"
      ]
     },
     "execution_count": 56,
     "metadata": {},
     "output_type": "execute_result"
    }
   ],
   "source": [
    "# cativs.drop('index', axis = 1,inplace=True)\n",
    "cativs"
   ]
  },
  {
   "cell_type": "code",
   "execution_count": 57,
   "id": "2ccbaa37",
   "metadata": {},
   "outputs": [
    {
     "name": "stdout",
     "output_type": "stream",
     "text": [
      "H0 : Gender and Is_canceled are independent \n",
      "H1 : Gender and Is_canceled are dependent\n",
      "\n",
      "Gender            Boy  Girl  All\n",
      "Adaptivity Level                \n",
      "High               16     8   24\n",
      "Low                61    53  114\n",
      "Moderate           71    47  118\n",
      "All               148   108  256\n",
      "\n",
      "(1.3917057920509166, 0.4986489708417161, 2)\n",
      "As the P Value : 0.4986489708417161 >= Significance Level 0.05, we are unable to reject the null hypothesis \n",
      "Gender is Insignificant\n",
      "\n",
      "\n",
      "\n",
      "H0 : Median_age and Is_canceled are independent \n",
      "H1 : Median_age and Is_canceled are dependent\n",
      "\n",
      "Median_age        3   8  13  18   23  28  All\n",
      "Adaptivity Level                             \n",
      "High              0   4   6   2    9   3   24\n",
      "Low               4   7  19  33   43   8  114\n",
      "Moderate          4   2  25  31   49   7  118\n",
      "All               8  13  50  66  101  18  256\n",
      "\n",
      "(7.927429089329359, 0.09427302512518038, 4)\n",
      "As the P Value : 0.09427302512518038 >= Significance Level 0.05, we are unable to reject the null hypothesis \n",
      "Median_age is Insignificant\n",
      "\n",
      "\n",
      "\n",
      "H0 : Education Level and Is_canceled are independent \n",
      "H1 : Education Level and Is_canceled are dependent\n",
      "\n",
      "Education Level   College  School  University  All\n",
      "Adaptivity Level                                  \n",
      "High                    1      11          12   24\n",
      "Low                    28      37          49  114\n",
      "Moderate               24      34          60  118\n",
      "All                    53      82         121  256\n",
      "\n",
      "(5.165119709073419, 0.16009793778932196, 3)\n",
      "As the P Value : 0.16009793778932196 >= Significance Level 0.05, we are unable to reject the null hypothesis \n",
      "Education Level is Insignificant\n",
      "\n",
      "\n",
      "\n",
      "H0 : Institution Type and Is_canceled are independent \n",
      "H1 : Institution Type and Is_canceled are dependent\n",
      "\n",
      "Institution Type  Government  Non Government  All\n",
      "Adaptivity Level                                 \n",
      "High                       5              19   24\n",
      "Low                       66              48  114\n",
      "Moderate                  33              85  118\n",
      "All                      104             152  256\n",
      "\n",
      "(10.901989312149407, 0.004292033469743011, 2)\n",
      "As the P Value : 0.004292033469743011 < Significance Level : 0.05, we reject the null hypothesis \n",
      "Institution Type is Significant\n",
      "\n",
      "\n",
      "\n",
      "H0 : IT Student and Is_canceled are independent \n",
      "H1 : IT Student and Is_canceled are dependent\n",
      "\n",
      "IT Student         No  Yes  All\n",
      "Adaptivity Level               \n",
      "High               17    7   24\n",
      "Low                88   26  114\n",
      "Moderate           73   45  118\n",
      "All               178   78  256\n",
      "\n",
      "(0.4407154249259512, 0.8022317783249864, 2)\n",
      "As the P Value : 0.8022317783249864 >= Significance Level 0.05, we are unable to reject the null hypothesis \n",
      "IT Student is Insignificant\n",
      "\n",
      "\n",
      "\n",
      "H0 : Location and Is_canceled are independent \n",
      "H1 : Location and Is_canceled are dependent\n",
      "\n",
      "Location          No  Yes  All\n",
      "Adaptivity Level              \n",
      "High               3   21   24\n",
      "Low               45   69  114\n",
      "Moderate          26   92  118\n",
      "All               74  182  256\n",
      "\n",
      "(6.359046052631578, 0.04160549511550808, 2)\n",
      "As the P Value : 0.04160549511550808 < Significance Level : 0.05, we reject the null hypothesis \n",
      "Location is Significant\n",
      "\n",
      "\n",
      "\n",
      "H0 : Load-shedding and Is_canceled are independent \n",
      "H1 : Load-shedding and Is_canceled are dependent\n",
      "\n",
      "Load-shedding     High  Low  All\n",
      "Adaptivity Level                \n",
      "High                 2   22   24\n",
      "Low                 27   87  114\n",
      "Moderate            25   93  118\n",
      "All                 54  202  256\n",
      "\n",
      "(2.8147321800229776, 0.24478718219937415, 2)\n",
      "As the P Value : 0.24478718219937415 >= Significance Level 0.05, we are unable to reject the null hypothesis \n",
      "Load-shedding is Insignificant\n",
      "\n",
      "\n",
      "\n",
      "H0 : Financial Condition and Is_canceled are independent \n",
      "H1 : Financial Condition and Is_canceled are dependent\n",
      "\n",
      "Financial Condition  Mid  Poor  Rich  All\n",
      "Adaptivity Level                         \n",
      "High                   8     3    13   24\n",
      "Low                   83    27     4  114\n",
      "Moderate              92    19     7  118\n",
      "All                  183    49    24  256\n",
      "\n",
      "(47.1266619603307, 3.2665354776540146e-10, 3)\n",
      "As the P Value : 3.2665354776540146e-10 < Significance Level : 0.05, we reject the null hypothesis \n",
      "Financial Condition is Significant\n",
      "\n",
      "\n",
      "\n",
      "H0 : Internet Type and Is_canceled are independent \n",
      "H1 : Internet Type and Is_canceled are dependent\n",
      "\n",
      "Internet Type     Mobile Data  Wifi  All\n",
      "Adaptivity Level                        \n",
      "High                        8    16   24\n",
      "Low                        70    44  114\n",
      "Moderate                   60    58  118\n",
      "All                       138   118  256\n",
      "\n",
      "(6.356815114709851, 0.04165193064779342, 2)\n",
      "As the P Value : 0.04165193064779342 < Significance Level : 0.05, we reject the null hypothesis \n",
      "Internet Type is Significant\n",
      "\n",
      "\n",
      "\n",
      "H0 : Network Type and Is_canceled are independent \n",
      "H1 : Network Type and Is_canceled are dependent\n",
      "\n",
      "Network Type      2G  3G   4G  All\n",
      "Adaptivity Level                  \n",
      "High               0   6   18   24\n",
      "Low                6  42   66  114\n",
      "Moderate           1  40   77  118\n",
      "All                7  88  161  256\n",
      "\n",
      "(3.0155075187969933, 0.3892403961923666, 3)\n",
      "As the P Value : 0.3892403961923666 >= Significance Level 0.05, we are unable to reject the null hypothesis \n",
      "Network Type is Insignificant\n",
      "\n",
      "\n",
      "\n",
      "H0 : Max_duration and Is_canceled are independent \n",
      "H1 : Max_duration and Is_canceled are dependent\n",
      "\n",
      "Max_duration       0    3   6  All\n",
      "Adaptivity Level                  \n",
      "High               0   18   6   24\n",
      "Low               38   62  14  114\n",
      "Moderate           3   83  32  118\n",
      "All               41  163  52  256\n",
      "\n",
      "(11.666447368421053, 0.008617653594326832, 3)\n",
      "As the P Value : 0.008617653594326832 < Significance Level : 0.05, we reject the null hypothesis \n",
      "Max_duration is Significant\n",
      "\n",
      "\n",
      "\n",
      "H0 : Self Lms and Is_canceled are independent \n",
      "H1 : Self Lms and Is_canceled are dependent\n",
      "\n",
      "Self Lms           No  Yes  All\n",
      "Adaptivity Level               \n",
      "High               18    6   24\n",
      "Low                96   18  114\n",
      "Moderate           84   34  118\n",
      "All               198   58  256\n",
      "\n",
      "(1.1707063711911354, 0.556909134789196, 2)\n",
      "As the P Value : 0.556909134789196 >= Significance Level 0.05, we are unable to reject the null hypothesis \n",
      "Self Lms is Insignificant\n",
      "\n",
      "\n",
      "\n",
      "H0 : Device and Is_canceled are independent \n",
      "H1 : Device and Is_canceled are dependent\n",
      "\n",
      "Device            Computer  Mobile  Tab  All\n",
      "Adaptivity Level                            \n",
      "High                     6      17    1   24\n",
      "Low                     12     101    1  114\n",
      "Moderate                25      89    4  118\n",
      "All                     43     207    6  256\n",
      "\n",
      "(5.39607493309545, 0.14498832010257398, 3)\n",
      "As the P Value : 0.14498832010257398 >= Significance Level 0.05, we are unable to reject the null hypothesis \n",
      "Device is Insignificant\n",
      "\n",
      "\n",
      "\n"
     ]
    }
   ],
   "source": [
    "from sklearn.feature_selection import SelectPercentile\n",
    "from sklearn.feature_selection import chi2\n",
    "sig_cativs = []\n",
    "insig_cativs = []\n",
    "\n",
    "for i in cativs:\n",
    "    print(f\"H0 : {i} and Is_canceled are independent \\nH1 : {i} and Is_canceled are dependent\\n\")\n",
    "    ct = pd.crosstab(y, cativs[i], margins = True)\n",
    "    print(ct, end='\\n\\n')\n",
    "    obs = np.array([ct.iloc[0][0:5].values, ct.iloc[1][0:5].values])\n",
    "    print(stats.chi2_contingency(obs)[0:3])\n",
    "    sig = 0.05\n",
    "    if sig>stats.chi2_contingency(obs)[0:3][1]:\n",
    "        print(f'As the P Value : {stats.chi2_contingency(obs)[0:3][1]} < Significance Level : {sig}, we reject the null hypothesis ')\n",
    "        print(f'{i} is Significant', end='\\n\\n\\n\\n')\n",
    "        sig_cativs.append(i)\n",
    "    else:\n",
    "        print(f'As the P Value : {stats.chi2_contingency(obs)[0:3][1]} >= Significance Level {sig}, we are unable to reject the null hypothesis ')\n",
    "        print(f'{i} is Insignificant', end='\\n\\n\\n\\n')\n",
    "        insig_cativs.append(i)"
   ]
  },
  {
   "cell_type": "code",
   "execution_count": 58,
   "id": "cb6ae120",
   "metadata": {
    "scrolled": true
   },
   "outputs": [
    {
     "name": "stdout",
     "output_type": "stream",
     "text": [
      "['Gender', 'Median_age', 'Education Level', 'IT Student', 'Load-shedding', 'Network Type', 'Self Lms', 'Device']\n"
     ]
    }
   ],
   "source": [
    "print(insig_cativs)\n"
   ]
  },
  {
   "cell_type": "code",
   "execution_count": 59,
   "id": "4346fb48",
   "metadata": {},
   "outputs": [
    {
     "name": "stdout",
     "output_type": "stream",
     "text": [
      "['Institution Type', 'Location', 'Financial Condition', 'Internet Type', 'Max_duration']\n"
     ]
    }
   ],
   "source": [
    "print(sig_cativs)"
   ]
  },
  {
   "cell_type": "code",
   "execution_count": 60,
   "id": "1d933805",
   "metadata": {},
   "outputs": [],
   "source": [
    "cativs.drop(insig_cativs, axis = 1, inplace = True)"
   ]
  },
  {
   "cell_type": "code",
   "execution_count": 61,
   "id": "123712d1",
   "metadata": {},
   "outputs": [
    {
     "data": {
      "text/html": [
       "<div>\n",
       "<style scoped>\n",
       "    .dataframe tbody tr th:only-of-type {\n",
       "        vertical-align: middle;\n",
       "    }\n",
       "\n",
       "    .dataframe tbody tr th {\n",
       "        vertical-align: top;\n",
       "    }\n",
       "\n",
       "    .dataframe thead th {\n",
       "        text-align: right;\n",
       "    }\n",
       "</style>\n",
       "<table border=\"1\" class=\"dataframe\">\n",
       "  <thead>\n",
       "    <tr style=\"text-align: right;\">\n",
       "      <th></th>\n",
       "      <th>Institution Type</th>\n",
       "      <th>Location</th>\n",
       "      <th>Financial Condition</th>\n",
       "      <th>Internet Type</th>\n",
       "      <th>Max_duration</th>\n",
       "    </tr>\n",
       "  </thead>\n",
       "  <tbody>\n",
       "    <tr>\n",
       "      <th>0</th>\n",
       "      <td>Non Government</td>\n",
       "      <td>Yes</td>\n",
       "      <td>Mid</td>\n",
       "      <td>Wifi</td>\n",
       "      <td>6</td>\n",
       "    </tr>\n",
       "    <tr>\n",
       "      <th>1</th>\n",
       "      <td>Non Government</td>\n",
       "      <td>Yes</td>\n",
       "      <td>Mid</td>\n",
       "      <td>Mobile Data</td>\n",
       "      <td>3</td>\n",
       "    </tr>\n",
       "    <tr>\n",
       "      <th>2</th>\n",
       "      <td>Government</td>\n",
       "      <td>Yes</td>\n",
       "      <td>Mid</td>\n",
       "      <td>Wifi</td>\n",
       "      <td>3</td>\n",
       "    </tr>\n",
       "    <tr>\n",
       "      <th>3</th>\n",
       "      <td>Non Government</td>\n",
       "      <td>Yes</td>\n",
       "      <td>Mid</td>\n",
       "      <td>Mobile Data</td>\n",
       "      <td>3</td>\n",
       "    </tr>\n",
       "    <tr>\n",
       "      <th>4</th>\n",
       "      <td>Non Government</td>\n",
       "      <td>Yes</td>\n",
       "      <td>Poor</td>\n",
       "      <td>Mobile Data</td>\n",
       "      <td>0</td>\n",
       "    </tr>\n",
       "    <tr>\n",
       "      <th>...</th>\n",
       "      <td>...</td>\n",
       "      <td>...</td>\n",
       "      <td>...</td>\n",
       "      <td>...</td>\n",
       "      <td>...</td>\n",
       "    </tr>\n",
       "    <tr>\n",
       "      <th>251</th>\n",
       "      <td>Non Government</td>\n",
       "      <td>No</td>\n",
       "      <td>Mid</td>\n",
       "      <td>Mobile Data</td>\n",
       "      <td>6</td>\n",
       "    </tr>\n",
       "    <tr>\n",
       "      <th>252</th>\n",
       "      <td>Government</td>\n",
       "      <td>Yes</td>\n",
       "      <td>Mid</td>\n",
       "      <td>Mobile Data</td>\n",
       "      <td>3</td>\n",
       "    </tr>\n",
       "    <tr>\n",
       "      <th>253</th>\n",
       "      <td>Non Government</td>\n",
       "      <td>No</td>\n",
       "      <td>Mid</td>\n",
       "      <td>Mobile Data</td>\n",
       "      <td>3</td>\n",
       "    </tr>\n",
       "    <tr>\n",
       "      <th>254</th>\n",
       "      <td>Non Government</td>\n",
       "      <td>No</td>\n",
       "      <td>Mid</td>\n",
       "      <td>Mobile Data</td>\n",
       "      <td>3</td>\n",
       "    </tr>\n",
       "    <tr>\n",
       "      <th>255</th>\n",
       "      <td>Non Government</td>\n",
       "      <td>Yes</td>\n",
       "      <td>Mid</td>\n",
       "      <td>Mobile Data</td>\n",
       "      <td>6</td>\n",
       "    </tr>\n",
       "  </tbody>\n",
       "</table>\n",
       "<p>256 rows × 5 columns</p>\n",
       "</div>"
      ],
      "text/plain": [
       "    Institution Type Location Financial Condition Internet Type Max_duration\n",
       "0     Non Government      Yes                 Mid          Wifi            6\n",
       "1     Non Government      Yes                 Mid   Mobile Data            3\n",
       "2         Government      Yes                 Mid          Wifi            3\n",
       "3     Non Government      Yes                 Mid   Mobile Data            3\n",
       "4     Non Government      Yes                Poor   Mobile Data            0\n",
       "..               ...      ...                 ...           ...          ...\n",
       "251   Non Government       No                 Mid   Mobile Data            6\n",
       "252       Government      Yes                 Mid   Mobile Data            3\n",
       "253   Non Government       No                 Mid   Mobile Data            3\n",
       "254   Non Government       No                 Mid   Mobile Data            3\n",
       "255   Non Government      Yes                 Mid   Mobile Data            6\n",
       "\n",
       "[256 rows x 5 columns]"
      ]
     },
     "execution_count": 61,
     "metadata": {},
     "output_type": "execute_result"
    }
   ],
   "source": [
    "cativs"
   ]
  },
  {
   "cell_type": "markdown",
   "id": "5d98b57b",
   "metadata": {},
   "source": [
    "## Dummy Encoding\n",
    "Dummy encoding the significant variables observed after Hypothesis testing with the help of Chi Square test of Independence"
   ]
  },
  {
   "cell_type": "code",
   "execution_count": 62,
   "id": "16c6b777",
   "metadata": {},
   "outputs": [
    {
     "data": {
      "text/html": [
       "<div>\n",
       "<style scoped>\n",
       "    .dataframe tbody tr th:only-of-type {\n",
       "        vertical-align: middle;\n",
       "    }\n",
       "\n",
       "    .dataframe tbody tr th {\n",
       "        vertical-align: top;\n",
       "    }\n",
       "\n",
       "    .dataframe thead th {\n",
       "        text-align: right;\n",
       "    }\n",
       "</style>\n",
       "<table border=\"1\" class=\"dataframe\">\n",
       "  <thead>\n",
       "    <tr style=\"text-align: right;\">\n",
       "      <th></th>\n",
       "      <th>Institution Type_Non Government</th>\n",
       "      <th>Location_Yes</th>\n",
       "      <th>Financial Condition_Poor</th>\n",
       "      <th>Financial Condition_Rich</th>\n",
       "      <th>Internet Type_Wifi</th>\n",
       "      <th>Max_duration_3</th>\n",
       "      <th>Max_duration_6</th>\n",
       "    </tr>\n",
       "  </thead>\n",
       "  <tbody>\n",
       "    <tr>\n",
       "      <th>0</th>\n",
       "      <td>1</td>\n",
       "      <td>1</td>\n",
       "      <td>0</td>\n",
       "      <td>0</td>\n",
       "      <td>1</td>\n",
       "      <td>0</td>\n",
       "      <td>1</td>\n",
       "    </tr>\n",
       "    <tr>\n",
       "      <th>1</th>\n",
       "      <td>1</td>\n",
       "      <td>1</td>\n",
       "      <td>0</td>\n",
       "      <td>0</td>\n",
       "      <td>0</td>\n",
       "      <td>1</td>\n",
       "      <td>0</td>\n",
       "    </tr>\n",
       "    <tr>\n",
       "      <th>2</th>\n",
       "      <td>0</td>\n",
       "      <td>1</td>\n",
       "      <td>0</td>\n",
       "      <td>0</td>\n",
       "      <td>1</td>\n",
       "      <td>1</td>\n",
       "      <td>0</td>\n",
       "    </tr>\n",
       "    <tr>\n",
       "      <th>3</th>\n",
       "      <td>1</td>\n",
       "      <td>1</td>\n",
       "      <td>0</td>\n",
       "      <td>0</td>\n",
       "      <td>0</td>\n",
       "      <td>1</td>\n",
       "      <td>0</td>\n",
       "    </tr>\n",
       "    <tr>\n",
       "      <th>4</th>\n",
       "      <td>1</td>\n",
       "      <td>1</td>\n",
       "      <td>1</td>\n",
       "      <td>0</td>\n",
       "      <td>0</td>\n",
       "      <td>0</td>\n",
       "      <td>0</td>\n",
       "    </tr>\n",
       "    <tr>\n",
       "      <th>...</th>\n",
       "      <td>...</td>\n",
       "      <td>...</td>\n",
       "      <td>...</td>\n",
       "      <td>...</td>\n",
       "      <td>...</td>\n",
       "      <td>...</td>\n",
       "      <td>...</td>\n",
       "    </tr>\n",
       "    <tr>\n",
       "      <th>251</th>\n",
       "      <td>1</td>\n",
       "      <td>0</td>\n",
       "      <td>0</td>\n",
       "      <td>0</td>\n",
       "      <td>0</td>\n",
       "      <td>0</td>\n",
       "      <td>1</td>\n",
       "    </tr>\n",
       "    <tr>\n",
       "      <th>252</th>\n",
       "      <td>0</td>\n",
       "      <td>1</td>\n",
       "      <td>0</td>\n",
       "      <td>0</td>\n",
       "      <td>0</td>\n",
       "      <td>1</td>\n",
       "      <td>0</td>\n",
       "    </tr>\n",
       "    <tr>\n",
       "      <th>253</th>\n",
       "      <td>1</td>\n",
       "      <td>0</td>\n",
       "      <td>0</td>\n",
       "      <td>0</td>\n",
       "      <td>0</td>\n",
       "      <td>1</td>\n",
       "      <td>0</td>\n",
       "    </tr>\n",
       "    <tr>\n",
       "      <th>254</th>\n",
       "      <td>1</td>\n",
       "      <td>0</td>\n",
       "      <td>0</td>\n",
       "      <td>0</td>\n",
       "      <td>0</td>\n",
       "      <td>1</td>\n",
       "      <td>0</td>\n",
       "    </tr>\n",
       "    <tr>\n",
       "      <th>255</th>\n",
       "      <td>1</td>\n",
       "      <td>1</td>\n",
       "      <td>0</td>\n",
       "      <td>0</td>\n",
       "      <td>0</td>\n",
       "      <td>0</td>\n",
       "      <td>1</td>\n",
       "    </tr>\n",
       "  </tbody>\n",
       "</table>\n",
       "<p>256 rows × 7 columns</p>\n",
       "</div>"
      ],
      "text/plain": [
       "     Institution Type_Non Government  Location_Yes  Financial Condition_Poor  \\\n",
       "0                                  1             1                         0   \n",
       "1                                  1             1                         0   \n",
       "2                                  0             1                         0   \n",
       "3                                  1             1                         0   \n",
       "4                                  1             1                         1   \n",
       "..                               ...           ...                       ...   \n",
       "251                                1             0                         0   \n",
       "252                                0             1                         0   \n",
       "253                                1             0                         0   \n",
       "254                                1             0                         0   \n",
       "255                                1             1                         0   \n",
       "\n",
       "     Financial Condition_Rich  Internet Type_Wifi  Max_duration_3  \\\n",
       "0                           0                   1               0   \n",
       "1                           0                   0               1   \n",
       "2                           0                   1               1   \n",
       "3                           0                   0               1   \n",
       "4                           0                   0               0   \n",
       "..                        ...                 ...             ...   \n",
       "251                         0                   0               0   \n",
       "252                         0                   0               1   \n",
       "253                         0                   0               1   \n",
       "254                         0                   0               1   \n",
       "255                         0                   0               0   \n",
       "\n",
       "     Max_duration_6  \n",
       "0                 1  \n",
       "1                 0  \n",
       "2                 0  \n",
       "3                 0  \n",
       "4                 0  \n",
       "..              ...  \n",
       "251               1  \n",
       "252               0  \n",
       "253               0  \n",
       "254               0  \n",
       "255               1  \n",
       "\n",
       "[256 rows x 7 columns]"
      ]
     },
     "execution_count": 62,
     "metadata": {},
     "output_type": "execute_result"
    }
   ],
   "source": [
    "X = pd.get_dummies(cativs, drop_first = True)\n",
    "X"
   ]
  },
  {
   "cell_type": "markdown",
   "id": "421c4fcf",
   "metadata": {},
   "source": [
    "## Splitting the Data into Training and Testing"
   ]
  },
  {
   "cell_type": "code",
   "execution_count": 63,
   "id": "09574d7a",
   "metadata": {},
   "outputs": [],
   "source": [
    "from sklearn.model_selection import train_test_split"
   ]
  },
  {
   "cell_type": "code",
   "execution_count": 64,
   "id": "e22d2e32",
   "metadata": {},
   "outputs": [],
   "source": [
    "x_train, x_test, y_train, y_test = train_test_split(X,y,test_size = 0.2, random_state = 2)\n",
    "# This order must be preserved while doing Train Test Split"
   ]
  },
  {
   "cell_type": "markdown",
   "id": "9c296c14",
   "metadata": {},
   "source": [
    "# Model Building \n",
    "## Decision Tree Model"
   ]
  },
  {
   "cell_type": "code",
   "execution_count": 65,
   "id": "c24f6ade",
   "metadata": {},
   "outputs": [],
   "source": [
    "from sklearn.tree import DecisionTreeClassifier\n",
    "from sklearn.tree import plot_tree\n",
    "from sklearn.metrics import classification_report, confusion_matrix, accuracy_score"
   ]
  },
  {
   "cell_type": "code",
   "execution_count": 66,
   "id": "78989a81",
   "metadata": {},
   "outputs": [],
   "source": [
    "dtc = DecisionTreeClassifier()"
   ]
  },
  {
   "cell_type": "code",
   "execution_count": 67,
   "id": "78efac75",
   "metadata": {},
   "outputs": [
    {
     "data": {
      "text/plain": [
       "DecisionTreeClassifier()"
      ]
     },
     "execution_count": 67,
     "metadata": {},
     "output_type": "execute_result"
    }
   ],
   "source": [
    "dtc.fit(x_train,y_train)"
   ]
  },
  {
   "cell_type": "code",
   "execution_count": 68,
   "id": "3f309d5a",
   "metadata": {},
   "outputs": [
    {
     "data": {
      "text/plain": [
       "array(['Low', 'Low', 'Low', 'Moderate', 'Moderate', 'Moderate', 'Low',\n",
       "       'Low', 'Moderate', 'Moderate', 'Moderate', 'Low', 'High', 'Low',\n",
       "       'Moderate', 'Moderate', 'Moderate', 'Moderate', 'Moderate',\n",
       "       'Moderate', 'Low', 'Moderate', 'Low', 'Moderate', 'Low',\n",
       "       'Moderate', 'Low', 'Low', 'Moderate', 'Moderate', 'Low', 'Low',\n",
       "       'Low', 'Moderate', 'Moderate', 'High', 'Moderate', 'Low', 'Low',\n",
       "       'Moderate', 'Low', 'Low', 'Low', 'Low', 'Moderate', 'Moderate',\n",
       "       'Moderate', 'Low', 'Moderate', 'Moderate', 'Moderate', 'Low'],\n",
       "      dtype=object)"
      ]
     },
     "execution_count": 68,
     "metadata": {},
     "output_type": "execute_result"
    }
   ],
   "source": [
    "y_pred = dtc.predict(x_test)\n",
    "y_pred"
   ]
  },
  {
   "cell_type": "code",
   "execution_count": 69,
   "id": "04abfbb6",
   "metadata": {},
   "outputs": [
    {
     "data": {
      "text/plain": [
       "array([[0.        , 0.63636364, 0.36363636],\n",
       "       [0.        , 0.5       , 0.5       ],\n",
       "       [0.        , 0.57142857, 0.42857143],\n",
       "       [0.        , 0.45454545, 0.54545455],\n",
       "       [0.        , 0.45454545, 0.54545455],\n",
       "       [0.05882353, 0.35294118, 0.58823529],\n",
       "       [0.18181818, 0.45454545, 0.36363636],\n",
       "       [0.        , 1.        , 0.        ],\n",
       "       [0.        , 0.14285714, 0.85714286],\n",
       "       [0.        , 0.        , 1.        ],\n",
       "       [0.05882353, 0.35294118, 0.58823529],\n",
       "       [0.        , 1.        , 0.        ],\n",
       "       [0.57142857, 0.        , 0.42857143],\n",
       "       [0.18181818, 0.45454545, 0.36363636],\n",
       "       [0.07692308, 0.34615385, 0.57692308],\n",
       "       [0.05      , 0.25      , 0.7       ],\n",
       "       [0.        , 0.14285714, 0.85714286],\n",
       "       [0.        , 0.        , 1.        ],\n",
       "       [0.07692308, 0.34615385, 0.57692308],\n",
       "       [0.        , 0.        , 1.        ],\n",
       "       [0.        , 1.        , 0.        ],\n",
       "       [0.05882353, 0.35294118, 0.58823529],\n",
       "       [0.        , 0.75      , 0.25      ],\n",
       "       [0.05882353, 0.35294118, 0.58823529],\n",
       "       [0.        , 1.        , 0.        ],\n",
       "       [0.        , 0.        , 1.        ],\n",
       "       [0.        , 1.        , 0.        ],\n",
       "       [0.        , 1.        , 0.        ],\n",
       "       [0.        , 0.        , 1.        ],\n",
       "       [0.        , 0.45454545, 0.54545455],\n",
       "       [0.        , 1.        , 0.        ],\n",
       "       [0.        , 1.        , 0.        ],\n",
       "       [0.        , 1.        , 0.        ],\n",
       "       [0.        , 0.        , 1.        ],\n",
       "       [0.        , 0.45454545, 0.54545455],\n",
       "       [0.75      , 0.        , 0.25      ],\n",
       "       [0.05882353, 0.35294118, 0.58823529],\n",
       "       [0.        , 1.        , 0.        ],\n",
       "       [0.        , 0.66666667, 0.33333333],\n",
       "       [0.        , 0.45454545, 0.54545455],\n",
       "       [0.        , 0.5       , 0.5       ],\n",
       "       [0.        , 0.5       , 0.5       ],\n",
       "       [0.        , 0.63636364, 0.36363636],\n",
       "       [0.        , 0.75      , 0.25      ],\n",
       "       [0.05882353, 0.35294118, 0.58823529],\n",
       "       [0.        , 0.45454545, 0.54545455],\n",
       "       [0.        , 0.45454545, 0.54545455],\n",
       "       [0.18181818, 0.45454545, 0.36363636],\n",
       "       [0.        , 0.14285714, 0.85714286],\n",
       "       [0.07692308, 0.34615385, 0.57692308],\n",
       "       [0.07692308, 0.34615385, 0.57692308],\n",
       "       [0.        , 1.        , 0.        ]])"
      ]
     },
     "execution_count": 69,
     "metadata": {},
     "output_type": "execute_result"
    }
   ],
   "source": [
    "dtc.predict_proba(x_test)"
   ]
  },
  {
   "cell_type": "code",
   "execution_count": 70,
   "id": "01cf67f2",
   "metadata": {},
   "outputs": [
    {
     "name": "stdout",
     "output_type": "stream",
     "text": [
      "Accurancy of the model is : 61.53846153846154\n"
     ]
    }
   ],
   "source": [
    "print(f\"Accurancy of the model is : {accuracy_score(y_pred,y_test)*100}\")"
   ]
  },
  {
   "cell_type": "code",
   "execution_count": 71,
   "id": "144d6f6e",
   "metadata": {},
   "outputs": [
    {
     "data": {
      "text/plain": [
       "array([[ 1,  1,  0],\n",
       "       [ 2, 14,  7],\n",
       "       [ 2,  8, 17]], dtype=int64)"
      ]
     },
     "execution_count": 71,
     "metadata": {},
     "output_type": "execute_result"
    }
   ],
   "source": [
    "confusion_matrix(y_pred, y_test)"
   ]
  },
  {
   "cell_type": "code",
   "execution_count": 72,
   "id": "0f4a831c",
   "metadata": {},
   "outputs": [
    {
     "name": "stdout",
     "output_type": "stream",
     "text": [
      "              precision    recall  f1-score   support\n",
      "\n",
      "        High       0.20      0.50      0.29         2\n",
      "         Low       0.61      0.61      0.61        23\n",
      "    Moderate       0.71      0.63      0.67        27\n",
      "\n",
      "    accuracy                           0.62        52\n",
      "   macro avg       0.51      0.58      0.52        52\n",
      "weighted avg       0.64      0.62      0.63        52\n",
      "\n"
     ]
    }
   ],
   "source": [
    "print(classification_report(y_pred,y_test))"
   ]
  },
  {
   "cell_type": "markdown",
   "id": "d5e6e979",
   "metadata": {},
   "source": [
    "# Making Model with :-\n",
    "## Duplicate Values + Insignificant Columns"
   ]
  },
  {
   "cell_type": "code",
   "execution_count": 73,
   "id": "812fb108",
   "metadata": {},
   "outputs": [
    {
     "data": {
      "text/html": [
       "<div>\n",
       "<style scoped>\n",
       "    .dataframe tbody tr th:only-of-type {\n",
       "        vertical-align: middle;\n",
       "    }\n",
       "\n",
       "    .dataframe tbody tr th {\n",
       "        vertical-align: top;\n",
       "    }\n",
       "\n",
       "    .dataframe thead th {\n",
       "        text-align: right;\n",
       "    }\n",
       "</style>\n",
       "<table border=\"1\" class=\"dataframe\">\n",
       "  <thead>\n",
       "    <tr style=\"text-align: right;\">\n",
       "      <th></th>\n",
       "      <th>Gender</th>\n",
       "      <th>Age</th>\n",
       "      <th>Education Level</th>\n",
       "      <th>Institution Type</th>\n",
       "      <th>IT Student</th>\n",
       "      <th>Location</th>\n",
       "      <th>Load-shedding</th>\n",
       "      <th>Financial Condition</th>\n",
       "      <th>Internet Type</th>\n",
       "      <th>Network Type</th>\n",
       "      <th>Class Duration</th>\n",
       "      <th>Self Lms</th>\n",
       "      <th>Device</th>\n",
       "      <th>Adaptivity Level</th>\n",
       "    </tr>\n",
       "  </thead>\n",
       "  <tbody>\n",
       "    <tr>\n",
       "      <th>0</th>\n",
       "      <td>Boy</td>\n",
       "      <td>21-25</td>\n",
       "      <td>University</td>\n",
       "      <td>Non Government</td>\n",
       "      <td>No</td>\n",
       "      <td>Yes</td>\n",
       "      <td>Low</td>\n",
       "      <td>Mid</td>\n",
       "      <td>Wifi</td>\n",
       "      <td>4G</td>\n",
       "      <td>3-6</td>\n",
       "      <td>No</td>\n",
       "      <td>Tab</td>\n",
       "      <td>Moderate</td>\n",
       "    </tr>\n",
       "    <tr>\n",
       "      <th>1</th>\n",
       "      <td>Girl</td>\n",
       "      <td>21-25</td>\n",
       "      <td>University</td>\n",
       "      <td>Non Government</td>\n",
       "      <td>No</td>\n",
       "      <td>Yes</td>\n",
       "      <td>High</td>\n",
       "      <td>Mid</td>\n",
       "      <td>Mobile Data</td>\n",
       "      <td>4G</td>\n",
       "      <td>1-3</td>\n",
       "      <td>Yes</td>\n",
       "      <td>Mobile</td>\n",
       "      <td>Moderate</td>\n",
       "    </tr>\n",
       "    <tr>\n",
       "      <th>2</th>\n",
       "      <td>Girl</td>\n",
       "      <td>16-20</td>\n",
       "      <td>College</td>\n",
       "      <td>Government</td>\n",
       "      <td>No</td>\n",
       "      <td>Yes</td>\n",
       "      <td>Low</td>\n",
       "      <td>Mid</td>\n",
       "      <td>Wifi</td>\n",
       "      <td>4G</td>\n",
       "      <td>1-3</td>\n",
       "      <td>No</td>\n",
       "      <td>Mobile</td>\n",
       "      <td>Moderate</td>\n",
       "    </tr>\n",
       "    <tr>\n",
       "      <th>3</th>\n",
       "      <td>Girl</td>\n",
       "      <td>11-15</td>\n",
       "      <td>School</td>\n",
       "      <td>Non Government</td>\n",
       "      <td>No</td>\n",
       "      <td>Yes</td>\n",
       "      <td>Low</td>\n",
       "      <td>Mid</td>\n",
       "      <td>Mobile Data</td>\n",
       "      <td>4G</td>\n",
       "      <td>1-3</td>\n",
       "      <td>No</td>\n",
       "      <td>Mobile</td>\n",
       "      <td>Moderate</td>\n",
       "    </tr>\n",
       "    <tr>\n",
       "      <th>4</th>\n",
       "      <td>Girl</td>\n",
       "      <td>16-20</td>\n",
       "      <td>School</td>\n",
       "      <td>Non Government</td>\n",
       "      <td>No</td>\n",
       "      <td>Yes</td>\n",
       "      <td>Low</td>\n",
       "      <td>Poor</td>\n",
       "      <td>Mobile Data</td>\n",
       "      <td>3G</td>\n",
       "      <td>0</td>\n",
       "      <td>No</td>\n",
       "      <td>Mobile</td>\n",
       "      <td>Low</td>\n",
       "    </tr>\n",
       "    <tr>\n",
       "      <th>...</th>\n",
       "      <td>...</td>\n",
       "      <td>...</td>\n",
       "      <td>...</td>\n",
       "      <td>...</td>\n",
       "      <td>...</td>\n",
       "      <td>...</td>\n",
       "      <td>...</td>\n",
       "      <td>...</td>\n",
       "      <td>...</td>\n",
       "      <td>...</td>\n",
       "      <td>...</td>\n",
       "      <td>...</td>\n",
       "      <td>...</td>\n",
       "      <td>...</td>\n",
       "    </tr>\n",
       "    <tr>\n",
       "      <th>1200</th>\n",
       "      <td>Girl</td>\n",
       "      <td>16-20</td>\n",
       "      <td>College</td>\n",
       "      <td>Non Government</td>\n",
       "      <td>No</td>\n",
       "      <td>Yes</td>\n",
       "      <td>Low</td>\n",
       "      <td>Mid</td>\n",
       "      <td>Wifi</td>\n",
       "      <td>4G</td>\n",
       "      <td>1-3</td>\n",
       "      <td>No</td>\n",
       "      <td>Mobile</td>\n",
       "      <td>Low</td>\n",
       "    </tr>\n",
       "    <tr>\n",
       "      <th>1201</th>\n",
       "      <td>Girl</td>\n",
       "      <td>16-20</td>\n",
       "      <td>College</td>\n",
       "      <td>Non Government</td>\n",
       "      <td>No</td>\n",
       "      <td>No</td>\n",
       "      <td>High</td>\n",
       "      <td>Mid</td>\n",
       "      <td>Wifi</td>\n",
       "      <td>4G</td>\n",
       "      <td>3-6</td>\n",
       "      <td>No</td>\n",
       "      <td>Mobile</td>\n",
       "      <td>Moderate</td>\n",
       "    </tr>\n",
       "    <tr>\n",
       "      <th>1202</th>\n",
       "      <td>Boy</td>\n",
       "      <td>11-15</td>\n",
       "      <td>School</td>\n",
       "      <td>Non Government</td>\n",
       "      <td>No</td>\n",
       "      <td>Yes</td>\n",
       "      <td>Low</td>\n",
       "      <td>Mid</td>\n",
       "      <td>Mobile Data</td>\n",
       "      <td>3G</td>\n",
       "      <td>1-3</td>\n",
       "      <td>No</td>\n",
       "      <td>Mobile</td>\n",
       "      <td>Moderate</td>\n",
       "    </tr>\n",
       "    <tr>\n",
       "      <th>1203</th>\n",
       "      <td>Girl</td>\n",
       "      <td>16-20</td>\n",
       "      <td>College</td>\n",
       "      <td>Non Government</td>\n",
       "      <td>No</td>\n",
       "      <td>No</td>\n",
       "      <td>Low</td>\n",
       "      <td>Mid</td>\n",
       "      <td>Wifi</td>\n",
       "      <td>4G</td>\n",
       "      <td>1-3</td>\n",
       "      <td>No</td>\n",
       "      <td>Mobile</td>\n",
       "      <td>Low</td>\n",
       "    </tr>\n",
       "    <tr>\n",
       "      <th>1204</th>\n",
       "      <td>Girl</td>\n",
       "      <td>11-15</td>\n",
       "      <td>School</td>\n",
       "      <td>Non Government</td>\n",
       "      <td>No</td>\n",
       "      <td>Yes</td>\n",
       "      <td>Low</td>\n",
       "      <td>Poor</td>\n",
       "      <td>Mobile Data</td>\n",
       "      <td>3G</td>\n",
       "      <td>1-3</td>\n",
       "      <td>No</td>\n",
       "      <td>Mobile</td>\n",
       "      <td>Moderate</td>\n",
       "    </tr>\n",
       "  </tbody>\n",
       "</table>\n",
       "<p>1205 rows × 14 columns</p>\n",
       "</div>"
      ],
      "text/plain": [
       "     Gender    Age Education Level Institution Type IT Student Location  \\\n",
       "0       Boy  21-25      University   Non Government         No      Yes   \n",
       "1      Girl  21-25      University   Non Government         No      Yes   \n",
       "2      Girl  16-20         College       Government         No      Yes   \n",
       "3      Girl  11-15          School   Non Government         No      Yes   \n",
       "4      Girl  16-20          School   Non Government         No      Yes   \n",
       "...     ...    ...             ...              ...        ...      ...   \n",
       "1200   Girl  16-20         College   Non Government         No      Yes   \n",
       "1201   Girl  16-20         College   Non Government         No       No   \n",
       "1202    Boy  11-15          School   Non Government         No      Yes   \n",
       "1203   Girl  16-20         College   Non Government         No       No   \n",
       "1204   Girl  11-15          School   Non Government         No      Yes   \n",
       "\n",
       "     Load-shedding Financial Condition Internet Type Network Type  \\\n",
       "0              Low                 Mid          Wifi           4G   \n",
       "1             High                 Mid   Mobile Data           4G   \n",
       "2              Low                 Mid          Wifi           4G   \n",
       "3              Low                 Mid   Mobile Data           4G   \n",
       "4              Low                Poor   Mobile Data           3G   \n",
       "...            ...                 ...           ...          ...   \n",
       "1200           Low                 Mid          Wifi           4G   \n",
       "1201          High                 Mid          Wifi           4G   \n",
       "1202           Low                 Mid   Mobile Data           3G   \n",
       "1203           Low                 Mid          Wifi           4G   \n",
       "1204           Low                Poor   Mobile Data           3G   \n",
       "\n",
       "     Class Duration Self Lms  Device Adaptivity Level  \n",
       "0               3-6       No     Tab         Moderate  \n",
       "1               1-3      Yes  Mobile         Moderate  \n",
       "2               1-3       No  Mobile         Moderate  \n",
       "3               1-3       No  Mobile         Moderate  \n",
       "4                 0       No  Mobile              Low  \n",
       "...             ...      ...     ...              ...  \n",
       "1200            1-3       No  Mobile              Low  \n",
       "1201            3-6       No  Mobile         Moderate  \n",
       "1202            1-3       No  Mobile         Moderate  \n",
       "1203            1-3       No  Mobile              Low  \n",
       "1204            1-3       No  Mobile         Moderate  \n",
       "\n",
       "[1205 rows x 14 columns]"
      ]
     },
     "execution_count": 73,
     "metadata": {},
     "output_type": "execute_result"
    }
   ],
   "source": [
    "df"
   ]
  },
  {
   "cell_type": "code",
   "execution_count": 74,
   "id": "5f09de73",
   "metadata": {},
   "outputs": [
    {
     "data": {
      "text/html": [
       "<div>\n",
       "<style scoped>\n",
       "    .dataframe tbody tr th:only-of-type {\n",
       "        vertical-align: middle;\n",
       "    }\n",
       "\n",
       "    .dataframe tbody tr th {\n",
       "        vertical-align: top;\n",
       "    }\n",
       "\n",
       "    .dataframe thead th {\n",
       "        text-align: right;\n",
       "    }\n",
       "</style>\n",
       "<table border=\"1\" class=\"dataframe\">\n",
       "  <thead>\n",
       "    <tr style=\"text-align: right;\">\n",
       "      <th></th>\n",
       "      <th>Gender_Girl</th>\n",
       "      <th>Age_11-15</th>\n",
       "      <th>Age_16-20</th>\n",
       "      <th>Age_21-25</th>\n",
       "      <th>Age_26-30</th>\n",
       "      <th>Age_6-10</th>\n",
       "      <th>Education Level_School</th>\n",
       "      <th>Education Level_University</th>\n",
       "      <th>Institution Type_Non Government</th>\n",
       "      <th>IT Student_Yes</th>\n",
       "      <th>Location_Yes</th>\n",
       "      <th>Load-shedding_Low</th>\n",
       "      <th>Financial Condition_Poor</th>\n",
       "      <th>Financial Condition_Rich</th>\n",
       "      <th>Internet Type_Wifi</th>\n",
       "      <th>Network Type_3G</th>\n",
       "      <th>Network Type_4G</th>\n",
       "      <th>Class Duration_1-3</th>\n",
       "      <th>Class Duration_3-6</th>\n",
       "      <th>Self Lms_Yes</th>\n",
       "      <th>Device_Mobile</th>\n",
       "      <th>Device_Tab</th>\n",
       "    </tr>\n",
       "  </thead>\n",
       "  <tbody>\n",
       "    <tr>\n",
       "      <th>0</th>\n",
       "      <td>0</td>\n",
       "      <td>0</td>\n",
       "      <td>0</td>\n",
       "      <td>1</td>\n",
       "      <td>0</td>\n",
       "      <td>0</td>\n",
       "      <td>0</td>\n",
       "      <td>1</td>\n",
       "      <td>1</td>\n",
       "      <td>0</td>\n",
       "      <td>1</td>\n",
       "      <td>1</td>\n",
       "      <td>0</td>\n",
       "      <td>0</td>\n",
       "      <td>1</td>\n",
       "      <td>0</td>\n",
       "      <td>1</td>\n",
       "      <td>0</td>\n",
       "      <td>1</td>\n",
       "      <td>0</td>\n",
       "      <td>0</td>\n",
       "      <td>1</td>\n",
       "    </tr>\n",
       "    <tr>\n",
       "      <th>1</th>\n",
       "      <td>1</td>\n",
       "      <td>0</td>\n",
       "      <td>0</td>\n",
       "      <td>1</td>\n",
       "      <td>0</td>\n",
       "      <td>0</td>\n",
       "      <td>0</td>\n",
       "      <td>1</td>\n",
       "      <td>1</td>\n",
       "      <td>0</td>\n",
       "      <td>1</td>\n",
       "      <td>0</td>\n",
       "      <td>0</td>\n",
       "      <td>0</td>\n",
       "      <td>0</td>\n",
       "      <td>0</td>\n",
       "      <td>1</td>\n",
       "      <td>1</td>\n",
       "      <td>0</td>\n",
       "      <td>1</td>\n",
       "      <td>1</td>\n",
       "      <td>0</td>\n",
       "    </tr>\n",
       "    <tr>\n",
       "      <th>2</th>\n",
       "      <td>1</td>\n",
       "      <td>0</td>\n",
       "      <td>1</td>\n",
       "      <td>0</td>\n",
       "      <td>0</td>\n",
       "      <td>0</td>\n",
       "      <td>0</td>\n",
       "      <td>0</td>\n",
       "      <td>0</td>\n",
       "      <td>0</td>\n",
       "      <td>1</td>\n",
       "      <td>1</td>\n",
       "      <td>0</td>\n",
       "      <td>0</td>\n",
       "      <td>1</td>\n",
       "      <td>0</td>\n",
       "      <td>1</td>\n",
       "      <td>1</td>\n",
       "      <td>0</td>\n",
       "      <td>0</td>\n",
       "      <td>1</td>\n",
       "      <td>0</td>\n",
       "    </tr>\n",
       "    <tr>\n",
       "      <th>3</th>\n",
       "      <td>1</td>\n",
       "      <td>1</td>\n",
       "      <td>0</td>\n",
       "      <td>0</td>\n",
       "      <td>0</td>\n",
       "      <td>0</td>\n",
       "      <td>1</td>\n",
       "      <td>0</td>\n",
       "      <td>1</td>\n",
       "      <td>0</td>\n",
       "      <td>1</td>\n",
       "      <td>1</td>\n",
       "      <td>0</td>\n",
       "      <td>0</td>\n",
       "      <td>0</td>\n",
       "      <td>0</td>\n",
       "      <td>1</td>\n",
       "      <td>1</td>\n",
       "      <td>0</td>\n",
       "      <td>0</td>\n",
       "      <td>1</td>\n",
       "      <td>0</td>\n",
       "    </tr>\n",
       "    <tr>\n",
       "      <th>4</th>\n",
       "      <td>1</td>\n",
       "      <td>0</td>\n",
       "      <td>1</td>\n",
       "      <td>0</td>\n",
       "      <td>0</td>\n",
       "      <td>0</td>\n",
       "      <td>1</td>\n",
       "      <td>0</td>\n",
       "      <td>1</td>\n",
       "      <td>0</td>\n",
       "      <td>1</td>\n",
       "      <td>1</td>\n",
       "      <td>1</td>\n",
       "      <td>0</td>\n",
       "      <td>0</td>\n",
       "      <td>1</td>\n",
       "      <td>0</td>\n",
       "      <td>0</td>\n",
       "      <td>0</td>\n",
       "      <td>0</td>\n",
       "      <td>1</td>\n",
       "      <td>0</td>\n",
       "    </tr>\n",
       "    <tr>\n",
       "      <th>...</th>\n",
       "      <td>...</td>\n",
       "      <td>...</td>\n",
       "      <td>...</td>\n",
       "      <td>...</td>\n",
       "      <td>...</td>\n",
       "      <td>...</td>\n",
       "      <td>...</td>\n",
       "      <td>...</td>\n",
       "      <td>...</td>\n",
       "      <td>...</td>\n",
       "      <td>...</td>\n",
       "      <td>...</td>\n",
       "      <td>...</td>\n",
       "      <td>...</td>\n",
       "      <td>...</td>\n",
       "      <td>...</td>\n",
       "      <td>...</td>\n",
       "      <td>...</td>\n",
       "      <td>...</td>\n",
       "      <td>...</td>\n",
       "      <td>...</td>\n",
       "      <td>...</td>\n",
       "    </tr>\n",
       "    <tr>\n",
       "      <th>1200</th>\n",
       "      <td>1</td>\n",
       "      <td>0</td>\n",
       "      <td>1</td>\n",
       "      <td>0</td>\n",
       "      <td>0</td>\n",
       "      <td>0</td>\n",
       "      <td>0</td>\n",
       "      <td>0</td>\n",
       "      <td>1</td>\n",
       "      <td>0</td>\n",
       "      <td>1</td>\n",
       "      <td>1</td>\n",
       "      <td>0</td>\n",
       "      <td>0</td>\n",
       "      <td>1</td>\n",
       "      <td>0</td>\n",
       "      <td>1</td>\n",
       "      <td>1</td>\n",
       "      <td>0</td>\n",
       "      <td>0</td>\n",
       "      <td>1</td>\n",
       "      <td>0</td>\n",
       "    </tr>\n",
       "    <tr>\n",
       "      <th>1201</th>\n",
       "      <td>1</td>\n",
       "      <td>0</td>\n",
       "      <td>1</td>\n",
       "      <td>0</td>\n",
       "      <td>0</td>\n",
       "      <td>0</td>\n",
       "      <td>0</td>\n",
       "      <td>0</td>\n",
       "      <td>1</td>\n",
       "      <td>0</td>\n",
       "      <td>0</td>\n",
       "      <td>0</td>\n",
       "      <td>0</td>\n",
       "      <td>0</td>\n",
       "      <td>1</td>\n",
       "      <td>0</td>\n",
       "      <td>1</td>\n",
       "      <td>0</td>\n",
       "      <td>1</td>\n",
       "      <td>0</td>\n",
       "      <td>1</td>\n",
       "      <td>0</td>\n",
       "    </tr>\n",
       "    <tr>\n",
       "      <th>1202</th>\n",
       "      <td>0</td>\n",
       "      <td>1</td>\n",
       "      <td>0</td>\n",
       "      <td>0</td>\n",
       "      <td>0</td>\n",
       "      <td>0</td>\n",
       "      <td>1</td>\n",
       "      <td>0</td>\n",
       "      <td>1</td>\n",
       "      <td>0</td>\n",
       "      <td>1</td>\n",
       "      <td>1</td>\n",
       "      <td>0</td>\n",
       "      <td>0</td>\n",
       "      <td>0</td>\n",
       "      <td>1</td>\n",
       "      <td>0</td>\n",
       "      <td>1</td>\n",
       "      <td>0</td>\n",
       "      <td>0</td>\n",
       "      <td>1</td>\n",
       "      <td>0</td>\n",
       "    </tr>\n",
       "    <tr>\n",
       "      <th>1203</th>\n",
       "      <td>1</td>\n",
       "      <td>0</td>\n",
       "      <td>1</td>\n",
       "      <td>0</td>\n",
       "      <td>0</td>\n",
       "      <td>0</td>\n",
       "      <td>0</td>\n",
       "      <td>0</td>\n",
       "      <td>1</td>\n",
       "      <td>0</td>\n",
       "      <td>0</td>\n",
       "      <td>1</td>\n",
       "      <td>0</td>\n",
       "      <td>0</td>\n",
       "      <td>1</td>\n",
       "      <td>0</td>\n",
       "      <td>1</td>\n",
       "      <td>1</td>\n",
       "      <td>0</td>\n",
       "      <td>0</td>\n",
       "      <td>1</td>\n",
       "      <td>0</td>\n",
       "    </tr>\n",
       "    <tr>\n",
       "      <th>1204</th>\n",
       "      <td>1</td>\n",
       "      <td>1</td>\n",
       "      <td>0</td>\n",
       "      <td>0</td>\n",
       "      <td>0</td>\n",
       "      <td>0</td>\n",
       "      <td>1</td>\n",
       "      <td>0</td>\n",
       "      <td>1</td>\n",
       "      <td>0</td>\n",
       "      <td>1</td>\n",
       "      <td>1</td>\n",
       "      <td>1</td>\n",
       "      <td>0</td>\n",
       "      <td>0</td>\n",
       "      <td>1</td>\n",
       "      <td>0</td>\n",
       "      <td>1</td>\n",
       "      <td>0</td>\n",
       "      <td>0</td>\n",
       "      <td>1</td>\n",
       "      <td>0</td>\n",
       "    </tr>\n",
       "  </tbody>\n",
       "</table>\n",
       "<p>1205 rows × 22 columns</p>\n",
       "</div>"
      ],
      "text/plain": [
       "      Gender_Girl  Age_11-15  Age_16-20  Age_21-25  Age_26-30  Age_6-10  \\\n",
       "0               0          0          0          1          0         0   \n",
       "1               1          0          0          1          0         0   \n",
       "2               1          0          1          0          0         0   \n",
       "3               1          1          0          0          0         0   \n",
       "4               1          0          1          0          0         0   \n",
       "...           ...        ...        ...        ...        ...       ...   \n",
       "1200            1          0          1          0          0         0   \n",
       "1201            1          0          1          0          0         0   \n",
       "1202            0          1          0          0          0         0   \n",
       "1203            1          0          1          0          0         0   \n",
       "1204            1          1          0          0          0         0   \n",
       "\n",
       "      Education Level_School  Education Level_University  \\\n",
       "0                          0                           1   \n",
       "1                          0                           1   \n",
       "2                          0                           0   \n",
       "3                          1                           0   \n",
       "4                          1                           0   \n",
       "...                      ...                         ...   \n",
       "1200                       0                           0   \n",
       "1201                       0                           0   \n",
       "1202                       1                           0   \n",
       "1203                       0                           0   \n",
       "1204                       1                           0   \n",
       "\n",
       "      Institution Type_Non Government  IT Student_Yes  Location_Yes  \\\n",
       "0                                   1               0             1   \n",
       "1                                   1               0             1   \n",
       "2                                   0               0             1   \n",
       "3                                   1               0             1   \n",
       "4                                   1               0             1   \n",
       "...                               ...             ...           ...   \n",
       "1200                                1               0             1   \n",
       "1201                                1               0             0   \n",
       "1202                                1               0             1   \n",
       "1203                                1               0             0   \n",
       "1204                                1               0             1   \n",
       "\n",
       "      Load-shedding_Low  Financial Condition_Poor  Financial Condition_Rich  \\\n",
       "0                     1                         0                         0   \n",
       "1                     0                         0                         0   \n",
       "2                     1                         0                         0   \n",
       "3                     1                         0                         0   \n",
       "4                     1                         1                         0   \n",
       "...                 ...                       ...                       ...   \n",
       "1200                  1                         0                         0   \n",
       "1201                  0                         0                         0   \n",
       "1202                  1                         0                         0   \n",
       "1203                  1                         0                         0   \n",
       "1204                  1                         1                         0   \n",
       "\n",
       "      Internet Type_Wifi  Network Type_3G  Network Type_4G  \\\n",
       "0                      1                0                1   \n",
       "1                      0                0                1   \n",
       "2                      1                0                1   \n",
       "3                      0                0                1   \n",
       "4                      0                1                0   \n",
       "...                  ...              ...              ...   \n",
       "1200                   1                0                1   \n",
       "1201                   1                0                1   \n",
       "1202                   0                1                0   \n",
       "1203                   1                0                1   \n",
       "1204                   0                1                0   \n",
       "\n",
       "      Class Duration_1-3  Class Duration_3-6  Self Lms_Yes  Device_Mobile  \\\n",
       "0                      0                   1             0              0   \n",
       "1                      1                   0             1              1   \n",
       "2                      1                   0             0              1   \n",
       "3                      1                   0             0              1   \n",
       "4                      0                   0             0              1   \n",
       "...                  ...                 ...           ...            ...   \n",
       "1200                   1                   0             0              1   \n",
       "1201                   0                   1             0              1   \n",
       "1202                   1                   0             0              1   \n",
       "1203                   1                   0             0              1   \n",
       "1204                   1                   0             0              1   \n",
       "\n",
       "      Device_Tab  \n",
       "0              1  \n",
       "1              0  \n",
       "2              0  \n",
       "3              0  \n",
       "4              0  \n",
       "...          ...  \n",
       "1200           0  \n",
       "1201           0  \n",
       "1202           0  \n",
       "1203           0  \n",
       "1204           0  \n",
       "\n",
       "[1205 rows x 22 columns]"
      ]
     },
     "execution_count": 74,
     "metadata": {},
     "output_type": "execute_result"
    }
   ],
   "source": [
    "xdf = pd.get_dummies(df.drop('Adaptivity Level', axis = 1), drop_first = True)\n",
    "xdf"
   ]
  },
  {
   "cell_type": "code",
   "execution_count": 75,
   "id": "d179108e",
   "metadata": {},
   "outputs": [
    {
     "data": {
      "text/plain": [
       "0       Moderate\n",
       "1       Moderate\n",
       "2       Moderate\n",
       "3       Moderate\n",
       "4            Low\n",
       "          ...   \n",
       "1200         Low\n",
       "1201    Moderate\n",
       "1202    Moderate\n",
       "1203         Low\n",
       "1204    Moderate\n",
       "Name: Adaptivity Level, Length: 1205, dtype: object"
      ]
     },
     "execution_count": 75,
     "metadata": {},
     "output_type": "execute_result"
    }
   ],
   "source": [
    "ydf = df['Adaptivity Level']\n",
    "ydf"
   ]
  },
  {
   "cell_type": "code",
   "execution_count": 76,
   "id": "cf345fa0",
   "metadata": {},
   "outputs": [],
   "source": [
    "x_train, x_test, y_train, y_test = train_test_split(xdf,ydf,test_size = 0.2, random_state = 2)"
   ]
  },
  {
   "cell_type": "code",
   "execution_count": 77,
   "id": "bac11064",
   "metadata": {},
   "outputs": [],
   "source": [
    "dtc2 = DecisionTreeClassifier()"
   ]
  },
  {
   "cell_type": "code",
   "execution_count": 78,
   "id": "2cb7f91a",
   "metadata": {},
   "outputs": [
    {
     "data": {
      "text/plain": [
       "DecisionTreeClassifier()"
      ]
     },
     "execution_count": 78,
     "metadata": {},
     "output_type": "execute_result"
    }
   ],
   "source": [
    "dtc2.fit(x_train,y_train)"
   ]
  },
  {
   "cell_type": "code",
   "execution_count": 79,
   "id": "014e0a8b",
   "metadata": {},
   "outputs": [
    {
     "data": {
      "text/plain": [
       "array([[0.        , 1.        , 0.        ],\n",
       "       [0.33333333, 0.66666667, 0.        ],\n",
       "       [0.        , 1.        , 0.        ],\n",
       "       [0.        , 1.        , 0.        ],\n",
       "       [0.        , 1.        , 0.        ],\n",
       "       [0.        , 0.        , 1.        ],\n",
       "       [0.        , 1.        , 0.        ],\n",
       "       [0.        , 0.        , 1.        ],\n",
       "       [0.        , 0.        , 1.        ],\n",
       "       [0.        , 0.        , 1.        ],\n",
       "       [0.        , 0.        , 1.        ],\n",
       "       [0.        , 0.        , 1.        ],\n",
       "       [0.        , 0.        , 1.        ],\n",
       "       [0.        , 1.        , 0.        ],\n",
       "       [0.        , 0.2173913 , 0.7826087 ],\n",
       "       [0.        , 0.72727273, 0.27272727],\n",
       "       [0.        , 1.        , 0.        ],\n",
       "       [0.        , 0.        , 1.        ],\n",
       "       [0.        , 0.66666667, 0.33333333],\n",
       "       [1.        , 0.        , 0.        ],\n",
       "       [0.        , 0.2173913 , 0.7826087 ],\n",
       "       [0.        , 1.        , 0.        ],\n",
       "       [0.        , 0.        , 1.        ],\n",
       "       [0.        , 0.66666667, 0.33333333],\n",
       "       [0.        , 0.        , 1.        ],\n",
       "       [0.        , 1.        , 0.        ],\n",
       "       [0.        , 1.        , 0.        ],\n",
       "       [0.        , 0.        , 1.        ],\n",
       "       [0.        , 0.        , 1.        ],\n",
       "       [0.        , 0.        , 1.        ],\n",
       "       [0.        , 0.        , 1.        ],\n",
       "       [0.        , 0.        , 1.        ],\n",
       "       [0.        , 0.        , 1.        ],\n",
       "       [0.        , 0.        , 1.        ],\n",
       "       [0.        , 0.        , 1.        ],\n",
       "       [0.        , 0.        , 1.        ],\n",
       "       [0.        , 0.        , 1.        ],\n",
       "       [0.        , 1.        , 0.        ],\n",
       "       [0.        , 0.        , 1.        ],\n",
       "       [0.        , 0.        , 1.        ],\n",
       "       [0.        , 0.        , 1.        ],\n",
       "       [0.        , 0.        , 1.        ],\n",
       "       [0.        , 0.66666667, 0.33333333],\n",
       "       [0.        , 1.        , 0.        ],\n",
       "       [0.        , 0.81818182, 0.18181818],\n",
       "       [0.        , 1.        , 0.        ],\n",
       "       [0.        , 0.        , 1.        ],\n",
       "       [1.        , 0.        , 0.        ],\n",
       "       [0.        , 0.        , 1.        ],\n",
       "       [0.        , 0.5       , 0.5       ],\n",
       "       [0.66666667, 0.        , 0.33333333],\n",
       "       [0.        , 0.2173913 , 0.7826087 ],\n",
       "       [0.        , 0.        , 1.        ],\n",
       "       [1.        , 0.        , 0.        ],\n",
       "       [0.        , 0.        , 1.        ],\n",
       "       [0.        , 1.        , 0.        ],\n",
       "       [0.        , 0.        , 1.        ],\n",
       "       [0.        , 1.        , 0.        ],\n",
       "       [0.        , 0.        , 1.        ],\n",
       "       [0.        , 1.        , 0.        ],\n",
       "       [1.        , 0.        , 0.        ],\n",
       "       [0.        , 0.        , 1.        ],\n",
       "       [0.        , 1.        , 0.        ],\n",
       "       [0.        , 0.2173913 , 0.7826087 ],\n",
       "       [0.        , 0.        , 1.        ],\n",
       "       [0.        , 0.66666667, 0.33333333],\n",
       "       [0.        , 0.        , 1.        ],\n",
       "       [0.        , 0.        , 1.        ],\n",
       "       [0.        , 0.        , 1.        ],\n",
       "       [0.        , 0.        , 1.        ],\n",
       "       [1.        , 0.        , 0.        ],\n",
       "       [0.        , 1.        , 0.        ],\n",
       "       [0.        , 0.        , 1.        ],\n",
       "       [0.        , 1.        , 0.        ],\n",
       "       [0.        , 0.28571429, 0.71428571],\n",
       "       [0.20512821, 0.02564103, 0.76923077],\n",
       "       [0.        , 1.        , 0.        ],\n",
       "       [0.        , 0.66666667, 0.33333333],\n",
       "       [0.20512821, 0.02564103, 0.76923077],\n",
       "       [0.        , 1.        , 0.        ],\n",
       "       [0.20512821, 0.02564103, 0.76923077],\n",
       "       [0.        , 0.        , 1.        ],\n",
       "       [0.        , 1.        , 0.        ],\n",
       "       [0.        , 1.        , 0.        ],\n",
       "       [0.        , 1.        , 0.        ],\n",
       "       [0.        , 0.        , 1.        ],\n",
       "       [0.33333333, 0.66666667, 0.        ],\n",
       "       [0.        , 0.        , 1.        ],\n",
       "       [0.        , 1.        , 0.        ],\n",
       "       [0.        , 1.        , 0.        ],\n",
       "       [0.        , 1.        , 0.        ],\n",
       "       [0.        , 0.        , 1.        ],\n",
       "       [0.        , 0.        , 1.        ],\n",
       "       [0.        , 0.65217391, 0.34782609],\n",
       "       [0.        , 1.        , 0.        ],\n",
       "       [0.        , 1.        , 0.        ],\n",
       "       [0.        , 0.        , 1.        ],\n",
       "       [1.        , 0.        , 0.        ],\n",
       "       [0.        , 0.        , 1.        ],\n",
       "       [0.        , 1.        , 0.        ],\n",
       "       [0.        , 0.        , 1.        ],\n",
       "       [1.        , 0.        , 0.        ],\n",
       "       [0.        , 0.        , 1.        ],\n",
       "       [0.        , 1.        , 0.        ],\n",
       "       [0.        , 0.        , 1.        ],\n",
       "       [0.        , 0.        , 1.        ],\n",
       "       [0.        , 1.        , 0.        ],\n",
       "       [0.        , 0.44444444, 0.55555556],\n",
       "       [0.        , 1.        , 0.        ],\n",
       "       [0.        , 0.        , 1.        ],\n",
       "       [0.        , 0.        , 1.        ],\n",
       "       [0.        , 0.        , 1.        ],\n",
       "       [0.        , 0.        , 1.        ],\n",
       "       [0.        , 0.        , 1.        ],\n",
       "       [0.        , 1.        , 0.        ],\n",
       "       [0.        , 0.        , 1.        ],\n",
       "       [0.        , 1.        , 0.        ],\n",
       "       [0.        , 0.        , 1.        ],\n",
       "       [0.        , 0.        , 1.        ],\n",
       "       [0.        , 0.        , 1.        ],\n",
       "       [0.        , 0.        , 1.        ],\n",
       "       [0.        , 0.2173913 , 0.7826087 ],\n",
       "       [0.33333333, 0.66666667, 0.        ],\n",
       "       [0.        , 0.        , 1.        ],\n",
       "       [0.        , 0.        , 1.        ],\n",
       "       [0.        , 0.        , 1.        ],\n",
       "       [0.        , 0.        , 1.        ],\n",
       "       [0.        , 1.        , 0.        ],\n",
       "       [0.        , 0.        , 1.        ],\n",
       "       [0.        , 0.        , 1.        ],\n",
       "       [0.        , 0.2173913 , 0.7826087 ],\n",
       "       [0.        , 0.        , 1.        ],\n",
       "       [0.        , 0.        , 1.        ],\n",
       "       [0.        , 0.        , 1.        ],\n",
       "       [0.        , 0.2173913 , 0.7826087 ],\n",
       "       [0.        , 0.        , 1.        ],\n",
       "       [0.        , 1.        , 0.        ],\n",
       "       [0.        , 1.        , 0.        ],\n",
       "       [0.        , 0.65217391, 0.34782609],\n",
       "       [0.        , 1.        , 0.        ],\n",
       "       [0.125     , 0.        , 0.875     ],\n",
       "       [0.        , 0.        , 1.        ],\n",
       "       [0.        , 1.        , 0.        ],\n",
       "       [0.        , 0.28571429, 0.71428571],\n",
       "       [0.        , 0.        , 1.        ],\n",
       "       [0.        , 1.        , 0.        ],\n",
       "       [0.        , 0.2173913 , 0.7826087 ],\n",
       "       [1.        , 0.        , 0.        ],\n",
       "       [0.        , 1.        , 0.        ],\n",
       "       [0.        , 1.        , 0.        ],\n",
       "       [0.        , 0.2173913 , 0.7826087 ],\n",
       "       [0.        , 0.2173913 , 0.7826087 ],\n",
       "       [1.        , 0.        , 0.        ],\n",
       "       [0.20512821, 0.02564103, 0.76923077],\n",
       "       [0.        , 1.        , 0.        ],\n",
       "       [0.        , 0.        , 1.        ],\n",
       "       [0.        , 0.        , 1.        ],\n",
       "       [0.        , 1.        , 0.        ],\n",
       "       [0.        , 1.        , 0.        ],\n",
       "       [0.        , 1.        , 0.        ],\n",
       "       [0.        , 1.        , 0.        ],\n",
       "       [0.        , 0.81818182, 0.18181818],\n",
       "       [0.        , 0.        , 1.        ],\n",
       "       [1.        , 0.        , 0.        ],\n",
       "       [0.20512821, 0.02564103, 0.76923077],\n",
       "       [0.        , 0.        , 1.        ],\n",
       "       [0.        , 0.        , 1.        ],\n",
       "       [0.        , 1.        , 0.        ],\n",
       "       [0.        , 1.        , 0.        ],\n",
       "       [0.        , 0.2173913 , 0.7826087 ],\n",
       "       [0.33333333, 0.66666667, 0.        ],\n",
       "       [0.        , 0.65217391, 0.34782609],\n",
       "       [0.        , 0.        , 1.        ],\n",
       "       [0.        , 0.        , 1.        ],\n",
       "       [0.        , 0.        , 1.        ],\n",
       "       [0.        , 1.        , 0.        ],\n",
       "       [0.        , 0.        , 1.        ],\n",
       "       [1.        , 0.        , 0.        ],\n",
       "       [0.        , 0.        , 1.        ],\n",
       "       [0.        , 1.        , 0.        ],\n",
       "       [0.        , 0.        , 1.        ],\n",
       "       [0.        , 0.81818182, 0.18181818],\n",
       "       [0.        , 0.        , 1.        ],\n",
       "       [0.        , 0.        , 1.        ],\n",
       "       [0.20512821, 0.02564103, 0.76923077],\n",
       "       [0.        , 0.66666667, 0.33333333],\n",
       "       [0.66666667, 0.        , 0.33333333],\n",
       "       [0.33333333, 0.66666667, 0.        ],\n",
       "       [0.        , 1.        , 0.        ],\n",
       "       [0.        , 1.        , 0.        ],\n",
       "       [0.        , 0.        , 1.        ],\n",
       "       [0.71428571, 0.        , 0.28571429],\n",
       "       [0.        , 0.        , 1.        ],\n",
       "       [0.20512821, 0.02564103, 0.76923077],\n",
       "       [0.        , 0.        , 1.        ],\n",
       "       [0.        , 1.        , 0.        ],\n",
       "       [0.42857143, 0.        , 0.57142857],\n",
       "       [1.        , 0.        , 0.        ],\n",
       "       [0.        , 0.        , 1.        ],\n",
       "       [0.        , 0.        , 1.        ],\n",
       "       [0.        , 0.        , 1.        ],\n",
       "       [0.66666667, 0.        , 0.33333333],\n",
       "       [0.        , 0.        , 1.        ],\n",
       "       [0.        , 0.        , 1.        ],\n",
       "       [0.        , 0.        , 1.        ],\n",
       "       [0.        , 1.        , 0.        ],\n",
       "       [0.        , 0.        , 1.        ],\n",
       "       [0.        , 0.        , 1.        ],\n",
       "       [0.        , 1.        , 0.        ],\n",
       "       [0.        , 0.        , 1.        ],\n",
       "       [0.20512821, 0.02564103, 0.76923077],\n",
       "       [1.        , 0.        , 0.        ],\n",
       "       [0.        , 0.        , 1.        ],\n",
       "       [1.        , 0.        , 0.        ],\n",
       "       [0.        , 0.        , 1.        ],\n",
       "       [0.        , 0.        , 1.        ],\n",
       "       [0.71428571, 0.        , 0.28571429],\n",
       "       [0.        , 0.65217391, 0.34782609],\n",
       "       [0.        , 0.66666667, 0.33333333],\n",
       "       [1.        , 0.        , 0.        ],\n",
       "       [0.        , 0.        , 1.        ],\n",
       "       [0.        , 0.        , 1.        ],\n",
       "       [0.        , 1.        , 0.        ],\n",
       "       [0.        , 0.        , 1.        ],\n",
       "       [1.        , 0.        , 0.        ],\n",
       "       [0.        , 1.        , 0.        ],\n",
       "       [0.        , 0.65217391, 0.34782609],\n",
       "       [0.        , 1.        , 0.        ],\n",
       "       [0.42857143, 0.        , 0.57142857],\n",
       "       [0.        , 0.        , 1.        ],\n",
       "       [0.        , 1.        , 0.        ],\n",
       "       [0.        , 1.        , 0.        ],\n",
       "       [0.        , 0.2173913 , 0.7826087 ],\n",
       "       [0.        , 0.        , 1.        ],\n",
       "       [0.20512821, 0.02564103, 0.76923077],\n",
       "       [0.        , 0.        , 1.        ],\n",
       "       [0.        , 0.        , 1.        ],\n",
       "       [0.20512821, 0.02564103, 0.76923077],\n",
       "       [0.        , 0.        , 1.        ],\n",
       "       [0.        , 0.2173913 , 0.7826087 ],\n",
       "       [0.        , 1.        , 0.        ]])"
      ]
     },
     "execution_count": 79,
     "metadata": {},
     "output_type": "execute_result"
    }
   ],
   "source": [
    "dtc2.predict_proba(x_test)"
   ]
  },
  {
   "cell_type": "code",
   "execution_count": 80,
   "id": "f2166000",
   "metadata": {},
   "outputs": [],
   "source": [
    "ydf_pred = dtc2.predict(x_test)"
   ]
  },
  {
   "cell_type": "code",
   "execution_count": 81,
   "id": "2166d32d",
   "metadata": {},
   "outputs": [
    {
     "name": "stdout",
     "output_type": "stream",
     "text": [
      "              precision    recall  f1-score   support\n",
      "\n",
      "        High       0.67      0.86      0.75        21\n",
      "         Low       0.90      0.84      0.87        85\n",
      "    Moderate       0.90      0.90      0.90       135\n",
      "\n",
      "    accuracy                           0.88       241\n",
      "   macro avg       0.82      0.87      0.84       241\n",
      "weighted avg       0.88      0.88      0.88       241\n",
      "\n"
     ]
    }
   ],
   "source": [
    "print(classification_report(ydf_pred,y_test))"
   ]
  },
  {
   "cell_type": "code",
   "execution_count": 82,
   "id": "3211b89f",
   "metadata": {},
   "outputs": [
    {
     "name": "stdout",
     "output_type": "stream",
     "text": [
      "The model accuracy came out to be : 87.55186721991701\n"
     ]
    }
   ],
   "source": [
    "print(f\"The model accuracy came out to be : {accuracy_score(ydf_pred,y_test)*100}\")"
   ]
  },
  {
   "cell_type": "markdown",
   "id": "b7f69e65",
   "metadata": {},
   "source": [
    "### As we can see that there is improved accuracy, recall, precission and F1 score in the model with duplicates, we can infer presence of data leakage and this could result into overfitting."
   ]
  },
  {
   "cell_type": "markdown",
   "id": "627ef392",
   "metadata": {},
   "source": [
    "# Making Model without duplicates but all the features"
   ]
  },
  {
   "cell_type": "code",
   "execution_count": 83,
   "id": "83bda28b",
   "metadata": {},
   "outputs": [],
   "source": [
    "x_all = pd.get_dummies(dr.drop('Adaptivity Level',axis = 1))"
   ]
  },
  {
   "cell_type": "code",
   "execution_count": 84,
   "id": "28c64175",
   "metadata": {},
   "outputs": [],
   "source": [
    "y_all = dr['Adaptivity Level']"
   ]
  },
  {
   "cell_type": "markdown",
   "id": "d2bf04af",
   "metadata": {},
   "source": [
    "### Train Test Split"
   ]
  },
  {
   "cell_type": "code",
   "execution_count": 85,
   "id": "793171d5",
   "metadata": {},
   "outputs": [],
   "source": [
    "xall_train, xall_test, yall_train, yall_test = train_test_split(x_all, y_all, test_size = 0.25, random_state = 2)"
   ]
  },
  {
   "cell_type": "code",
   "execution_count": 86,
   "id": "900e242f",
   "metadata": {},
   "outputs": [],
   "source": [
    "dtc3 = DecisionTreeClassifier(criterion = 'entropy')"
   ]
  },
  {
   "cell_type": "code",
   "execution_count": 87,
   "id": "1761e361",
   "metadata": {},
   "outputs": [
    {
     "data": {
      "text/plain": [
       "DecisionTreeClassifier(criterion='entropy')"
      ]
     },
     "execution_count": 87,
     "metadata": {},
     "output_type": "execute_result"
    }
   ],
   "source": [
    "dtc3.fit(xall_train, yall_train)"
   ]
  },
  {
   "cell_type": "code",
   "execution_count": 88,
   "id": "1901be61",
   "metadata": {},
   "outputs": [
    {
     "data": {
      "text/plain": [
       "array(['Moderate', 'Moderate', 'Low', 'Low', 'Moderate', 'Low', 'Low',\n",
       "       'High', 'Low', 'Low', 'Moderate', 'Low', 'High', 'Moderate', 'Low',\n",
       "       'Moderate', 'Low', 'Moderate', 'Low', 'Moderate', 'Low', 'Low',\n",
       "       'Low', 'Moderate', 'Low', 'Moderate', 'Low', 'Low', 'Moderate',\n",
       "       'Low', 'Low', 'Moderate', 'Low', 'Moderate', 'Moderate', 'High',\n",
       "       'Low', 'Low', 'Moderate', 'Low', 'Moderate', 'Moderate', 'Low',\n",
       "       'Low', 'Low', 'Moderate', 'Low', 'Low', 'Low', 'Low', 'Low', 'Low',\n",
       "       'Moderate', 'Moderate', 'High', 'Moderate', 'Low', 'Moderate',\n",
       "       'High', 'Low', 'Low', 'Low', 'Moderate', 'Low'], dtype=object)"
      ]
     },
     "execution_count": 88,
     "metadata": {},
     "output_type": "execute_result"
    }
   ],
   "source": [
    "yall_pred = dtc3.predict(xall_test)\n",
    "yall_pred"
   ]
  },
  {
   "cell_type": "code",
   "execution_count": 89,
   "id": "6b338642",
   "metadata": {},
   "outputs": [
    {
     "data": {
      "text/plain": [
       "array([[0. , 0. , 1. ],\n",
       "       [0. , 0. , 1. ],\n",
       "       [0. , 1. , 0. ],\n",
       "       [0. , 1. , 0. ],\n",
       "       [0. , 0. , 1. ],\n",
       "       [0. , 1. , 0. ],\n",
       "       [0. , 1. , 0. ],\n",
       "       [1. , 0. , 0. ],\n",
       "       [0. , 0.5, 0.5],\n",
       "       [0. , 0.5, 0.5],\n",
       "       [0. , 0. , 1. ],\n",
       "       [0. , 1. , 0. ],\n",
       "       [1. , 0. , 0. ],\n",
       "       [0. , 0. , 1. ],\n",
       "       [0. , 1. , 0. ],\n",
       "       [0. , 0. , 1. ],\n",
       "       [0. , 1. , 0. ],\n",
       "       [0. , 0. , 1. ],\n",
       "       [0. , 1. , 0. ],\n",
       "       [0. , 0. , 1. ],\n",
       "       [0. , 1. , 0. ],\n",
       "       [0. , 0.5, 0.5],\n",
       "       [0. , 1. , 0. ],\n",
       "       [0. , 0. , 1. ],\n",
       "       [0. , 1. , 0. ],\n",
       "       [0. , 0. , 1. ],\n",
       "       [0. , 1. , 0. ],\n",
       "       [0. , 1. , 0. ],\n",
       "       [0. , 0. , 1. ],\n",
       "       [0. , 1. , 0. ],\n",
       "       [0. , 1. , 0. ],\n",
       "       [0. , 0. , 1. ],\n",
       "       [0. , 1. , 0. ],\n",
       "       [0. , 0. , 1. ],\n",
       "       [0. , 0. , 1. ],\n",
       "       [1. , 0. , 0. ],\n",
       "       [0. , 1. , 0. ],\n",
       "       [0. , 1. , 0. ],\n",
       "       [0. , 0. , 1. ],\n",
       "       [0. , 1. , 0. ],\n",
       "       [0. , 0. , 1. ],\n",
       "       [0. , 0. , 1. ],\n",
       "       [0. , 1. , 0. ],\n",
       "       [0. , 1. , 0. ],\n",
       "       [0. , 0.5, 0.5],\n",
       "       [0. , 0. , 1. ],\n",
       "       [0. , 0.5, 0.5],\n",
       "       [0. , 1. , 0. ],\n",
       "       [0. , 0.5, 0.5],\n",
       "       [0. , 1. , 0. ],\n",
       "       [0. , 1. , 0. ],\n",
       "       [0. , 1. , 0. ],\n",
       "       [0. , 0. , 1. ],\n",
       "       [0. , 0. , 1. ],\n",
       "       [0.5, 0.5, 0. ],\n",
       "       [0. , 0. , 1. ],\n",
       "       [0. , 1. , 0. ],\n",
       "       [0. , 0. , 1. ],\n",
       "       [1. , 0. , 0. ],\n",
       "       [0. , 0.5, 0.5],\n",
       "       [0. , 1. , 0. ],\n",
       "       [0. , 1. , 0. ],\n",
       "       [0. , 0. , 1. ],\n",
       "       [0. , 1. , 0. ]])"
      ]
     },
     "execution_count": 89,
     "metadata": {},
     "output_type": "execute_result"
    }
   ],
   "source": [
    "dtc3.predict_proba(xall_test)"
   ]
  },
  {
   "cell_type": "code",
   "execution_count": 90,
   "id": "0dcd2b05",
   "metadata": {},
   "outputs": [
    {
     "name": "stdout",
     "output_type": "stream",
     "text": [
      "              precision    recall  f1-score   support\n",
      "\n",
      "        High       0.17      0.20      0.18         5\n",
      "         Low       0.76      0.61      0.68        36\n",
      "    Moderate       0.48      0.61      0.54        23\n",
      "\n",
      "    accuracy                           0.58        64\n",
      "   macro avg       0.47      0.47      0.47        64\n",
      "weighted avg       0.61      0.58      0.59        64\n",
      "\n"
     ]
    }
   ],
   "source": [
    "print(classification_report(yall_pred, yall_test))"
   ]
  },
  {
   "cell_type": "code",
   "execution_count": 91,
   "id": "a13ca679",
   "metadata": {},
   "outputs": [
    {
     "name": "stdout",
     "output_type": "stream",
     "text": [
      "Accuracy    :  57.8125 %\n"
     ]
    }
   ],
   "source": [
    "print('Accuracy    : ',accuracy_score(yall_pred,yall_test)*100,'%')"
   ]
  },
  {
   "cell_type": "markdown",
   "id": "13a5be85",
   "metadata": {},
   "source": [
    "As we can see that using all the feature (Significant + Insignificant) is making our model perform worse"
   ]
  },
  {
   "cell_type": "markdown",
   "id": "4cae9a0d",
   "metadata": {},
   "source": [
    "## Random Forest Model"
   ]
  },
  {
   "cell_type": "code",
   "execution_count": 92,
   "id": "6735bba2",
   "metadata": {},
   "outputs": [],
   "source": [
    "from sklearn.ensemble import RandomForestClassifier"
   ]
  },
  {
   "cell_type": "code",
   "execution_count": 93,
   "id": "c0bd1fd7",
   "metadata": {},
   "outputs": [],
   "source": [
    "rfc = RandomForestClassifier(criterion = 'entropy', random_state = 2)"
   ]
  },
  {
   "cell_type": "code",
   "execution_count": 94,
   "id": "b3e36308",
   "metadata": {},
   "outputs": [],
   "source": [
    "x_train, x_test, y_train, y_test = train_test_split(X, y, test_size = 0.25, random_state = 2, stratify = y)"
   ]
  },
  {
   "cell_type": "code",
   "execution_count": 95,
   "id": "d1695c78",
   "metadata": {},
   "outputs": [
    {
     "data": {
      "text/plain": [
       "RandomForestClassifier(criterion='entropy', random_state=2)"
      ]
     },
     "execution_count": 95,
     "metadata": {},
     "output_type": "execute_result"
    }
   ],
   "source": [
    "rfc.fit(x_train, y_train)"
   ]
  },
  {
   "cell_type": "code",
   "execution_count": 96,
   "id": "49f5102a",
   "metadata": {},
   "outputs": [
    {
     "data": {
      "text/plain": [
       "array(['Moderate', 'Moderate', 'Moderate', 'Moderate', 'Moderate',\n",
       "       'Moderate', 'Moderate', 'Moderate', 'Moderate', 'Moderate',\n",
       "       'Moderate', 'Moderate', 'Low', 'Low', 'Moderate', 'Moderate',\n",
       "       'Low', 'Moderate', 'Moderate', 'Low', 'Moderate', 'Low',\n",
       "       'Moderate', 'Moderate', 'Low', 'Moderate', 'Moderate', 'Moderate',\n",
       "       'Moderate', 'Moderate', 'Low', 'Moderate', 'Moderate', 'Moderate',\n",
       "       'Moderate', 'Low', 'Moderate', 'Moderate', 'Low', 'Moderate',\n",
       "       'Moderate', 'Moderate', 'Low', 'Moderate', 'Moderate', 'Low',\n",
       "       'Moderate', 'Moderate', 'Moderate', 'Low', 'Moderate', 'Moderate',\n",
       "       'Low', 'Moderate', 'Moderate', 'Moderate', 'Moderate', 'Moderate',\n",
       "       'Low', 'Low', 'Moderate', 'Low', 'Low', 'Low'], dtype=object)"
      ]
     },
     "execution_count": 96,
     "metadata": {},
     "output_type": "execute_result"
    }
   ],
   "source": [
    "y_pred = rfc.predict(x_test)\n",
    "y_pred"
   ]
  },
  {
   "cell_type": "code",
   "execution_count": 97,
   "id": "f5be47d2",
   "metadata": {},
   "outputs": [
    {
     "data": {
      "text/plain": [
       "array([[0.34143984, 0.13631616, 0.522244  ],\n",
       "       [0.02256061, 0.48392045, 0.49351894],\n",
       "       [0.32056004, 0.0063305 , 0.67310946],\n",
       "       [0.32056004, 0.0063305 , 0.67310946],\n",
       "       [0.        , 0.46519063, 0.53480937],\n",
       "       [0.12079423, 0.25877292, 0.62043284],\n",
       "       [0.12079423, 0.25877292, 0.62043284],\n",
       "       [0.00166667, 0.21075   , 0.78758333],\n",
       "       [0.34143984, 0.13631616, 0.522244  ],\n",
       "       [0.32056004, 0.0063305 , 0.67310946],\n",
       "       [0.        , 0.46519063, 0.53480937],\n",
       "       [0.        , 0.46519063, 0.53480937],\n",
       "       [0.09085759, 0.642953  , 0.26618941],\n",
       "       [0.        , 0.6745    , 0.3255    ],\n",
       "       [0.23769336, 0.38090332, 0.38140332],\n",
       "       [0.        , 0.46519063, 0.53480937],\n",
       "       [0.        , 0.65922367, 0.34077633],\n",
       "       [0.04549571, 0.24555504, 0.70894925],\n",
       "       [0.12079423, 0.25877292, 0.62043284],\n",
       "       [0.        , 0.6745    , 0.3255    ],\n",
       "       [0.23769336, 0.38090332, 0.38140332],\n",
       "       [0.09085759, 0.642953  , 0.26618941],\n",
       "       [0.23769336, 0.38090332, 0.38140332],\n",
       "       [0.07233546, 0.28147216, 0.64619238],\n",
       "       [0.00424655, 0.93165602, 0.06409743],\n",
       "       [0.12764286, 0.08236791, 0.78998923],\n",
       "       [0.06907964, 0.2687023 , 0.66221806],\n",
       "       [0.07233546, 0.28147216, 0.64619238],\n",
       "       [0.23769336, 0.38090332, 0.38140332],\n",
       "       [0.07233546, 0.28147216, 0.64619238],\n",
       "       [0.        , 0.88674534, 0.11325466],\n",
       "       [0.23769336, 0.38090332, 0.38140332],\n",
       "       [0.06907964, 0.2687023 , 0.66221806],\n",
       "       [0.06907964, 0.2687023 , 0.66221806],\n",
       "       [0.12079423, 0.25877292, 0.62043284],\n",
       "       [0.00408333, 0.50389377, 0.49202289],\n",
       "       [0.06907964, 0.2687023 , 0.66221806],\n",
       "       [0.06907964, 0.2687023 , 0.66221806],\n",
       "       [0.03221867, 0.4938571 , 0.47392422],\n",
       "       [0.23769336, 0.38090332, 0.38140332],\n",
       "       [0.34143984, 0.13631616, 0.522244  ],\n",
       "       [0.32056004, 0.0063305 , 0.67310946],\n",
       "       [0.        , 0.65922367, 0.34077633],\n",
       "       [0.04549571, 0.24555504, 0.70894925],\n",
       "       [0.        , 0.46519063, 0.53480937],\n",
       "       [0.        , 0.63463095, 0.36536905],\n",
       "       [0.32056004, 0.0063305 , 0.67310946],\n",
       "       [0.12079423, 0.25877292, 0.62043284],\n",
       "       [0.34143984, 0.13631616, 0.522244  ],\n",
       "       [0.03221867, 0.4938571 , 0.47392422],\n",
       "       [0.06907964, 0.2687023 , 0.66221806],\n",
       "       [0.        , 0.29013889, 0.70986111],\n",
       "       [0.        , 0.99      , 0.01      ],\n",
       "       [0.04549571, 0.24555504, 0.70894925],\n",
       "       [0.00666667, 0.377     , 0.61633333],\n",
       "       [0.07233546, 0.28147216, 0.64619238],\n",
       "       [0.06907964, 0.2687023 , 0.66221806],\n",
       "       [0.12079423, 0.25877292, 0.62043284],\n",
       "       [0.        , 0.79950397, 0.20049603],\n",
       "       [0.        , 0.88674534, 0.11325466],\n",
       "       [0.        , 0.46519063, 0.53480937],\n",
       "       [0.        , 0.99      , 0.01      ],\n",
       "       [0.        , 1.        , 0.        ],\n",
       "       [0.30509524, 0.68490476, 0.01      ]])"
      ]
     },
     "execution_count": 97,
     "metadata": {},
     "output_type": "execute_result"
    }
   ],
   "source": [
    "ypred_prob = rfc.predict_proba(x_test)\n",
    "ypred_prob"
   ]
  },
  {
   "cell_type": "code",
   "execution_count": 98,
   "id": "027d9a05",
   "metadata": {},
   "outputs": [
    {
     "name": "stdout",
     "output_type": "stream",
     "text": [
      "              precision    recall  f1-score   support\n",
      "\n",
      "        High       0.00      0.00      0.00         0\n",
      "         Low       0.34      0.56      0.43        18\n",
      "    Moderate       0.76      0.48      0.59        46\n",
      "\n",
      "    accuracy                           0.50        64\n",
      "   macro avg       0.37      0.34      0.34        64\n",
      "weighted avg       0.64      0.50      0.54        64\n",
      "\n"
     ]
    }
   ],
   "source": [
    "print(classification_report(y_pred, y_test))"
   ]
  },
  {
   "cell_type": "code",
   "execution_count": 99,
   "id": "d8a59b3c",
   "metadata": {},
   "outputs": [
    {
     "name": "stdout",
     "output_type": "stream",
     "text": [
      "{'bootstrap': True,\n",
      " 'ccp_alpha': 0.0,\n",
      " 'class_weight': None,\n",
      " 'criterion': 'entropy',\n",
      " 'max_depth': None,\n",
      " 'max_features': 'auto',\n",
      " 'max_leaf_nodes': None,\n",
      " 'max_samples': None,\n",
      " 'min_impurity_decrease': 0.0,\n",
      " 'min_samples_leaf': 1,\n",
      " 'min_samples_split': 2,\n",
      " 'min_weight_fraction_leaf': 0.0,\n",
      " 'n_estimators': 100,\n",
      " 'n_jobs': None,\n",
      " 'oob_score': False,\n",
      " 'random_state': 2,\n",
      " 'verbose': 0,\n",
      " 'warm_start': False}\n"
     ]
    }
   ],
   "source": [
    "from pprint import pprint\n",
    "pprint(rfc.get_params())"
   ]
  },
  {
   "cell_type": "markdown",
   "id": "bd654857",
   "metadata": {},
   "source": [
    "### Hyperparameter Tuning with Random Forest Classifier "
   ]
  },
  {
   "cell_type": "code",
   "execution_count": 100,
   "id": "a6538a74",
   "metadata": {},
   "outputs": [],
   "source": [
    "from sklearn.model_selection import RandomizedSearchCV"
   ]
  },
  {
   "cell_type": "code",
   "execution_count": 101,
   "id": "523410a7",
   "metadata": {},
   "outputs": [],
   "source": [
    "# Number of trees in random forest, So that the number of trees for the best result can be identified\n",
    "n_estimators = [int(x) for x in np.linspace(start = 200, stop = 2000, num = 10)]\n",
    "# [200, 400, 600, 800, 1000, 1200, 1400, 1600, 1800, 2000]\n",
    "\n",
    "\n",
    "# Number of features to consider at every split\n",
    "max_features = ['auto', 'sqrt']\n",
    "\n",
    "\n",
    "\n",
    "# Maximum number of levels in tree\n",
    "max_depth = [int(x) for x in np.linspace(5, 50, num = 11)]\n",
    "max_depth.append(None)\n",
    "# [5, 9, 14, 18, 23, 27, 32, 36, 41, 45, 50, None]\n",
    "\n",
    "\n",
    "\n",
    "# Minimum number of samples required to split a node\n",
    "min_samples_split = [2, 5, 8, 10]\n",
    "\n",
    "\n",
    "# Minimum number of samples required at each leaf node\n",
    "min_samples_leaf = [1, 2, 4, 6]\n",
    "\n",
    "\n",
    "# Method of selecting samples for training each tree\n",
    "bootstrap = [True, False]"
   ]
  },
  {
   "cell_type": "code",
   "execution_count": 102,
   "id": "ef8d5ea3",
   "metadata": {},
   "outputs": [
    {
     "name": "stdout",
     "output_type": "stream",
     "text": [
      "{'bootstrap': [True, False],\n",
      " 'max_depth': [5, 9, 14, 18, 23, 27, 32, 36, 41, 45, 50, None],\n",
      " 'max_features': ['auto', 'sqrt'],\n",
      " 'min_samples_leaf': [1, 2, 4, 6],\n",
      " 'min_samples_split': [2, 5, 8, 10],\n",
      " 'n_estimators': [200, 400, 600, 800, 1000, 1200, 1400, 1600, 1800, 2000]}\n"
     ]
    }
   ],
   "source": [
    "# Create the random grid\n",
    "random_grid = {\n",
    "               'n_estimators': n_estimators,\n",
    "               'max_features': max_features,\n",
    "               'max_depth': max_depth,\n",
    "               'min_samples_split': min_samples_split,\n",
    "               'min_samples_leaf': min_samples_leaf,\n",
    "               'bootstrap': bootstrap\n",
    "                }\n",
    "\n",
    "pprint(random_grid)"
   ]
  },
  {
   "cell_type": "code",
   "execution_count": 103,
   "id": "7baa4b2c",
   "metadata": {},
   "outputs": [
    {
     "name": "stdout",
     "output_type": "stream",
     "text": [
      "Fitting 3 folds for each of 100 candidates, totalling 300 fits\n"
     ]
    },
    {
     "data": {
      "text/plain": [
       "RandomizedSearchCV(cv=3,\n",
       "                   estimator=RandomForestClassifier(criterion='entropy',\n",
       "                                                    random_state=2),\n",
       "                   n_iter=100, n_jobs=-1,\n",
       "                   param_distributions={'bootstrap': [True, False],\n",
       "                                        'max_depth': [5, 9, 14, 18, 23, 27, 32,\n",
       "                                                      36, 41, 45, 50, None],\n",
       "                                        'max_features': ['auto', 'sqrt'],\n",
       "                                        'min_samples_leaf': [1, 2, 4, 6],\n",
       "                                        'min_samples_split': [2, 5, 8, 10],\n",
       "                                        'n_estimators': [200, 400, 600, 800,\n",
       "                                                         1000, 1200, 1400, 1600,\n",
       "                                                         1800, 2000]},\n",
       "                   random_state=42, verbose=2)"
      ]
     },
     "execution_count": 103,
     "metadata": {},
     "output_type": "execute_result"
    }
   ],
   "source": [
    "rfc_random = RandomizedSearchCV(estimator = rfc, param_distributions = random_grid, n_iter = 100, cv = 3, verbose=2, random_state=42, n_jobs = -1)# Fit the random search model\n",
    "rfc_random.fit(x_train, y_train)"
   ]
  },
  {
   "cell_type": "code",
   "execution_count": 104,
   "id": "ac23b06a",
   "metadata": {},
   "outputs": [],
   "source": [
    "y_pred = rfc_random.predict(x_test)"
   ]
  },
  {
   "cell_type": "code",
   "execution_count": 105,
   "id": "e293c050",
   "metadata": {},
   "outputs": [],
   "source": [
    "y_pred_proba = rfc_random.predict_proba(x_test)"
   ]
  },
  {
   "cell_type": "code",
   "execution_count": 106,
   "id": "44c1cb09",
   "metadata": {},
   "outputs": [
    {
     "name": "stdout",
     "output_type": "stream",
     "text": [
      "              precision    recall  f1-score   support\n",
      "\n",
      "        High       0.00      0.00      0.00         0\n",
      "         Low       0.41      0.50      0.45        24\n",
      "    Moderate       0.62      0.45      0.52        40\n",
      "\n",
      "    accuracy                           0.47        64\n",
      "   macro avg       0.34      0.32      0.32        64\n",
      "weighted avg       0.54      0.47      0.50        64\n",
      "\n"
     ]
    }
   ],
   "source": [
    "print(classification_report(y_pred,y_test))"
   ]
  },
  {
   "cell_type": "code",
   "execution_count": 112,
   "id": "a6d7d87a",
   "metadata": {
    "scrolled": true
   },
   "outputs": [
    {
     "name": "stdout",
     "output_type": "stream",
     "text": [
      "Accuracy Score : 46.875\n"
     ]
    }
   ],
   "source": [
    "print(f\"Accuracy Score : {accuracy_score(y_pred, y_test)*100}\")"
   ]
  },
  {
   "cell_type": "code",
   "execution_count": null,
   "id": "73a388ea",
   "metadata": {},
   "outputs": [],
   "source": []
  },
  {
   "cell_type": "code",
   "execution_count": null,
   "id": "46b39eec",
   "metadata": {},
   "outputs": [],
   "source": []
  },
  {
   "cell_type": "code",
   "execution_count": null,
   "id": "1db9b6a9",
   "metadata": {},
   "outputs": [],
   "source": []
  }
 ],
 "metadata": {
  "kernelspec": {
   "display_name": "Python 3 (ipykernel)",
   "language": "python",
   "name": "python3"
  },
  "language_info": {
   "codemirror_mode": {
    "name": "ipython",
    "version": 3
   },
   "file_extension": ".py",
   "mimetype": "text/x-python",
   "name": "python",
   "nbconvert_exporter": "python",
   "pygments_lexer": "ipython3",
   "version": "3.9.12"
  }
 },
 "nbformat": 4,
 "nbformat_minor": 5
}
